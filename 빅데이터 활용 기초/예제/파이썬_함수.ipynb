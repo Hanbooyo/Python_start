{
  "cells": [
    {
      "cell_type": "markdown",
      "metadata": {
        "id": "bZKGkTFENJX2"
      },
      "source": [
        "01 \n",
        "\n",
        "\"뉴딜\" 문자열을 화면에 출력하는 print_new() 함수를 정의하라."
      ]
    },
    {
      "cell_type": "code",
      "execution_count": 1,
      "metadata": {
        "id": "AEBlty-UNImm"
      },
      "outputs": [
        {
          "name": "stdout",
          "output_type": "stream",
          "text": [
            "뉴딜\n"
          ]
        }
      ],
      "source": [
        "def print_new(): #def (definition) 함수이름 , () 괄호\n",
        "    print(\"뉴딜\") # 수행 할 내용 작성 \n",
        "\n"
      ]
    },
    {
      "cell_type": "markdown",
      "metadata": {
        "id": "9Fno-FRnNQcX"
      },
      "source": [
        "02\n",
        "\n",
        "01번에서 정의한 함수를 호출하라."
      ]
    },
    {
      "cell_type": "code",
      "execution_count": 2,
      "metadata": {
        "id": "ho11AW3cNTrD"
      },
      "outputs": [
        {
          "name": "stdout",
          "output_type": "stream",
          "text": [
            "뉴딜\n"
          ]
        }
      ],
      "source": [
        "print_new() #함수 호출은 () 괄호 필요"
      ]
    },
    {
      "cell_type": "markdown",
      "metadata": {
        "id": "DmXnZifVNUdH"
      },
      "source": [
        "03\n",
        "\n",
        "01번에서 정의한 print_new 함수를 100번호출하라."
      ]
    },
    {
      "cell_type": "code",
      "execution_count": 3,
      "metadata": {
        "id": "pFTuFNWYNdxZ"
      },
      "outputs": [
        {
          "name": "stdout",
          "output_type": "stream",
          "text": [
            "뉴딜\n",
            "뉴딜\n",
            "뉴딜\n",
            "뉴딜\n",
            "뉴딜\n",
            "뉴딜\n",
            "뉴딜\n",
            "뉴딜\n",
            "뉴딜\n",
            "뉴딜\n",
            "뉴딜\n",
            "뉴딜\n",
            "뉴딜\n",
            "뉴딜\n",
            "뉴딜\n",
            "뉴딜\n",
            "뉴딜\n",
            "뉴딜\n",
            "뉴딜\n",
            "뉴딜\n",
            "뉴딜\n",
            "뉴딜\n",
            "뉴딜\n",
            "뉴딜\n",
            "뉴딜\n",
            "뉴딜\n",
            "뉴딜\n",
            "뉴딜\n",
            "뉴딜\n",
            "뉴딜\n",
            "뉴딜\n",
            "뉴딜\n",
            "뉴딜\n",
            "뉴딜\n",
            "뉴딜\n",
            "뉴딜\n",
            "뉴딜\n",
            "뉴딜\n",
            "뉴딜\n",
            "뉴딜\n",
            "뉴딜\n",
            "뉴딜\n",
            "뉴딜\n",
            "뉴딜\n",
            "뉴딜\n",
            "뉴딜\n",
            "뉴딜\n",
            "뉴딜\n",
            "뉴딜\n",
            "뉴딜\n",
            "뉴딜\n",
            "뉴딜\n",
            "뉴딜\n",
            "뉴딜\n",
            "뉴딜\n",
            "뉴딜\n",
            "뉴딜\n",
            "뉴딜\n",
            "뉴딜\n",
            "뉴딜\n",
            "뉴딜\n",
            "뉴딜\n",
            "뉴딜\n",
            "뉴딜\n",
            "뉴딜\n",
            "뉴딜\n",
            "뉴딜\n",
            "뉴딜\n",
            "뉴딜\n",
            "뉴딜\n",
            "뉴딜\n",
            "뉴딜\n",
            "뉴딜\n",
            "뉴딜\n",
            "뉴딜\n",
            "뉴딜\n",
            "뉴딜\n",
            "뉴딜\n",
            "뉴딜\n",
            "뉴딜\n",
            "뉴딜\n",
            "뉴딜\n",
            "뉴딜\n",
            "뉴딜\n",
            "뉴딜\n",
            "뉴딜\n",
            "뉴딜\n",
            "뉴딜\n",
            "뉴딜\n",
            "뉴딜\n",
            "뉴딜\n",
            "뉴딜\n",
            "뉴딜\n",
            "뉴딜\n",
            "뉴딜\n",
            "뉴딜\n",
            "뉴딜\n",
            "뉴딜\n",
            "뉴딜\n",
            "뉴딜\n"
          ]
        }
      ],
      "source": [
        "for i in range(0,100,1): # 0~99까지 1씩\n",
        "    print_new() # print_new() 함수 실행"
      ]
    },
    {
      "cell_type": "markdown",
      "metadata": {
        "id": "pZ9O4RqqNd_h"
      },
      "source": [
        "04\n",
        "\n",
        "\"뉴딜\" 문자열을 100번 화면에 출력하는 new_prints() 함수를 정의하라."
      ]
    },
    {
      "cell_type": "code",
      "execution_count": 7,
      "metadata": {
        "id": "gsMsYYzGPBNG"
      },
      "outputs": [
        {
          "name": "stdout",
          "output_type": "stream",
          "text": [
            "뉴딜\n",
            "뉴딜\n",
            "뉴딜\n",
            "뉴딜\n",
            "뉴딜\n",
            "뉴딜\n",
            "뉴딜\n",
            "뉴딜\n",
            "뉴딜\n",
            "뉴딜\n",
            "뉴딜\n",
            "뉴딜\n",
            "뉴딜\n",
            "뉴딜\n",
            "뉴딜\n",
            "뉴딜\n",
            "뉴딜\n",
            "뉴딜\n",
            "뉴딜\n",
            "뉴딜\n",
            "뉴딜\n",
            "뉴딜\n",
            "뉴딜\n",
            "뉴딜\n",
            "뉴딜\n",
            "뉴딜\n",
            "뉴딜\n",
            "뉴딜\n",
            "뉴딜\n",
            "뉴딜\n",
            "뉴딜\n",
            "뉴딜\n",
            "뉴딜\n",
            "뉴딜\n",
            "뉴딜\n",
            "뉴딜\n",
            "뉴딜\n",
            "뉴딜\n",
            "뉴딜\n",
            "뉴딜\n",
            "뉴딜\n",
            "뉴딜\n",
            "뉴딜\n",
            "뉴딜\n",
            "뉴딜\n",
            "뉴딜\n",
            "뉴딜\n",
            "뉴딜\n",
            "뉴딜\n",
            "뉴딜\n",
            "뉴딜\n",
            "뉴딜\n",
            "뉴딜\n",
            "뉴딜\n",
            "뉴딜\n",
            "뉴딜\n",
            "뉴딜\n",
            "뉴딜\n",
            "뉴딜\n",
            "뉴딜\n",
            "뉴딜\n",
            "뉴딜\n",
            "뉴딜\n",
            "뉴딜\n",
            "뉴딜\n",
            "뉴딜\n",
            "뉴딜\n",
            "뉴딜\n",
            "뉴딜\n",
            "뉴딜\n",
            "뉴딜\n",
            "뉴딜\n",
            "뉴딜\n",
            "뉴딜\n",
            "뉴딜\n",
            "뉴딜\n",
            "뉴딜\n",
            "뉴딜\n",
            "뉴딜\n",
            "뉴딜\n",
            "뉴딜\n",
            "뉴딜\n",
            "뉴딜\n",
            "뉴딜\n",
            "뉴딜\n",
            "뉴딜\n",
            "뉴딜\n",
            "뉴딜\n",
            "뉴딜\n",
            "뉴딜\n",
            "뉴딜\n",
            "뉴딜\n",
            "뉴딜\n",
            "뉴딜\n",
            "뉴딜\n",
            "뉴딜\n",
            "뉴딜\n",
            "뉴딜\n",
            "뉴딜\n",
            "뉴딜\n"
          ]
        }
      ],
      "source": [
        "def new_prints():\n",
        "    for i in range(0,100,1): # 0~99, 100번반복\n",
        "        print(\"뉴딜\") # 출력\n",
        "\n",
        "new_prints()\n",
        "\n"
      ]
    },
    {
      "cell_type": "markdown",
      "metadata": {
        "id": "Rihgf7vdPOP9"
      },
      "source": [
        "05\n",
        "\n",
        "아래의 에러가 발생하는 이유에 대해 설명하라.\n",
        "\n",
        "```\n",
        "hello()\n",
        "def hello():\n",
        "    print(\"Hi\")\n",
        "```\n",
        "\n",
        "실행 예\n",
        "```\n",
        "NameError: name 'hello' is not defined\n",
        "```\n"
      ]
    },
    {
      "cell_type": "code",
      "execution_count": null,
      "metadata": {
        "id": "BCF_iIVwPWfp"
      },
      "outputs": [],
      "source": [
        "#함수 정의 전에 호출했기때문에 not defined(정의 되지 않음)오류가 나게됨"
      ]
    },
    {
      "cell_type": "markdown",
      "metadata": {
        "id": "GuAAXOCAParp"
      },
      "source": [
        "06\n",
        "\n",
        "아래 코드의 실행 결과를 예측하라.\n",
        "\n",
        "```\n",
        "def message() :\n",
        "    print(\"A\")\n",
        "    print(\"B\")\n",
        "\n",
        "message()\n",
        "print(\"C\")\n",
        "message()\n",
        "```"
      ]
    },
    {
      "cell_type": "code",
      "execution_count": 5,
      "metadata": {
        "id": "FLsz-2t4PenB"
      },
      "outputs": [
        {
          "data": {
            "text/plain": [
              "'B'"
            ]
          },
          "execution_count": 5,
          "metadata": {},
          "output_type": "execute_result"
        }
      ],
      "source": [
        "\"A\" # message() 호출에서\n",
        "\"B\" # message() 호출에서\n",
        "\"C\" # print(\"C\") 에서\n",
        "\"A\" # message() 호출에서\n",
        "\"B\" # message() 호출에서"
      ]
    },
    {
      "cell_type": "markdown",
      "metadata": {
        "id": "04sl6tQyPiaZ"
      },
      "source": [
        "07\n",
        "\n",
        "아래 코드의 실행 결과를 예측하라. (읽기 어려운 코드의 예입니다.)\n",
        "\n",
        "```\n",
        "print(\"A\")\n",
        "\n",
        "def message() :\n",
        "    print(\"B\")\n",
        "\n",
        "print(\"C\")\n",
        "message()\n",
        "```"
      ]
    },
    {
      "cell_type": "code",
      "execution_count": null,
      "metadata": {
        "id": "JKVk2Aw2PmTw"
      },
      "outputs": [],
      "source": [
        "\"A\" # print(\"A\") 에서\n",
        "\"C\" # print(\"C\") 에서\n",
        "\"B\" # message() 호출에서"
      ]
    },
    {
      "cell_type": "markdown",
      "metadata": {
        "id": "-0Urje6bPm9P"
      },
      "source": [
        "08\n",
        "\n",
        "아래 코드의 실행 결과를 예측하라. (읽기 어려운 코드의 예입니다.)\n",
        "```\n",
        "print(\"A\")\n",
        "def message1() :\n",
        "    print(\"B\")\n",
        "print(\"C\")\n",
        "def message2() :\n",
        "    print(\"D\")\n",
        "message1()\n",
        "print(\"E\")\n",
        "message2()\n",
        "```"
      ]
    },
    {
      "cell_type": "code",
      "execution_count": null,
      "metadata": {
        "id": "quw5X00dPq1Q"
      },
      "outputs": [],
      "source": [
        "\"A\" # print(\"A\")\n",
        "\"C\" # print(\"C\")\n",
        "\"B\" # message1() 호출에서\n",
        "\"E\" # print(\"E\")\n",
        "\"D\" # message2() 호출에서"
      ]
    },
    {
      "cell_type": "markdown",
      "metadata": {
        "id": "pwMD3-S4PrTk"
      },
      "source": [
        "09\n",
        "\n",
        "아래 코드의 실행 결과를 예측하라.\n",
        "\n",
        "```\n",
        "def message1():\n",
        "    print(\"A\")\n",
        "\n",
        "def message2():\n",
        "    print(\"B\")\n",
        "    message1()\n",
        "\n",
        "message2()\n",
        "```"
      ]
    },
    {
      "cell_type": "code",
      "execution_count": null,
      "metadata": {
        "id": "De-PwqqwP0RQ"
      },
      "outputs": [],
      "source": [
        "# message2() 호출에서\n",
        "\"B\" \n",
        "# message2()안에있는 message1() 호출에서\n",
        "\"A\" "
      ]
    },
    {
      "cell_type": "markdown",
      "metadata": {
        "id": "Uk2oLx17P2s7"
      },
      "source": [
        "10\n",
        "\n",
        "아래 코드의 실행 결과를 예측하라.\n",
        "\n",
        "```\n",
        "def message1():\n",
        "    print(\"A\")\n",
        "\n",
        "def message2():\n",
        "    print(\"B\")\n",
        "\n",
        "def message3():\n",
        "    for i in range (3) :\n",
        "        message2()\n",
        "        print(\"C\")\n",
        "    message1()\n",
        "\n",
        "message3()\n",
        "\n",
        "```"
      ]
    },
    {
      "cell_type": "code",
      "execution_count": null,
      "metadata": {
        "id": "OrspRUSxP6IY"
      },
      "outputs": [],
      "source": [
        "\"B\" # message3 > message2\n",
        "\"C\" # message3\n",
        "\"B\" # message3 > message2\n",
        "\"C\" # message3\n",
        "\"B\" # message3 > message2\n",
        "\"C\" # message3\n",
        "\"A\" # message3 > message 1"
      ]
    },
    {
      "cell_type": "markdown",
      "metadata": {
        "id": "AvWbaDMAP6nI"
      },
      "source": [
        "11\n",
        "\n",
        "\n",
        "함수의 호출 결과를 예측하라.\n",
        "```\n",
        "def 함수(문자열) :\n",
        "    print(문자열)\n",
        "\n",
        "함수(\"안녕\")\n",
        "함수(\"Hi\")\n",
        "```"
      ]
    },
    {
      "cell_type": "code",
      "execution_count": null,
      "metadata": {
        "id": "1Fse24b3P_uP"
      },
      "outputs": [],
      "source": [
        "\"안녕\"\n",
        "\"Hi\""
      ]
    },
    {
      "cell_type": "markdown",
      "metadata": {
        "id": "jyPw2HBcQAMi"
      },
      "source": [
        "12\n",
        "\n",
        "함수의 호출 결과를 예측하라.\n",
        "\n",
        "```\n",
        "def 함수(a, b) :\n",
        "    print(a + b)\n",
        "\n",
        "함수(3, 4)\n",
        "함수(7, 8)\n",
        "```"
      ]
    },
    {
      "cell_type": "code",
      "execution_count": null,
      "metadata": {
        "id": "ZJLPbX_zQCaf"
      },
      "outputs": [],
      "source": [
        "\"7\" # 3+4\n",
        "\"15\" # 7+8"
      ]
    },
    {
      "cell_type": "markdown",
      "metadata": {
        "id": "L2_nJyf6QEku"
      },
      "source": [
        "13\n",
        "\n",
        "아래와 같은 에러가 발생하는 원인을 설명하라.\n",
        "\n",
        "```\n",
        "def 함수(문자열) :\n",
        "    print(문자열)\n",
        "\n",
        "함수()\n",
        "```\n",
        "\n",
        "```\n",
        "TypeError: 함수() missing 1 required positional argument: '문자열'\n",
        "```"
      ]
    },
    {
      "cell_type": "code",
      "execution_count": null,
      "metadata": {
        "id": "--nJXZkxQJ-n"
      },
      "outputs": [],
      "source": [
        "#매개변수에 입력값 필요"
      ]
    },
    {
      "cell_type": "markdown",
      "metadata": {
        "id": "KOnAR360QQmx"
      },
      "source": [
        "14\n",
        "\n",
        "아래와 같은 에러가 발생하는 원인을 설명하라.\n",
        "```\n",
        "def 함수(a, b) :\n",
        "    print(a + b)\n",
        "\n",
        "함수(\"안녕\", 3)\n",
        "```"
      ]
    },
    {
      "cell_type": "code",
      "execution_count": null,
      "metadata": {
        "id": "VLwkbpheQT0e"
      },
      "outputs": [],
      "source": [
        "# 입력 형이 다르기때문에 생기는 오류"
      ]
    },
    {
      "cell_type": "markdown",
      "metadata": {
        "id": "HpDVku90QUr3"
      },
      "source": [
        "15\n",
        "\n",
        "하나의 문자를 입력받아 문자열 끝에 \":D\" 스마일 문자열을 이어 붙여 출력하는 print_with_smile 함수를 정의하라."
      ]
    },
    {
      "cell_type": "code",
      "execution_count": 7,
      "metadata": {
        "id": "JWZ1Ar4KQW3O"
      },
      "outputs": [
        {
          "name": "stdout",
          "output_type": "stream",
          "text": [
            "Hi:D\n"
          ]
        }
      ],
      "source": [
        "def print_with_smile(A): #A는 매개변수\n",
        "    print(A+\":D\") # A문자열을 매개변수로 받아서 뒤에 :D 추가해 출력\n",
        "\n",
        "print_with_smile(\"Hi\")"
      ]
    },
    {
      "cell_type": "markdown",
      "metadata": {
        "id": "9hm2K6BaQZ-v"
      },
      "source": [
        "16\n",
        "\n",
        "15에서 정의한 함수를 호출하라. 파라미터는 \"안녕하세요\"로 입력하라.\n",
        "\n"
      ]
    },
    {
      "cell_type": "code",
      "execution_count": 9,
      "metadata": {
        "id": "XufEKUK2QdgW"
      },
      "outputs": [
        {
          "name": "stdout",
          "output_type": "stream",
          "text": [
            "안녕하세요:D\n"
          ]
        }
      ],
      "source": [
        "def print_with_smile(A): #A는 매개변수\n",
        "    print(A+\":D\") # A문자열을 매개변수로 받아서 뒤에 :D 추가해 출력\n",
        "\n",
        "print_with_smile(\"안녕하세요\")"
      ]
    },
    {
      "cell_type": "markdown",
      "metadata": {
        "id": "3lUj5hXRQfI-"
      },
      "source": [
        "17\n",
        "\n",
        "현재 가격을 입력 받아 상한가 (30%)를 출력하는 print_upper_price 함수를 정의하라."
      ]
    },
    {
      "cell_type": "code",
      "execution_count": 9,
      "metadata": {
        "id": "NG28myQ9QhI-"
      },
      "outputs": [
        {
          "name": "stdout",
          "output_type": "stream",
          "text": [
            "13000.0\n"
          ]
        }
      ],
      "source": [
        "def print_upper_price(price): #매개변수로 값 입력받음\n",
        "    print(price*1.3) # 입력받은 값에 30% 곱해서 출력\n",
        "\n",
        "print_upper_price(10000)"
      ]
    },
    {
      "cell_type": "markdown",
      "metadata": {
        "id": "jRC8OmBEQhhH"
      },
      "source": [
        "18\n",
        "\n",
        "두 개의 숫자를 입력받아 두 수의 합을 출력하는 print_sum 함수를 정의하라."
      ]
    },
    {
      "cell_type": "code",
      "execution_count": null,
      "metadata": {
        "id": "wzPmXmzwQi_F"
      },
      "outputs": [],
      "source": [
        "def print_sum(a,b): # a, b 두개의 매개변수\n",
        "    print(a+b) # 매개변수끼리 합"
      ]
    },
    {
      "cell_type": "markdown",
      "metadata": {
        "id": "K117rkfdQkUY"
      },
      "source": [
        "19\n",
        "\n",
        "두 개의 숫자를 입력받아 합/차/곱/나눗셈을 출력하는 print_arithmetic_operation 함수를 작성하라."
      ]
    },
    {
      "cell_type": "code",
      "execution_count": 11,
      "metadata": {
        "id": "I3vzkMYhQkhu"
      },
      "outputs": [],
      "source": [
        "def print_arithmetic_operation(a,b): # a, b 두개의 매개변수\n",
        "    print(\"합:\",a+b) # 매개변수들간 연산\n",
        "    print(\"차:\",a-b) # 매개변수들간 연산\n",
        "    print(\"곱:\",a*b) # 매개변수들간 연산\n",
        "    print(\"나눗셈:\",a/b) # 매개변수들간 연산"
      ]
    },
    {
      "cell_type": "markdown",
      "metadata": {
        "id": "yjKnZeeXQmxz"
      },
      "source": [
        "20\n",
        "\n",
        "세 개의 숫자를 입력받아 가장 큰수를 출력하는 print_max 함수를 정의하라. 단 if 문을 사용해서 수를 비교하라."
      ]
    },
    {
      "cell_type": "code",
      "execution_count": 12,
      "metadata": {
        "id": "pghd6Rs1QnWN"
      },
      "outputs": [
        {
          "name": "stdout",
          "output_type": "stream",
          "text": [
            "30\n"
          ]
        }
      ],
      "source": [
        "def print_max(a,b,c): # a b c 세 개의 매개변수\n",
        "    if a>b and a>c: #각각 조건식 활용 최대값 확인\n",
        "        print(a)\n",
        "    elif b>c and b>a:\n",
        "        print(b)\n",
        "    elif c>a and c>b:\n",
        "        print(c)\n",
        "\n",
        "print_max(10,20,30)\n",
        "\n",
        "def print_max(a,b,c): # a b c 세 개의 매개변수\n",
        "    max_value =0 #max_Value라는 변수 활용해 최대값 저장\n",
        "    if a> max_value:\n",
        "        max_value=a\n",
        "    if b> max_value:  #각각 조건식 활용 최대값 확인\n",
        "        max_value=b\n",
        "    if c> max_value:\n",
        "        max_value=c\n",
        "    print(max_value) # max value 리턴\n"
      ]
    },
    {
      "cell_type": "markdown",
      "metadata": {
        "id": "2069nKrUQooZ"
      },
      "source": [
        "21\n",
        "\n",
        "입력된 문자열을 역순으로 출력하는 print_reverse 함수를 정의하라.\n",
        "\n",
        "```\n",
        "print_reverse(\"python\")\n",
        "```\n",
        "\n",
        "```\n",
        "nohtyp\n",
        "```"
      ]
    },
    {
      "cell_type": "code",
      "execution_count": 18,
      "metadata": {
        "id": "F6KF7nKUQuVt"
      },
      "outputs": [
        {
          "name": "stdout",
          "output_type": "stream",
          "text": [
            "nohtyp\n"
          ]
        }
      ],
      "source": [
        "def print_reverse(a): #문자열을 받을 매개변수\n",
        "    print(a[::-1]) # 역순으로 출력\n",
        "    #for i in range(len(s)-1,-1,-1):\n",
        "    #print(s[i], end=\"\")\n",
        "\n",
        "print_reverse(\"python\")\n"
      ]
    },
    {
      "cell_type": "markdown",
      "metadata": {
        "id": "I4q8JlvPQvAR"
      },
      "source": [
        "22\n",
        "\n",
        "성적 리스트를 입력 받아 평균을 출력하는 print_score 함수를 정의하라.\n",
        "```\n",
        "print_score ([1, 2, 3])\n",
        "```\n",
        "```\n",
        "2.0\n",
        "```"
      ]
    },
    {
      "cell_type": "code",
      "execution_count": 24,
      "metadata": {
        "id": "tL3eR4VCQwdk"
      },
      "outputs": [
        {
          "name": "stdout",
          "output_type": "stream",
          "text": [
            "4.5\n"
          ]
        }
      ],
      "source": [
        "def print_score(lst): #리스트를 받을 매개변수\n",
        "    s = 0;\n",
        "    for i in lst: #매개변수로 받은 리스트를 이용한 for문\n",
        "        s += i\n",
        "    print(s/len(lst)) # 합 / 리스트의 길이 = 평균\n",
        "\n",
        "    #print(sum(lst)/len(lst))\n",
        "\n",
        "print_score([1,2,3,4,5,6,7,8])"
      ]
    },
    {
      "cell_type": "markdown",
      "metadata": {
        "id": "-yvuLNj7Q8Io"
      },
      "source": [
        "23\n",
        "\n",
        "하나의 리스트를 입력받아 짝수만 화면에 출력하는 print_even 함수를 정의하라.\n",
        "```\n",
        "print_even ([1, 3, 2, 10, 12, 11, 15])\n",
        "```\n",
        "```\n",
        "2\n",
        "10\n",
        "12\n",
        "```"
      ]
    },
    {
      "cell_type": "code",
      "execution_count": 23,
      "metadata": {
        "id": "bHSSU059Q8vs"
      },
      "outputs": [
        {
          "name": "stdout",
          "output_type": "stream",
          "text": [
            "2\n",
            "4\n",
            "6\n",
            "8\n"
          ]
        }
      ],
      "source": [
        "def print_even(lst): #리스트를 입력받을 매개변수\n",
        "    for i in lst: #입력받은 리스트를 이용한 for문\n",
        "        if i%2==0: #짝수 찾기\n",
        "            print(i) # 짝수 출력\n",
        "\n",
        "print_even([1,2,3,4,5,6,7,8])"
      ]
    },
    {
      "cell_type": "markdown",
      "metadata": {
        "id": "P1XGIn-fRBHI"
      },
      "source": [
        "24\n",
        "\n",
        "하나의 딕셔너리를 입력받아 딕셔너리의 key 값을 화면에 출력하는 print_keys 함수를 정의하라.\n",
        "\n",
        "```\n",
        "print_keys ({\"이름\":\"김말똥\", \"나이\":30, \"성별\":0})\n",
        "```\n",
        "\n",
        "```\n",
        "이름\n",
        "나이\n",
        "성별\n",
        "```\n"
      ]
    },
    {
      "cell_type": "code",
      "execution_count": 13,
      "metadata": {
        "id": "OxkvLkn9RG1U"
      },
      "outputs": [
        {
          "name": "stdout",
          "output_type": "stream",
          "text": [
            "dict_keys(['이름', '나이', '성별'])\n",
            "{'이름': '김말똥', '나이': 30, '성별': 0}\n",
            "이름\n",
            "나이\n",
            "성별\n"
          ]
        }
      ],
      "source": [
        "def print_keys(dic): # 딕셔너리를 입력받을 매개변수\n",
        "    print(dic.keys()) #딕셔녀리의 키값들 출력\n",
        "    print(dic) \n",
        "    for i in dic.keys(): # 키값들만 따로 출력\n",
        "        print(i)\n",
        "\n",
        "print_keys({\"이름\":\"김말똥\", \"나이\":30, \"성별\":0})"
      ]
    },
    {
      "cell_type": "markdown",
      "metadata": {
        "id": "Ql6MrGVVRNYg"
      },
      "source": [
        "25\n",
        "\n",
        "입력 문자열을 한 줄에 다섯글자씩 출력하는 print_5xn(string) 함수를 작성하라.\n",
        "\n",
        "```\n",
        "print_5xn(\"아이엠어보이유알어걸\")\n",
        "```\n",
        "```\n",
        "아이엠어보\n",
        "이유알어걸\n",
        "```"
      ]
    },
    {
      "cell_type": "code",
      "execution_count": 17,
      "metadata": {
        "id": "GmJ6eeduRQMs"
      },
      "outputs": [
        {
          "name": "stdout",
          "output_type": "stream",
          "text": [
            "아이엠어보\n",
            "이유알어걸\n",
            "\n",
            "아이엠어보\n",
            "이유알어걸\n"
          ]
        }
      ],
      "source": [
        "def print_5xn(str):\n",
        "    for i in range(0,len(str)+1,5):\n",
        "        print(str[i:i+5])\n",
        "\n",
        "def print_ex(str):\n",
        "    line_num = int(len(str)/5)\n",
        "    for i in range(line_num):\n",
        "        print(str[i*5:i*5+5]) # 5글자를 기준으로 i*5 값이 5씩 증가하니 i*5와 i*5 의 +5 만큼씩\n",
        "\n",
        "print_5xn(\"아이엠어보이유알어걸\")\n",
        "print_ex(\"아이엠어보이유알어걸\")"
      ]
    },
    {
      "cell_type": "markdown",
      "metadata": {
        "id": "Kpk_NVYQRS5f"
      },
      "source": [
        "26\n",
        "\n",
        "문자열과 한줄에 출력될 글자 수를 입력을 받아 한 줄에 입력된 글자 수만큼 출력하는 print_mxn(string) 함수를 작성하라.\n",
        "\n",
        "```\n",
        "printmxn(\"아이엠어보이유알어걸\", 3)\n",
        "```\n",
        "```\n",
        "아이엠\n",
        "어보이\n",
        "유알어\n",
        "걸\n",
        "```"
      ]
    },
    {
      "cell_type": "code",
      "execution_count": 20,
      "metadata": {
        "id": "1-qzLC7sRVhc"
      },
      "outputs": [
        {
          "name": "stdout",
          "output_type": "stream",
          "text": [
            "아이엠\n",
            "어보이\n",
            "유알어\n",
            "걸\n",
            "아이엠\n",
            "어보이\n",
            "유알어\n",
            "걸\n"
          ]
        }
      ],
      "source": [
        "def print_mxn(str,a):\n",
        "    for i in range(0,len(str)+1,a):\n",
        "        print(str[i:i+a])\n",
        "print_mxn(\"아이엠어보이유알어걸\",3)  \n",
        "\n",
        "def print_ex(str,a): # 문자열을 입력받는 str, 글자수를 입력받을 a\n",
        "    line_num = int(len(str)/a)+1\n",
        "    for i in range(line_num):\n",
        "        print(str[i*a:i*a+a]) # a글자를 기준으로 i*a 값이 a씩 증가하니 i*a와 i*a 의 +a 만큼씩\n",
        "print_ex(\"아이엠어보이유알어걸\",3)"
      ]
    },
    {
      "cell_type": "markdown",
      "metadata": {
        "id": "OBbbhmTuSPZU"
      },
      "source": [
        "27\n",
        "\n",
        "연봉을 입력받아 월급을 계산하는 calc_monthly_salary(annual_salary) 함수를 정의하라. 회사는 연봉을 12개월로 나누어 분할 지급하며, \n",
        "\n",
        "이 때 1원 미만은 버림한다.\n",
        "\n",
        "```\n",
        "calc_monthly_salary(12000000)\n",
        "```\n",
        "```\n",
        "1000000\n",
        "```"
      ]
    },
    {
      "cell_type": "code",
      "execution_count": 5,
      "metadata": {
        "id": "fEwqkUWdSP_5"
      },
      "outputs": [
        {
          "name": "stdout",
          "output_type": "stream",
          "text": [
            "2833333\n"
          ]
        }
      ],
      "source": [
        "def calc_monthly_salary(annual_salary): #연봉 입력받음\n",
        "    print(int(annual_salary/12)) # 연봉을 12개월로 나눈값 = 월급\n",
        "\n",
        "calc_monthly_salary(34000000) "
      ]
    },
    {
      "cell_type": "markdown",
      "metadata": {
        "id": "s1BANAOvSXOZ"
      },
      "source": [
        "28\n",
        "\n",
        "아래 코드의 실행 결과를 예측하라.\n",
        "\n",
        "```\n",
        "def my_print (a, b) :\n",
        "    print(\"왼쪽:\", a)\n",
        "    print(\"오른쪽:\", b)\n",
        "\n",
        "```\n",
        "my_print(a=100, b=200)"
      ]
    },
    {
      "cell_type": "code",
      "execution_count": 6,
      "metadata": {
        "id": "ugMfvXvtSad5"
      },
      "outputs": [
        {
          "data": {
            "text/plain": [
              "'왼쪽 100'"
            ]
          },
          "execution_count": 6,
          "metadata": {},
          "output_type": "execute_result"
        }
      ],
      "source": [
        "\"왼쪽 100\" # a값에 100을 줬으니 a =100\n",
        "\"오른쪽 200\" # 마찬가지로 b는 200"
      ]
    },
    {
      "cell_type": "markdown",
      "metadata": {
        "id": "uIFN2HqSScKs"
      },
      "source": [
        "29\n",
        "\n",
        "아래 코드의 실행 결과를 예측하라.\n",
        "\n",
        "```\n",
        "def my_print (a, b) :\n",
        "    print(\"왼쪽:\", a)\n",
        "    print(\"오른쪽:\", b)\n",
        "```\n",
        "```\n",
        "my_print(b=100, a=200)\n",
        "```"
      ]
    },
    {
      "cell_type": "code",
      "execution_count": null,
      "metadata": {
        "id": "PcCCrEsOSvwg"
      },
      "outputs": [],
      "source": [
        "\"왼쪽 100\" # a는 먼저 입력받는 매개변수이므로 100\n",
        "\"오른쪽 200\" # 마찬가지로 b는 200"
      ]
    },
    {
      "cell_type": "markdown",
      "metadata": {
        "id": "6aI2IJs1Sy4m"
      },
      "source": [
        "30\n",
        "\n",
        "아래 코드를 실행한 결과를 예상하라.\n",
        "\n",
        "```\n",
        "def n_plus_1 (n) :\n",
        "    result = n + 1\n",
        "```\n",
        "```\n",
        "n_plus_1(3)\n",
        "print (result)\n",
        "```"
      ]
    },
    {
      "cell_type": "code",
      "execution_count": null,
      "metadata": {
        "id": "ZkK5seQDS6oH"
      },
      "outputs": [],
      "source": [
        "4\n",
        "\"에러\" # 지역변수"
      ]
    },
    {
      "cell_type": "markdown",
      "metadata": {
        "id": "YnxwO2HgS-6K"
      },
      "source": [
        "31\n",
        "\n",
        "문자열 하나를 입력받아 인터넷 주소를 반환하는 make_url 함수를 정의하라.\n",
        "```\n",
        "make_url(\"naver\")\n",
        "```\n",
        "```\n",
        "www.naver.com\n",
        "```"
      ]
    },
    {
      "cell_type": "code",
      "execution_count": null,
      "metadata": {
        "id": "V9zsfPGkS_c_"
      },
      "outputs": [],
      "source": [
        "def make_url(url): #url 문자열 입력받아\n",
        "    print(\"www.\"+url+\".com\") # 넣어줌"
      ]
    },
    {
      "cell_type": "markdown",
      "metadata": {
        "id": "ctVz3FNqTDaM"
      },
      "source": [
        "32\n",
        "\n",
        "문자열을 입력받아 각 문자들로 구성된 리스트로 반환하는 make_list 함수를 정의하라.\n",
        "\n",
        "```\n",
        "make_list(\"abcd\")\n",
        "```\n",
        "```\n",
        "['a', 'b', 'c', 'd']\n",
        "```"
      ]
    },
    {
      "cell_type": "code",
      "execution_count": 7,
      "metadata": {
        "id": "LlPbEv06TIJW"
      },
      "outputs": [
        {
          "name": "stdout",
          "output_type": "stream",
          "text": [
            "['a', 'n', 'a', 'c', 'o', 'n', 'd', 'a']\n"
          ]
        }
      ],
      "source": [
        "def make_list(str) : #문자열을 입력받아서\n",
        "    new_list = [] \n",
        "    for i in str: #반복문을 이용해서 \n",
        "        new_list.append(i) # 리스트에 쪼개서 append\n",
        "    return new_list\n",
        "\n",
        "print(make_list(\"anaconda\"))"
      ]
    },
    {
      "cell_type": "markdown",
      "metadata": {
        "id": "MvWSnSS2TIsY"
      },
      "source": [
        "33\n",
        "\n",
        "숫자로 구성된 하나의 리스트를 입력받아, 짝수들을 추출하여 리스트로 반환하는 pickup_even 함수를 구현하라.\n",
        "\n",
        "```\n",
        "pickup_even([3, 4, 5, 6, 7, 8])\n",
        "```\n",
        "```\n",
        "[4, 6, 8]\n",
        "```"
      ]
    },
    {
      "cell_type": "code",
      "execution_count": 9,
      "metadata": {
        "id": "WvRTasfbTMhe"
      },
      "outputs": [
        {
          "name": "stdout",
          "output_type": "stream",
          "text": [
            "[2, 4, 6]\n"
          ]
        }
      ],
      "source": [
        "def pickup_even(lst): # 리스트 입력받아\n",
        "    result = []\n",
        "    for i in lst:\n",
        "        if i%2==0: #짝수를 찾아서\n",
        "            result.append(i)  #짝수면 새 리스트에 추가\n",
        "    return result\n",
        "\n",
        "print(pickup_even([1,2,3,4,5,6,7]))"
      ]
    },
    {
      "cell_type": "markdown",
      "metadata": {
        "id": "ipEGBNRhTOZ_"
      },
      "source": [
        "34\n",
        "\n",
        "콤마가 포함된 문자열 숫자를 입력받아 정수로 변환하는 convert_int 함수를 정의하라.\n",
        "\n",
        "```\n",
        "convert_int(\"1,234,567\")\n",
        "```\n",
        "```\n",
        "1234567\n",
        "```"
      ]
    },
    {
      "cell_type": "code",
      "execution_count": 10,
      "metadata": {
        "id": "9ho3c77NTRRe"
      },
      "outputs": [
        {
          "name": "stdout",
          "output_type": "stream",
          "text": [
            "1234567\n"
          ]
        }
      ],
      "source": [
        "def convert_int(str): # 문자열을 입력받아\n",
        "    return int(str.replace(\",\",\"\")) #replace 함수를 이용해 컴마 제거\n",
        "\n",
        "print(convert_int(\"1,234,567\")) #출력"
      ]
    },
    {
      "cell_type": "markdown",
      "metadata": {
        "id": "TEKwZi1NTS_j"
      },
      "source": [
        "35\n",
        "\n",
        "아래 코드의 실행 결과를 예측하라.\n",
        "\n",
        "```\n",
        "def 함수(num) :\n",
        "    return num + 4\n",
        "\n",
        "\n",
        "a = 함수(10)\n",
        "b = 함수(a)\n",
        "c = 함수(b)\n",
        "print(c)\n",
        "```"
      ]
    },
    {
      "cell_type": "code",
      "execution_count": null,
      "metadata": {
        "id": "AeJIk70vTVbH"
      },
      "outputs": [],
      "source": [
        "# a = 14   b = 18   c = 22\n",
        "\n",
        "\"22\""
      ]
    },
    {
      "cell_type": "markdown",
      "metadata": {
        "id": "838UmNADTXK2"
      },
      "source": [
        "36\n",
        "\n",
        "아래 코드의 실행 결과를 예측하라.\n",
        "\n",
        "```\n",
        "def 함수(num) :\n",
        "    return num + 4\n",
        "\n",
        "c = 함수(함수(함수(10)))\n",
        "print(c)\n",
        "```"
      ]
    },
    {
      "cell_type": "code",
      "execution_count": null,
      "metadata": {
        "id": "l1DN9Nl3TZHO"
      },
      "outputs": [],
      "source": [
        "# 함수(함수(10)) = 함수(14) => 함수(함수(14)) => 함수(18) => 22\n",
        "\"22\""
      ]
    },
    {
      "cell_type": "markdown",
      "metadata": {
        "id": "_ffE0iAtTbve"
      },
      "source": [
        "37\n",
        "\n",
        "아래 코드의 실행 결과를 예측하라.\n",
        "\n",
        "```\n",
        "def 함수1(num) :\n",
        "    return num + 4\n",
        "\n",
        "def 함수2(num) :\n",
        "    return num * 10\n",
        "\n",
        "a = 함수1(10)\n",
        "c = 함수2(a)\n",
        "print(c)\n",
        "```"
      ]
    },
    {
      "cell_type": "code",
      "execution_count": null,
      "metadata": {
        "id": "5j8zq0skTd82"
      },
      "outputs": [],
      "source": [
        "# 함수1(10) => a = 14  => 함수2(a) = 함수2(14) => 14*10\n",
        "\n",
        "\"140\""
      ]
    },
    {
      "cell_type": "markdown",
      "metadata": {
        "id": "LXr2yvqVTgcR"
      },
      "source": [
        "38\n",
        "\n",
        "아래 코드의 실행 결과를 예측하라.\n",
        "\n",
        "```\n",
        "def 함수1(num) :\n",
        "    return num + 4\n",
        "\n",
        "def 함수2(num) :\n",
        "    num = num + 2\n",
        "    return 함수1(num)\n",
        "\n",
        "c = 함수2(10)\n",
        "print(c)\n",
        "```"
      ]
    },
    {
      "cell_type": "code",
      "execution_count": null,
      "metadata": {
        "id": "3XH601oJTjul"
      },
      "outputs": [],
      "source": [
        "# 함수2(10) => 12 => 함수1(12) => 12 + 4 = > 16\n",
        "\n",
        "\"16\" "
      ]
    },
    {
      "cell_type": "markdown",
      "metadata": {
        "id": "S2Lred36TkuA"
      },
      "source": [
        "39\n",
        "아래 코드의 실행 결과를 예측하라.\n",
        "\n",
        "```\n",
        "def 함수0(num) :\n",
        "    return num * 2\n",
        "\n",
        "def 함수1(num) :\n",
        "    return 함수0(num + 2)\n",
        "\n",
        "def 함수2(num) :\n",
        "    num = num + 10\n",
        "    return 함수1(num)\n",
        "\n",
        "c = 함수2(2)\n",
        "print(c)\n",
        "```"
      ]
    },
    {
      "cell_type": "code",
      "execution_count": null,
      "metadata": {
        "id": "HwPkba8VTqA1"
      },
      "outputs": [],
      "source": [
        "# 함수2(2) => 2 = 2 + 10 => 함수1(12) => 함수0(14) => 14* 2\n",
        "\n",
        "\"28\" "
      ]
    }
  ],
  "metadata": {
    "colab": {
      "provenance": []
    },
    "kernelspec": {
      "display_name": "Python 3",
      "name": "python3"
    },
    "language_info": {
      "codemirror_mode": {
        "name": "ipython",
        "version": 3
      },
      "file_extension": ".py",
      "mimetype": "text/x-python",
      "name": "python",
      "nbconvert_exporter": "python",
      "pygments_lexer": "ipython3",
      "version": "3.10.1"
    }
  },
  "nbformat": 4,
  "nbformat_minor": 0
}
