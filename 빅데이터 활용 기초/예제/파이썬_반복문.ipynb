{
  "cells": [
    {
      "cell_type": "markdown",
      "metadata": {
        "id": "nj3TlapiH5L7"
      },
      "source": [
        "01\n",
        "\n",
        "for문의 실행결과를 예측하라.\n",
        "\n",
        "```\n",
        "과일 = [\"사과\", \"귤\", \"수박\"]\n",
        "for 변수 in 과일:\n",
        "    print(변수)\n",
        "\n",
        "```"
      ]
    },
    {
      "cell_type": "code",
      "execution_count": null,
      "metadata": {
        "id": "daXA4ISFH4t-"
      },
      "outputs": [],
      "source": [
        "# for 변수 in 과일  => 변수는 리스트의 인자값을 받음 / 과일 => 리스트 이름\n",
        "\"사과\"\n",
        "\"귤\"\n",
        "\"수박\""
      ]
    },
    {
      "cell_type": "markdown",
      "metadata": {
        "id": "-IlHn2gZIZd_"
      },
      "source": [
        "02\n",
        "\n",
        "for문의 실행결과를 예측하라.\n",
        "\n",
        "```\n",
        "과일 = [\"사과\", \"귤\", \"수박\"]\n",
        "for 변수 in 과일:\n",
        "  print(\"#####\")\n",
        "```"
      ]
    },
    {
      "cell_type": "code",
      "execution_count": null,
      "metadata": {
        "id": "D1wrhEPoH0q4"
      },
      "outputs": [],
      "source": [
        "# 반복문은 리스트의 인자 갯수만큼 반복됨.\n",
        "\"#####\" \n",
        "\"#####\"\n",
        "\"#####\""
      ]
    },
    {
      "cell_type": "markdown",
      "metadata": {
        "id": "y63R3vi1Ie9-"
      },
      "source": [
        "03\n",
        "\n",
        "다음 for 문과 동일한 기능을 수행하는 코드를 작성하세요.\n",
        "\n",
        "```\n",
        "for 변수 in [\"A\", \"B\", \"C\"]:\n",
        "  print(변수)\n",
        "```"
      ]
    },
    {
      "cell_type": "code",
      "execution_count": null,
      "metadata": {
        "id": "HVfkYSGSIiUd"
      },
      "outputs": [],
      "source": [
        "#리스트 생성\n",
        "변수 = [\"A\", \"B\", \"C\"]\n",
        "\n",
        "#리스트의 각 인덱스를 출력 반복\n",
        "print(변수[0])\n",
        "print(변수[1])\n",
        "print(변수[2])\n",
        "\n",
        "#각각으로 나누면 이런모양\n",
        "print(\"A\")\n",
        "print(\"B\")\n",
        "print(\"C\")"
      ]
    },
    {
      "cell_type": "markdown",
      "metadata": {
        "id": "ugFsFUIOIjV2"
      },
      "source": [
        "04\n",
        "\n",
        "for문을 풀어서 동일한 동작을하는 코드를 작성하라.\n",
        "\n",
        "```\n",
        "for 변수 in [\"A\", \"B\", \"C\"]:\n",
        "  print(\"출력:\", 변수)\n",
        "```"
      ]
    },
    {
      "cell_type": "code",
      "execution_count": null,
      "metadata": {
        "id": "5elfVCaGIlu5"
      },
      "outputs": [],
      "source": [
        "#리스트\n",
        "변수 = [\"A\", \"B\", \"C\"]\n",
        "\n",
        "#각 리스트의 인자값을 차례대로 출력하는것이 반복문\n",
        "print(\"출력 : \",변수[0])\n",
        "print(\"출력 : \",변수[1])\n",
        "print(\"출력 : \",변수[2])"
      ]
    },
    {
      "cell_type": "markdown",
      "metadata": {
        "id": "LnsnBSOdInw9"
      },
      "source": [
        "05\n",
        "\n",
        "for문을 풀어서 동일한 동작을 하는 코드를 작성하라.\n",
        "\n",
        "```\n",
        "for 변수 in [\"A\", \"B\", \"C\"]:\n",
        "  b = 변수.lower()\n",
        "  print(\"변환:\", b)\n",
        "```"
      ]
    },
    {
      "cell_type": "code",
      "execution_count": null,
      "metadata": {
        "id": "1ngoFd7EIrAo"
      },
      "outputs": [],
      "source": [
        "#리스트\n",
        "변수 = [\"A\", \"B\", \"C\"]\n",
        "\n",
        "#리스트의 각 인덱스에 .lower()함수를 적용해서 b라는 변수에 담음\n",
        "b = 변수[0].lower()\n",
        "print(\"변환 : \",b)\n",
        "b = 변수[1].lower()\n",
        "print(\"변환 : \",b)\n",
        "b = 변수[2].lower()\n",
        "print(\"변환 : \",b)\n",
        "\n",
        "#한줄씩으로 각각 요약하면 다음과 같다.\n",
        "print(\"변환 : \",변수[0].lower())\n",
        "print(\"변환 : \",변수[1].lower())\n",
        "print(\"변환 : \",변수[2].lower())"
      ]
    },
    {
      "cell_type": "markdown",
      "metadata": {
        "id": "fWee8nxXItat"
      },
      "source": [
        "06\n",
        "\n",
        "다음 코드를 for문으로 작성하라.\n",
        "\n",
        "```\n",
        "변수 = 10\n",
        "print(변수)\n",
        "변수 = 20\n",
        "print(변수)\n",
        "변수 = 30\n",
        "print(변수)\n",
        "```"
      ]
    },
    {
      "cell_type": "code",
      "execution_count": 22,
      "metadata": {
        "id": "Ts11q_cRIw7Q"
      },
      "outputs": [
        {
          "name": "stdout",
          "output_type": "stream",
          "text": [
            "변수 =  10\n",
            "변수 =  20\n",
            "변수 =  30\n",
            "10\n",
            "20\n",
            "30\n"
          ]
        }
      ],
      "source": [
        "#리스트 생성 으로 하는 방법\n",
        "변수 = [10,20,30]\n",
        "for i in 변수: # 변수리스트의 각 값을 i가 받음\n",
        "    print(\"변수 = \",i) # 각각의 인덱스를 출력\n",
        "\n",
        "#리스트를 생성하지않고 하는 방법\n",
        "for i in range(10,31,10): # i 가 10부터, 31전까지, 10씩 증가\n",
        "    print(i)"
      ]
    },
    {
      "cell_type": "markdown",
      "metadata": {
        "id": "JVBw3URdIyd4"
      },
      "source": [
        "07\n",
        "\n",
        "다음 코드를 for문으로 작성하라.\n",
        "\n",
        "```\n",
        "print(10)\n",
        "print(20)\n",
        "print(30)\n",
        "```"
      ]
    },
    {
      "cell_type": "code",
      "execution_count": 2,
      "metadata": {
        "id": "XLvKeXuiI2HH"
      },
      "outputs": [
        {
          "name": "stdout",
          "output_type": "stream",
          "text": [
            "10\n",
            "20\n",
            "30\n"
          ]
        }
      ],
      "source": [
        "#변수와 반복문을 활용한 방법\n",
        "i = 10\n",
        "for j in range(3):\n",
        "    print(i)\n",
        "    i+=10\n",
        "\n",
        "#변수없이 반복문을 활용한 방법\n",
        "for i in range(10,31,10): # i 가 10부터, 31전까지, 10씩 증가\n",
        "    print(i)"
      ]
    },
    {
      "cell_type": "markdown",
      "metadata": {
        "id": "2sDzJxplI3Jx"
      },
      "source": [
        "08\n",
        "\n",
        "다음 코드를 for문으로 작성하라.\n",
        "\n",
        "```\n",
        "print(10)\n",
        "print(\"-------\")\n",
        "print(20)\n",
        "print(\"-------\")\n",
        "print(30)\n",
        "print(\"-------\")\n",
        "```"
      ]
    },
    {
      "cell_type": "code",
      "execution_count": 4,
      "metadata": {
        "id": "z-XVoPVcI6s3"
      },
      "outputs": [
        {
          "name": "stdout",
          "output_type": "stream",
          "text": [
            "10\n",
            "-------\n",
            "20\n",
            "-------\n",
            "30\n",
            "-------\n"
          ]
        }
      ],
      "source": [
        "for i in range(10,31,10): # i 가 10부터, 31전까지, 10씩 증가\n",
        "    print(i) # 총 3회 찍힘 (10,20,30)\n",
        "    print(\"-------\") # i를 찍고나서 같이 찍힘 (마찬가지로 3회)"
      ]
    },
    {
      "cell_type": "markdown",
      "metadata": {
        "id": "0oFn1hEnI-Y4"
      },
      "source": [
        "09\n",
        "\n",
        "다음 코드를 for문으로 작성하라.\n",
        "\n",
        "```\n",
        "print(\"++++\")\n",
        "print(10)\n",
        "print(20)\n",
        "print(30)\n",
        "```"
      ]
    },
    {
      "cell_type": "code",
      "execution_count": 2,
      "metadata": {
        "id": "2EHBT0GUJAa3"
      },
      "outputs": [
        {
          "name": "stdout",
          "output_type": "stream",
          "text": [
            "++++\n",
            "10\n",
            "20\n",
            "30\n"
          ]
        }
      ],
      "source": [
        "#조건문과 반복문을 활용한 방법\n",
        "for i in range(10,31,10): # i 가 10부터, 31전까지, 10씩 증가\n",
        "    if i==10: # i가 10인 첫번째만 ++++를 찍어줌\n",
        "        print(\"++++\")\n",
        "    print(i) # i 값 10 20 30 각각 출력\n"
      ]
    },
    {
      "cell_type": "markdown",
      "metadata": {
        "id": "s27YnAUAJB1q"
      },
      "source": [
        "10\n",
        "\n",
        "다음 코드를 for문으로 작성하라.\n",
        "\n",
        "```\n",
        "print(\"-------\")\n",
        "print(\"-------\")\n",
        "print(\"-------\")\n",
        "print(\"-------\")\n",
        "```"
      ]
    },
    {
      "cell_type": "code",
      "execution_count": null,
      "metadata": {
        "id": "s5YJV3lDJDwW"
      },
      "outputs": [],
      "source": [
        "for i in range(4): #4회 반복\n",
        "    print(\"-------\") # 출력"
      ]
    },
    {
      "cell_type": "markdown",
      "metadata": {
        "id": "UvtyvvC0JH5i"
      },
      "source": [
        "11\n",
        "\n",
        "다음과 같이 판매가가 저장된 리스트가 있을 때 부가세가 포함된 가격을 for 문을 사용해서 화면에 출력하라. 단 부가세는 10원으로 가정한다.\n",
        "\n",
        "```\n",
        "리스트 = [100, 200, 300]\n",
        "```\n",
        "```\n",
        "110\n",
        "210\n",
        "310\n",
        "```"
      ]
    },
    {
      "cell_type": "code",
      "execution_count": 8,
      "metadata": {
        "id": "VDjvFSV3JMHP"
      },
      "outputs": [
        {
          "name": "stdout",
          "output_type": "stream",
          "text": [
            "110\n",
            "210\n",
            "310\n"
          ]
        }
      ],
      "source": [
        "리스트 = [100, 200, 300]\n",
        "\n",
        "for i in 리스트:\n",
        "    print(i+10) # 각 값에 10을 더해서 출력"
      ]
    },
    {
      "cell_type": "markdown",
      "metadata": {
        "id": "9vHlClebJNW_"
      },
      "source": [
        "12\n",
        "\n",
        "for 문을 사용해서 리스트에 저장된 값을 다음과 같이 출력하라.\n",
        "```\n",
        "리스트 = [\"김밥\", \"라면\", \"튀김\"]\n",
        "```\n",
        "```\n",
        "오늘의 메뉴: 김밥\n",
        "오늘의 메뉴: 라면\n",
        "오늘의 메뉴: 튀김\n",
        "```"
      ]
    },
    {
      "cell_type": "code",
      "execution_count": null,
      "metadata": {
        "id": "cRjsTI40JP-n"
      },
      "outputs": [],
      "source": [
        "리스트 = [\"김밥\", \"라면\", \"튀김\"]\n",
        "\n",
        "for i in 리스트: #리스트의 각 인자값을 i가 받음\n",
        "    print(\"오늘의 메뉴 : \",i) # 각 인자값 출력"
      ]
    },
    {
      "attachments": {},
      "cell_type": "markdown",
      "metadata": {
        "id": "ta3rV3l5JSAp"
      },
      "source": [
        "13\n",
        "\n",
        "리스트에 주식 종목이름이 저장돼 있다.\n",
        "\n",
        "```\n",
        "리스트 = [\"SK하이닉스\", \"삼성전자\", \"LG전자\"]\n",
        "```\n",
        "\n",
        "저장된 문자열의 길이를 다음과 같이 출력하라.\n",
        "```\n",
        "6\n",
        "4\n",
        "4\n",
        "```"
      ]
    },
    {
      "cell_type": "code",
      "execution_count": 9,
      "metadata": {
        "id": "sUHH3BZVJVU-"
      },
      "outputs": [
        {
          "name": "stdout",
          "output_type": "stream",
          "text": [
            "6\n",
            "4\n",
            "4\n"
          ]
        }
      ],
      "source": [
        "리스트 = [\"SK하이닉스\", \"삼성전자\", \"LG전자\"]\n",
        "\n",
        "for i in 리스트: #리스트의 요소를 i에 넣어서\n",
        "    print(len(i)) #len함수 활용, 길이 출력"
      ]
    },
    {
      "cell_type": "markdown",
      "metadata": {
        "id": "a2CPgXHkJW9L"
      },
      "source": [
        "14\n",
        "\n",
        "리스트에는 동물이름이 문자열로 저장돼 있다.\n",
        "\n",
        "```\n",
        "리스트 = ['dog', 'cat', 'parrot']\n",
        "```\n",
        "\n",
        "동물 이름과 글자수를 다음과 같이 출력하라.\n",
        "\n",
        "```\n",
        "dog 3\n",
        "cat 3\n",
        "parrot 6\n",
        "```"
      ]
    },
    {
      "cell_type": "code",
      "execution_count": 10,
      "metadata": {
        "id": "EWHBV3YaJdLn"
      },
      "outputs": [
        {
          "name": "stdout",
          "output_type": "stream",
          "text": [
            "dog 3\n",
            "cat 3\n",
            "parrot 6\n"
          ]
        }
      ],
      "source": [
        "리스트 = ['dog', 'cat', 'parrot']\n",
        "\n",
        "for i in 리스트: #리스트의 요소를 i에 넣어서\n",
        "    print(i,len(i)) #len함수 활용, 길이 출력"
      ]
    },
    {
      "cell_type": "markdown",
      "metadata": {
        "id": "F9XzfitTJfKo"
      },
      "source": [
        "15\n",
        "\n",
        "리스트에 동물 이름 저장돼 있다.\n",
        "\n",
        "```\n",
        "리스트 = ['dog', 'cat', 'parrot']\n",
        "```\n",
        "for문을 사용해서 동물 이름의 첫 글자만 출력하라.\n",
        "```\n",
        "d\n",
        "c\n",
        "p\n",
        "```"
      ]
    },
    {
      "cell_type": "code",
      "execution_count": 13,
      "metadata": {
        "id": "snm3tWIjJhd-"
      },
      "outputs": [
        {
          "name": "stdout",
          "output_type": "stream",
          "text": [
            "d\n",
            "c\n",
            "p\n"
          ]
        }
      ],
      "source": [
        "리스트 = ['dog', 'cat', 'parrot']\n",
        "\n",
        "for i in 리스트:\n",
        "    print(i[0]) # string의 인덱스를 이용해  0번 인덱스 값 출력 (첫글자)"
      ]
    },
    {
      "cell_type": "markdown",
      "metadata": {
        "id": "hAynRh5oJkoC"
      },
      "source": [
        "16\n",
        "\n",
        "리스트에는 세 개의 숫자가 바인딩돼 있다.\n",
        "\n",
        "```\n",
        "리스트 = [1, 2, 3]\n",
        "```\n",
        "\n",
        "for문을 사용해서 다음과 같이 출력하라.\n",
        "```\n",
        "3 x 1\n",
        "3 x 2\n",
        "3 x 3\n",
        "```"
      ]
    },
    {
      "cell_type": "code",
      "execution_count": 15,
      "metadata": {
        "id": "bp3yhyIhJnu2"
      },
      "outputs": [
        {
          "name": "stdout",
          "output_type": "stream",
          "text": [
            "3 x 1\n",
            "3 x 2\n",
            "3 x 3\n"
          ]
        }
      ],
      "source": [
        "리스트 = [1, 2, 3]\n",
        "\n",
        "for i in 리스트: # 리스트각 요소를 순서대로 i에 담아서\n",
        "    print(\"3 x\",i) #단순 출력 반복"
      ]
    },
    {
      "cell_type": "markdown",
      "metadata": {
        "id": "YQVozpP8JpUa"
      },
      "source": [
        "17\n",
        "\n",
        "리스트에는 세 개의 숫자가 바인딩돼 있다.\n",
        "\n",
        "```\n",
        "리스트 = [1, 2, 3]\n",
        "```\n",
        "for문을 사용해서 다음과 같이 출력하라.\n",
        "```\n",
        "3 x 1 = 3\n",
        "3 x 2 = 6\n",
        "3 x 3 = 9\n",
        "```"
      ]
    },
    {
      "cell_type": "code",
      "execution_count": 17,
      "metadata": {
        "id": "nBz6rgCmJsjG"
      },
      "outputs": [
        {
          "name": "stdout",
          "output_type": "stream",
          "text": [
            "3 x 1 = 3\n",
            "3 x 2 = 6\n",
            "3 x 3 = 9\n"
          ]
        }
      ],
      "source": [
        "리스트 = [1, 2, 3]\n",
        "\n",
        "for i in 리스트: # 리스트각 요소를 순서대로 i에 담아서\n",
        "    print(\"3 x\",i,\"=\",i*3) #각 요소에 3을 곱해서 출력"
      ]
    },
    {
      "cell_type": "markdown",
      "metadata": {
        "id": "E8QtxaNXJtn6"
      },
      "source": [
        "18\n",
        "\n",
        "리스트에는 네 개의 문자열이 바인딩돼 있다.\n",
        "\n",
        "```\n",
        "리스트 = [\"가\", \"나\", \"다\", \"라\"]\n",
        "```\n",
        "for문을 사용해서 다음과 같이 출력하라.\n",
        "```\n",
        "나\n",
        "다\n",
        "라\n",
        "```"
      ]
    },
    {
      "cell_type": "code",
      "execution_count": 21,
      "metadata": {
        "id": "X7K7V6LCJwuO"
      },
      "outputs": [
        {
          "name": "stdout",
          "output_type": "stream",
          "text": [
            "나\n",
            "다\n",
            "라\n"
          ]
        }
      ],
      "source": [
        "#슬라이싱을 활용\n",
        "리스트 = [\"가\", \"나\", \"다\", \"라\"]\n",
        "\n",
        "for i in 리스트[1:]: #1번 인덱스부터 출력\n",
        "    print(i)"
      ]
    },
    {
      "cell_type": "markdown",
      "metadata": {
        "id": "4iJw6hJ4Jxzv"
      },
      "source": [
        "19\n",
        "\n",
        "리스트에는 네 개의 문자열이 바인딩돼 있다.\n",
        "```\n",
        "리스트 = [\"가\", \"나\", \"다\", \"라\"]\n",
        "```\n",
        "for문을 사용해서 다음과 같이 출력하라.\n",
        "```\n",
        "가\n",
        "다\n",
        "```"
      ]
    },
    {
      "cell_type": "code",
      "execution_count": 3,
      "metadata": {
        "id": "E4cprX7uJz8G"
      },
      "outputs": [
        {
          "name": "stdout",
          "output_type": "stream",
          "text": [
            "가\n",
            "다\n"
          ]
        }
      ],
      "source": [
        "#슬라이싱을 활용 \n",
        "리스트 = [\"가\", \"나\", \"다\", \"라\"]\n",
        "\n",
        "for i in 리스트[::2]: #0번,2번 인덱스 출력\n",
        "    print(i)\n"
      ]
    },
    {
      "cell_type": "markdown",
      "metadata": {
        "id": "epf3OrxVJ1HF"
      },
      "source": [
        "20\n",
        "\n",
        "리스트에는 네 개의 문자열이 바인딩돼 있다.\n",
        "\n",
        "```\n",
        "리스트 = [\"가\", \"나\", \"다\", \"라\"]\n",
        "```\n",
        "for문을 사용해서 다음과 같이 출력하라.\n",
        "```\n",
        "라\n",
        "다\n",
        "나\n",
        "가\n",
        "```"
      ]
    },
    {
      "cell_type": "code",
      "execution_count": 35,
      "metadata": {
        "id": "7CwSxNumJ3LW"
      },
      "outputs": [
        {
          "name": "stdout",
          "output_type": "stream",
          "text": [
            "라\n",
            "다\n",
            "나\n",
            "가\n",
            "라\n",
            "다\n",
            "나\n",
            "가\n"
          ]
        }
      ],
      "source": [
        "#슬라이싱을 활용 \n",
        "리스트 = [\"가\", \"나\", \"다\", \"라\"]\n",
        "\n",
        "for i in 리스트[::-1]: #역정렬\n",
        "    print(i)\n",
        "\n",
        "\n",
        "for i in range(len(리스트)-1,-1,-1): #길이-1 (인덱스 끝부분) , -1 뒤에서부터 , -1 (1씩 감소)\n",
        "    print(리스트[i])"
      ]
    },
    {
      "cell_type": "markdown",
      "metadata": {
        "id": "pE9fIqHDJ9s0"
      },
      "source": [
        "21\n",
        "\n",
        "리스트에는 네 개의 정수가 저장돼 있다.\n",
        "\n",
        "```\n",
        "리스트 = [3, -20, -3, 44]\n",
        "```\n",
        "\n",
        "for문을 사용해서 리스트의 음수를 출력하라.\n",
        "```\n",
        "-20\n",
        "-3\n",
        "```"
      ]
    },
    {
      "cell_type": "code",
      "execution_count": 5,
      "metadata": {
        "id": "dqe1ETKvKAlG"
      },
      "outputs": [
        {
          "name": "stdout",
          "output_type": "stream",
          "text": [
            "-20\n",
            "-3\n"
          ]
        }
      ],
      "source": [
        "리스트 = [3, -20, -3, 44]\n",
        "\n",
        "#조건문 활용\n",
        "for i in 리스트:\n",
        "    if i<0: #음수일때\n",
        "        print(i) #출력"
      ]
    },
    {
      "cell_type": "markdown",
      "metadata": {
        "id": "rPp1HHYqKCP0"
      },
      "source": [
        "22\n",
        "\n",
        "for문을 사용해서 3의 배수만을 출력하라.\n",
        "\n",
        "```\n",
        "리스트 = [3, 100, 23, 44]\n",
        "```\n",
        "```\n",
        "3\n",
        "```"
      ]
    },
    {
      "cell_type": "code",
      "execution_count": 8,
      "metadata": {
        "id": "WLQe83TpKE_1"
      },
      "outputs": [
        {
          "name": "stdout",
          "output_type": "stream",
          "text": [
            "3\n"
          ]
        }
      ],
      "source": [
        "리스트 = [3, 100, 23, 44]\n",
        "\n",
        "for i in 리스트:\n",
        "    if i%3==0: #3의 배수는 3으로 나눴을때 나머지가 없음\n",
        "        print(i) #3의 배수 출력"
      ]
    },
    {
      "cell_type": "markdown",
      "metadata": {
        "id": "sUimQT4sKGpf"
      },
      "source": [
        "23\n",
        "\n",
        "리스트에서 20 보다 작은 3의 배수를 출력하라\n",
        "```\n",
        "리스트 = [13, 21, 12, 14, 30, 18]\n",
        "```\n",
        "```\n",
        "12\n",
        "18\n",
        "```"
      ]
    },
    {
      "cell_type": "code",
      "execution_count": 9,
      "metadata": {
        "id": "APlCYIu_KJN0"
      },
      "outputs": [
        {
          "name": "stdout",
          "output_type": "stream",
          "text": [
            "12\n",
            "18\n"
          ]
        }
      ],
      "source": [
        "리스트 = [13, 21, 12, 14, 30, 18]\n",
        "\n",
        "for i in 리스트:\n",
        "    if i%3==0 and i<20: #3의 배수이면서, 20보다 작은 두가지 조건\n",
        "        print(i) # 출력"
      ]
    },
    {
      "cell_type": "markdown",
      "metadata": {
        "id": "4s0rksTRKKNS"
      },
      "source": [
        "24\n",
        "\n",
        "리스트에서 세 글자 이상의 문자를 화면에 출력하라\n",
        "\n",
        "```\n",
        "리스트 = [\"I\", \"study\", \"python\", \"language\", \"!\"]\n",
        "```\n",
        "```\n",
        "study\n",
        "python\n",
        "language\n",
        "```"
      ]
    },
    {
      "cell_type": "code",
      "execution_count": 10,
      "metadata": {
        "id": "LtTfqvmcKMzU"
      },
      "outputs": [
        {
          "name": "stdout",
          "output_type": "stream",
          "text": [
            "study\n",
            "python\n",
            "language\n"
          ]
        }
      ],
      "source": [
        "리스트 = [\"I\", \"study\", \"python\", \"language\", \"!\"]\n",
        "\n",
        "for i in 리스트:\n",
        "    if len(i)>=3: #len(i)는 i의 길이, 길이가 3이상인 i값을 찾는 조건\n",
        "        print(i)"
      ]
    },
    {
      "cell_type": "markdown",
      "metadata": {
        "id": "c5I7ebg9KOuC"
      },
      "source": [
        "25\n",
        "\n",
        "리스트에서 대문자만 화면에 출력하라.\n",
        "\n",
        "```\n",
        "리스트 = [\"A\", \"b\", \"c\", \"D\"]\n",
        "```\n",
        "```\n",
        "A\n",
        "D\n",
        "```\n",
        "(참고) isupper() 메서드는 대문자 여부를 판별합니다.\n",
        "```\n",
        ">> 변수 = \"A\"\n",
        ">> 변수.isupper()\n",
        "True\n",
        ">> 변수 = \"a\"\n",
        ">> 변수.isupper()\n",
        "False\n",
        "```"
      ]
    },
    {
      "cell_type": "code",
      "execution_count": 11,
      "metadata": {
        "id": "onxEPPu0KTIE"
      },
      "outputs": [
        {
          "name": "stdout",
          "output_type": "stream",
          "text": [
            "A\n",
            "D\n"
          ]
        }
      ],
      "source": [
        "리스트 = [\"A\", \"b\", \"c\", \"D\"]\n",
        "\n",
        "for i in 리스트:\n",
        "    if i.isupper(): # isupper() 활용 대문자면 True, 소문자면 False라서 조건문 실행X\n",
        "        print(i) # 조건충족하면 출력"
      ]
    },
    {
      "cell_type": "markdown",
      "metadata": {
        "id": "pohlP-hLKWR4"
      },
      "source": [
        "26\n",
        "\n",
        "리스트에서 소문자만 화면에 출력하라.\n",
        "\n",
        "```\n",
        "리스트 = [\"A\", \"b\", \"c\", \"D\"]\n",
        "```\n",
        "```\n",
        "b\n",
        "c\n",
        "```"
      ]
    },
    {
      "cell_type": "code",
      "execution_count": 12,
      "metadata": {
        "id": "fAWX8SMkKZaz"
      },
      "outputs": [
        {
          "name": "stdout",
          "output_type": "stream",
          "text": [
            "b\n",
            "c\n"
          ]
        }
      ],
      "source": [
        "리스트 = [\"A\", \"b\", \"c\", \"D\"]\n",
        "\n",
        "for i in 리스트:\n",
        "    if i.islower(): # islower() 활용 소문자면 True, 대문자면 False라서 조건문 실행X\n",
        "        print(i) # 조건충족하면 출력"
      ]
    },
    {
      "attachments": {},
      "cell_type": "markdown",
      "metadata": {
        "id": "Ha1hzXzgKa4-"
      },
      "source": [
        "27\n",
        "\n",
        "이름의 첫 글자를 대문자로 변경해서 출력하라.\n",
        "\n",
        "```\n",
        "리스트 = ['dog', 'cat', 'parrot']\n",
        "```\n",
        "```\n",
        "Dog\n",
        "Cat\n",
        "Parrot\n",
        "```\n",
        "(참고) upper() 메서드는 문자열을 대문자로 변경합니다.\n",
        "```\n",
        ">> 변수 = \"a\"\n",
        ">> a.upper()\n",
        "A\n",
        ">> 변수 = \"abc\"\n",
        ">> 변수.upper()\n",
        "ABC\n",
        "```"
      ]
    },
    {
      "cell_type": "code",
      "execution_count": 14,
      "metadata": {
        "id": "QI-6JVfEKesL"
      },
      "outputs": [
        {
          "name": "stdout",
          "output_type": "stream",
          "text": [
            "Dog\n",
            "Cat\n",
            "Parrot\n"
          ]
        }
      ],
      "source": [
        "리스트 = ['dog', 'cat', 'parrot']\n",
        "\n",
        "for i in 리스트: #리스트와 반복문 \n",
        "    print(i[0].upper() + i[1:]) # 각 값의 0번째 인덱스를 대문자로 + 나머지값을 합쳐서 출력"
      ]
    },
    {
      "cell_type": "markdown",
      "metadata": {
        "id": "K6BlXeW-KgkB"
      },
      "source": [
        "28\n",
        "\n",
        "파일 이름이 저장된 리스트에서 확장자를 제거하고 파일 이름만 화면에 출력하라. (힌트: split() 메서드)\n",
        "\n",
        "```\n",
        "리스트 = ['hello.py', 'ex01.py', 'intro.hwp']\n",
        "```\n",
        "```\n",
        "hello\n",
        "ex01\n",
        "intro\n",
        "```"
      ]
    },
    {
      "cell_type": "code",
      "execution_count": 15,
      "metadata": {
        "id": "6qUacxDKKku7"
      },
      "outputs": [
        {
          "name": "stdout",
          "output_type": "stream",
          "text": [
            "hello\n",
            "ex01\n",
            "intro\n"
          ]
        }
      ],
      "source": [
        "리스트 = ['hello.py', 'ex01.py', 'intro.hwp']\n",
        "\n",
        "for i in 리스트:\n",
        "    a=i.split(\".\") # i를 .을 기준으로 split 해서 a라는 변수에 담는다 (a는 리스트가 됨)\n",
        "    print(a[0]) # .앞부분인 (확장자가 제거된) 파일이름부분만 출력\n",
        "\n",
        "    #i.split(\".\")[0] 이렇게 바로 인덱싱 가능"
      ]
    },
    {
      "cell_type": "markdown",
      "metadata": {
        "id": "W-AMGKPBKl-5"
      },
      "source": [
        "29\n",
        "파일 이름이 저장된 리스트에서 확장자가 .h인 파일 이름을 출력하라.\n",
        "\n",
        "```\n",
        "리스트 = ['intra.h', 'intra.c', 'define.h', 'run.py']\n",
        "```\n",
        "```\n",
        "intra.h\n",
        "define.h\n",
        "```"
      ]
    },
    {
      "cell_type": "code",
      "execution_count": 18,
      "metadata": {
        "id": "RNTWAoItKoV7"
      },
      "outputs": [
        {
          "name": "stdout",
          "output_type": "stream",
          "text": [
            "intra.h\n",
            "define.h\n"
          ]
        }
      ],
      "source": [
        "리스트 = ['intra.h', 'intra.c', 'define.h', 'run.py']\n",
        "\n",
        "for i in 리스트:\n",
        "    a=i.split(\".\") # i를 .을 기준으로 split 해서 a라는 변수에 담는다 (a는 리스트가 됨)\n",
        "    if a[1]==\"h\": #확장자가 h와 같은지 확인\n",
        "        print(i) #조건이 충족한 i만 출력"
      ]
    },
    {
      "cell_type": "markdown",
      "metadata": {
        "id": "GxnB0sOfKpZx"
      },
      "source": [
        "30\n",
        "파일 이름이 저장된 리스트에서 확장자가 .h나 .c인 파일을 화면에 출력하라.\n",
        "\n",
        "```\n",
        "리스트 = ['intra.h', 'intra.c', 'define.h', 'run.py']\n",
        "```\n",
        "```\n",
        "intra.h\n",
        "intra.c\n",
        "define.h\n",
        "```"
      ]
    },
    {
      "cell_type": "code",
      "execution_count": 19,
      "metadata": {
        "id": "gw7SzLG3KuNa"
      },
      "outputs": [
        {
          "name": "stdout",
          "output_type": "stream",
          "text": [
            "intra.h\n",
            "intra.c\n",
            "define.h\n"
          ]
        }
      ],
      "source": [
        "리스트 = ['intra.h', 'intra.c', 'define.h', 'run.py']\n",
        "\n",
        "for i in 리스트:\n",
        "    if \".h\" in i or \".c\" in i: # .h 혹은 .c를 포함하고있는 i는 출력 (단, 이 방법은 h와 c로시작하는 다른 확장자가 있으면 출력되므로 유의)\n",
        "        print(i) #출력"
      ]
    },
    {
      "cell_type": "markdown",
      "metadata": {
        "id": "N86eI1PPKyP-"
      },
      "source": [
        "31\n",
        "\n",
        "for문과 range 구문을 사용해서 0~99까지 한 라인에 하나씩 순차적으로 출력하는 프로그램을 작성하라."
      ]
    },
    {
      "cell_type": "code",
      "execution_count": 20,
      "metadata": {
        "id": "5W6zECT9Kz-S"
      },
      "outputs": [
        {
          "name": "stdout",
          "output_type": "stream",
          "text": [
            "0\n",
            "1\n",
            "2\n",
            "3\n",
            "4\n",
            "5\n",
            "6\n",
            "7\n",
            "8\n",
            "9\n",
            "10\n",
            "11\n",
            "12\n",
            "13\n",
            "14\n",
            "15\n",
            "16\n",
            "17\n",
            "18\n",
            "19\n",
            "20\n",
            "21\n",
            "22\n",
            "23\n",
            "24\n",
            "25\n",
            "26\n",
            "27\n",
            "28\n",
            "29\n",
            "30\n",
            "31\n",
            "32\n",
            "33\n",
            "34\n",
            "35\n",
            "36\n",
            "37\n",
            "38\n",
            "39\n",
            "40\n",
            "41\n",
            "42\n",
            "43\n",
            "44\n",
            "45\n",
            "46\n",
            "47\n",
            "48\n",
            "49\n",
            "50\n",
            "51\n",
            "52\n",
            "53\n",
            "54\n",
            "55\n",
            "56\n",
            "57\n",
            "58\n",
            "59\n",
            "60\n",
            "61\n",
            "62\n",
            "63\n",
            "64\n",
            "65\n",
            "66\n",
            "67\n",
            "68\n",
            "69\n",
            "70\n",
            "71\n",
            "72\n",
            "73\n",
            "74\n",
            "75\n",
            "76\n",
            "77\n",
            "78\n",
            "79\n",
            "80\n",
            "81\n",
            "82\n",
            "83\n",
            "84\n",
            "85\n",
            "86\n",
            "87\n",
            "88\n",
            "89\n",
            "90\n",
            "91\n",
            "92\n",
            "93\n",
            "94\n",
            "95\n",
            "96\n",
            "97\n",
            "98\n"
          ]
        }
      ],
      "source": [
        "for i in range(0,100,1): # i는 0부터 시작해서 100 전(99) 까지, 1씩 증가\n",
        "    print(i)"
      ]
    },
    {
      "cell_type": "markdown",
      "metadata": {
        "id": "OLQV0U2tK0pv"
      },
      "source": [
        "32\n",
        "\n",
        "월드컵은 4년에 한 번 개최된다. range()를 사용하여 2002~2050년까지 중 월드컵이 개최되는 연도를 출력하라.\n",
        "\n",
        "```\n",
        "2002\n",
        "2006\n",
        "2010\n",
        "...\n",
        "2042\n",
        "2046\n",
        "2050\n",
        "```\n",
        "참고) range의 세번 째 파라미터는 증감폭을 결정합니다.\n",
        "```\n",
        ">> print(list(range(0, 10, 2)))\n",
        "[0, 2, 4, 6, 8]\n",
        "```"
      ]
    },
    {
      "cell_type": "code",
      "execution_count": 22,
      "metadata": {
        "id": "xwcDf1hlK5Mq"
      },
      "outputs": [
        {
          "name": "stdout",
          "output_type": "stream",
          "text": [
            "2002\n",
            "2006\n",
            "2010\n",
            "2014\n",
            "2018\n",
            "2022\n",
            "2026\n",
            "2030\n",
            "2034\n",
            "2038\n",
            "2042\n",
            "2046\n",
            "2050\n"
          ]
        }
      ],
      "source": [
        "for i in range(2002,2051,4): # 2002년부터 2051년 전까지 4년마다\n",
        "    print(i) #출력"
      ]
    },
    {
      "cell_type": "markdown",
      "metadata": {
        "id": "cd3f89TZK65s"
      },
      "source": [
        "33\n",
        "\n",
        "1부터 30까지의 숫자 중 3의 배수를 출력하라.\n",
        "\n",
        "```\n",
        "3 \n",
        "6 \n",
        "9 \n",
        "12 \n",
        "15 \n",
        "18 \n",
        "21 \n",
        "24 \n",
        "27 \n",
        "30\n",
        "```"
      ]
    },
    {
      "cell_type": "code",
      "execution_count": 23,
      "metadata": {
        "id": "6e8A_2p-K-n6"
      },
      "outputs": [
        {
          "name": "stdout",
          "output_type": "stream",
          "text": [
            "3\n",
            "6\n",
            "9\n",
            "12\n",
            "15\n",
            "18\n",
            "21\n",
            "24\n",
            "27\n",
            "30\n"
          ]
        }
      ],
      "source": [
        "for i in range(1,31,1): #1부터 31전까지 1씩증가\n",
        "    if i%3==0: #3의 배수를 찾는 조건\n",
        "        print(i) #출력"
      ]
    },
    {
      "cell_type": "markdown",
      "metadata": {
        "id": "Nc5S2O9CLAGv"
      },
      "source": [
        "34\n",
        "\n",
        "99부터 0까지 1씩 감소하는 숫자들을, 한 라인에 하나씩 출력하라."
      ]
    },
    {
      "cell_type": "code",
      "execution_count": 24,
      "metadata": {
        "id": "pZNdmathLBNy"
      },
      "outputs": [
        {
          "name": "stdout",
          "output_type": "stream",
          "text": [
            "99\n",
            "98\n",
            "97\n",
            "96\n",
            "95\n",
            "94\n",
            "93\n",
            "92\n",
            "91\n",
            "90\n",
            "89\n",
            "88\n",
            "87\n",
            "86\n",
            "85\n",
            "84\n",
            "83\n",
            "82\n",
            "81\n",
            "80\n",
            "79\n",
            "78\n",
            "77\n",
            "76\n",
            "75\n",
            "74\n",
            "73\n",
            "72\n",
            "71\n",
            "70\n",
            "69\n",
            "68\n",
            "67\n",
            "66\n",
            "65\n",
            "64\n",
            "63\n",
            "62\n",
            "61\n",
            "60\n",
            "59\n",
            "58\n",
            "57\n",
            "56\n",
            "55\n",
            "54\n",
            "53\n",
            "52\n",
            "51\n",
            "50\n",
            "49\n",
            "48\n",
            "47\n",
            "46\n",
            "45\n",
            "44\n",
            "43\n",
            "42\n",
            "41\n",
            "40\n",
            "39\n",
            "38\n",
            "37\n",
            "36\n",
            "35\n",
            "34\n",
            "33\n",
            "32\n",
            "31\n",
            "30\n",
            "29\n",
            "28\n",
            "27\n",
            "26\n",
            "25\n",
            "24\n",
            "23\n",
            "22\n",
            "21\n",
            "20\n",
            "19\n",
            "18\n",
            "17\n",
            "16\n",
            "15\n",
            "14\n",
            "13\n",
            "12\n",
            "11\n",
            "10\n",
            "9\n",
            "8\n",
            "7\n",
            "6\n",
            "5\n",
            "4\n",
            "3\n",
            "2\n",
            "1\n",
            "0\n"
          ]
        }
      ],
      "source": [
        "for i in range(99,-1,-1): # 99부터 -1전까지 1씩 감소\n",
        "    print(i)"
      ]
    },
    {
      "cell_type": "markdown",
      "metadata": {
        "id": "JgddzXfPLBk1"
      },
      "source": [
        "35\n",
        "\n",
        "for문을 사용해서 아래와 같이 출력하라.\n",
        "\n",
        "```\n",
        "0.0\n",
        "0.1\n",
        "0.2\n",
        "0.3\n",
        "0.4\n",
        "0.5\n",
        "...\n",
        "0.9\n",
        "```"
      ]
    },
    {
      "cell_type": "code",
      "execution_count": 26,
      "metadata": {
        "id": "i23O197gLHgS"
      },
      "outputs": [
        {
          "name": "stdout",
          "output_type": "stream",
          "text": [
            "0.0\n",
            "0.1\n",
            "0.2\n",
            "0.3\n",
            "0.4\n",
            "0.5\n",
            "0.6\n",
            "0.7\n",
            "0.8\n",
            "0.9\n"
          ]
        }
      ],
      "source": [
        "for i in range(0,10,1):\n",
        "    print(i/10)"
      ]
    },
    {
      "cell_type": "markdown",
      "metadata": {
        "id": "_06sP3QELH7V"
      },
      "source": [
        "36\n",
        "\n",
        "구구단 3단을 출력하라.\n",
        "```\n",
        "3x1 = 3\n",
        "3x2 = 6\n",
        "3x3 = 9\n",
        "3x4 = 12\n",
        "3x5 = 15\n",
        "3x6 = 18\n",
        "3x7 = 21\n",
        "3x8 = 24\n",
        "3x9 = 27\n",
        "```"
      ]
    },
    {
      "cell_type": "code",
      "execution_count": 43,
      "metadata": {
        "id": "mXlW43ScLLaa"
      },
      "outputs": [
        {
          "name": "stdout",
          "output_type": "stream",
          "text": [
            "3 x 1  =  3\n",
            "3 x 2  =  6\n",
            "3 x 3  =  9\n",
            "3 x 4  =  12\n",
            "3 x 5  =  15\n",
            "3 x 6  =  18\n",
            "3 x 7  =  21\n",
            "3 x 8  =  24\n",
            "3 x 9  =  27\n"
          ]
        }
      ],
      "source": [
        "for i in range(1,10,1):\n",
        "    print(\"3 x\",i,\" = \",i*3)"
      ]
    },
    {
      "cell_type": "markdown",
      "metadata": {
        "id": "7pjK7TYCLMYs"
      },
      "source": [
        "37\n",
        "\n",
        "구구단 3단을 출력하라. 단 홀수 번째만 출력한다.\n",
        "\n",
        "```\n",
        "3x1 = 3\n",
        "3x3 = 9\n",
        "3x5 = 15\n",
        "3x7 = 21\n",
        "3x9 = 27\n",
        "```"
      ]
    },
    {
      "cell_type": "code",
      "execution_count": 29,
      "metadata": {
        "id": "G4R92NLJLOUh"
      },
      "outputs": [
        {
          "name": "stdout",
          "output_type": "stream",
          "text": [
            "3 x  1  =  3\n",
            "3 x  3  =  9\n",
            "3 x  5  =  15\n",
            "3 x  7  =  21\n",
            "3 x  9  =  27\n"
          ]
        }
      ],
      "source": [
        "for i in range(1,10,2): # 2씩 증가로 홀수만\n",
        "    #if i % 2 != 0: 라는 조건식으로 해도됨\n",
        "    print(\"3 x \",i,\" = \",i*3)\n"
      ]
    },
    {
      "cell_type": "markdown",
      "metadata": {
        "id": "psl-ozEHLPgf"
      },
      "source": [
        "38\n",
        "\n",
        "1~10까지의 숫자에 대해 모두 더한 값을 출력하는 프로그램을 for 문을 사용하여 작성하라.\n",
        "\n",
        "```\n",
        "합 : 55\n",
        "```"
      ]
    },
    {
      "cell_type": "code",
      "execution_count": 30,
      "metadata": {
        "id": "7aH2pY9uLSFR"
      },
      "outputs": [
        {
          "name": "stdout",
          "output_type": "stream",
          "text": [
            "55\n"
          ]
        }
      ],
      "source": [
        "a = 0\n",
        "for i in range(1,11,1):\n",
        "    a += i\n",
        "\n",
        "print(a)"
      ]
    },
    {
      "cell_type": "markdown",
      "metadata": {
        "id": "JTW1VG-PLSij"
      },
      "source": [
        "39\n",
        "\n",
        "1~10까지의 숫자 중 모든 홀수의 합을 출력하는 프로그램을 for 문을 사용하여 작성하라.\n",
        "\n",
        "```\n",
        "합: 25\n",
        "```"
      ]
    },
    {
      "cell_type": "code",
      "execution_count": 31,
      "metadata": {
        "id": "RG66BTsiLVfh"
      },
      "outputs": [
        {
          "name": "stdout",
          "output_type": "stream",
          "text": [
            "25\n"
          ]
        }
      ],
      "source": [
        "a = 0\n",
        "for i in range(1,11,2):\n",
        "    #if i % 2 != 0: 라는 조건식으로 해도됨\n",
        "    a += i\n",
        "\n",
        "print(a)"
      ]
    },
    {
      "cell_type": "markdown",
      "metadata": {
        "id": "rU0Uwl-xLYFJ"
      },
      "source": [
        "40\n",
        "\n",
        "1~10까지의 숫자를 모두 곱한 값을 출력하는 프로그램을 for 문을 사용하여 작성하라."
      ]
    },
    {
      "cell_type": "code",
      "execution_count": 33,
      "metadata": {
        "id": "r5PwKZ_lLY8x"
      },
      "outputs": [
        {
          "name": "stdout",
          "output_type": "stream",
          "text": [
            "3628800\n"
          ]
        }
      ],
      "source": [
        "a = 1\n",
        "for i in range(1,11,1):\n",
        "    a *= i\n",
        "\n",
        "print(a)"
      ]
    },
    {
      "cell_type": "markdown",
      "metadata": {
        "id": "zIpAlzdoLbTY"
      },
      "source": [
        "41\n",
        "\n",
        "아래와 같이 리스트의 데이터를 출력하라. 단, for문과 range문을 사용하라.\n",
        "```\n",
        "price_list = [32100, 32150, 32000, 32500]\n",
        "32100\n",
        "32150\n",
        "32000\n",
        "32500\n",
        "```"
      ]
    },
    {
      "cell_type": "code",
      "execution_count": 17,
      "metadata": {
        "id": "w6QfFpJXLhct"
      },
      "outputs": [
        {
          "name": "stdout",
          "output_type": "stream",
          "text": [
            "32100\n",
            "32150\n",
            "32000\n",
            "32500\n"
          ]
        }
      ],
      "source": [
        "price_list = [32100, 32150, 32000, 32500]\n",
        "\n",
        "for i in range(len(price_list)):\n",
        "    print(price_list[i])"
      ]
    },
    {
      "cell_type": "markdown",
      "metadata": {
        "id": "bsViAc6pLi2M"
      },
      "source": [
        "42\n",
        "\n",
        "아래와 같이 리스트의 데이터를 출력하라. 단, for문과 range문을 사용하라.\n",
        "\n",
        "```\n",
        "price_list = [32100, 32150, 32000, 32500]\n",
        "0 32100\n",
        "1 32150\n",
        "2 32000\n",
        "3 32500\n",
        "```"
      ]
    },
    {
      "cell_type": "code",
      "execution_count": 44,
      "metadata": {
        "id": "Eo19w7kzLjTY"
      },
      "outputs": [
        {
          "name": "stdout",
          "output_type": "stream",
          "text": [
            "0 32100\n",
            "1 32150\n",
            "2 32000\n",
            "3 32500\n",
            "0 32100\n",
            "1 32150\n",
            "2 32000\n",
            "3 32500\n"
          ]
        }
      ],
      "source": [
        "price_list = [32100, 32150, 32000, 32500]\n",
        "\n",
        "for i in range(len(price_list)):\n",
        "    print(i,price_list[i])\n",
        "\n",
        "# unpacking\n",
        "for idx, value in enumerate(price_list):\n",
        "    print(idx, value)"
      ]
    },
    {
      "cell_type": "markdown",
      "metadata": {
        "id": "PF7H_7H_LkOU"
      },
      "source": [
        "43\n",
        "\n",
        "아래와 같이 리스트의 데이터를 출력하라. 단, for문과 range문을 사용하라.\n",
        "\n",
        "```\n",
        "price_list = [32100, 32150, 32000, 32500]\n",
        "3 32100\n",
        "2 32150\n",
        "1 32000\n",
        "0 32500\n",
        "```"
      ]
    },
    {
      "cell_type": "code",
      "execution_count": 45,
      "metadata": {
        "id": "ZA1kpp1nLnPB"
      },
      "outputs": [
        {
          "name": "stdout",
          "output_type": "stream",
          "text": [
            "3 32100\n",
            "2 32150\n",
            "1 32000\n",
            "0 32500\n",
            "0 32500\n",
            "1 32000\n",
            "2 32150\n",
            "3 32100\n"
          ]
        }
      ],
      "source": [
        "price_list = [32100, 32150, 32000, 32500]\n",
        "\n",
        "for i in range(len(price_list)):\n",
        "    print(len(price_list)-i-1,price_list[i])\n",
        "\n",
        "for i in range(len(price_list)-1,-1,-1):\n",
        "    print(3-i,price_list[i])"
      ]
    },
    {
      "cell_type": "markdown",
      "metadata": {
        "id": "_L9G3mUkLpyx"
      },
      "source": [
        "44\n",
        "\n",
        "아래와 같이 리스트의 데이터를 출력하라. 단, for문과 range문을 사용하라.\n",
        "\n",
        "```\n",
        "price_list = [32100, 32150, 32000, 32500]\n",
        "100 32150\n",
        "110 32000\n",
        "120 32500\n",
        "```"
      ]
    },
    {
      "cell_type": "code",
      "execution_count": 47,
      "metadata": {
        "id": "Gbci3jZRLsNw"
      },
      "outputs": [
        {
          "name": "stdout",
          "output_type": "stream",
          "text": [
            "110 32150\n",
            "120 32000\n",
            "130 32500\n"
          ]
        }
      ],
      "source": [
        "price_list = [32100, 32150, 32000, 32500]\n",
        "\n",
        "for i in range(1,len(price_list)):\n",
        "    print(100+i*10,price_list[i])"
      ]
    },
    {
      "cell_type": "markdown",
      "metadata": {
        "id": "8n3XqlXsLtUT"
      },
      "source": [
        "45\n",
        "\n",
        "my_list를 아래와 같이 출력하라.\n",
        "\n",
        "```\n",
        "my_list = [\"가\", \"나\", \"다\", \"라\"]\n",
        "가 나\n",
        "나 다\n",
        "다 라\n",
        "```"
      ]
    },
    {
      "cell_type": "code",
      "execution_count": 48,
      "metadata": {
        "id": "ev2lLcsrLvQx"
      },
      "outputs": [
        {
          "name": "stdout",
          "output_type": "stream",
          "text": [
            "가 나\n",
            "나 다\n",
            "다 라\n"
          ]
        }
      ],
      "source": [
        "my_list = [\"가\", \"나\", \"다\", \"라\"]\n",
        "\n",
        "for i in range(len(my_list) - 1):\n",
        "    print(my_list[i], my_list[i+1])\n"
      ]
    },
    {
      "cell_type": "markdown",
      "metadata": {
        "id": "y3_FEeI1Lzba"
      },
      "source": [
        "46\n",
        "\n",
        "리스트를 아래와 같이 출력하라.\n",
        "\n",
        "```\n",
        "my_list = [\"가\", \"나\", \"다\", \"라\", \"마\"]\n",
        "가 나 다\n",
        "나 다 라\n",
        "다 라 마\n",
        "```"
      ]
    },
    {
      "cell_type": "code",
      "execution_count": 16,
      "metadata": {
        "id": "QHwzTwexL1fY"
      },
      "outputs": [
        {
          "name": "stdout",
          "output_type": "stream",
          "text": [
            "가 나 다\n",
            "나 다 라\n",
            "다 라 마\n"
          ]
        }
      ],
      "source": [
        "my_list = [\"가\", \"나\", \"다\", \"라\", \"마\"]\n",
        "\n",
        "for i in range(len(my_list) - 2):\n",
        "    print(my_list[i], my_list[i+1], my_list[i+2])\n"
      ]
    },
    {
      "cell_type": "markdown",
      "metadata": {
        "id": "VLKZFDnKMBUL"
      },
      "source": [
        "47\n",
        "\n",
        "반복문과 range 함수를 사용해서 my_list를 아래와 같이 출력하라.\n",
        "\n",
        "```\n",
        "my_list = [\"가\", \"나\", \"다\", \"라\"]\n",
        "라 다\n",
        "다 나\n",
        "나 가\n",
        "```"
      ]
    },
    {
      "cell_type": "code",
      "execution_count": 49,
      "metadata": {
        "id": "TUfd2eVoMDSY"
      },
      "outputs": [
        {
          "name": "stdout",
          "output_type": "stream",
          "text": [
            "라 다\n",
            "다 나\n",
            "나 가\n",
            "라 다\n",
            "다 나\n",
            "나 가\n"
          ]
        }
      ],
      "source": [
        "my_list = [\"가\", \"나\", \"다\", \"라\"]\n",
        "\n",
        "for i in range(len(my_list)-1):\n",
        "    print(my_list[len(my_list)-i-1],my_list[len(my_list)-i-2])\n",
        "\n",
        "for i in range(len(my_list)-1, 0, -1):\n",
        "    print(my_list[i], my_list[i-1])"
      ]
    },
    {
      "cell_type": "markdown",
      "metadata": {
        "id": "tIBwv82dMLMP"
      },
      "source": [
        "48\n",
        "\n",
        "리스트에는 네 개의 정수가 저장되어 있다. 각각의 데이터에 대해서 자신과 우측값과의 차분값을 화면에 출력하라.\n",
        "\n",
        "```\n",
        "my_list = [100, 200, 400, 800]\n",
        "```\n",
        "예를들어 100을 기준으로 우측에 위치한 200과의 차분 값를 화면에 출력하고, 200을 기준으로 우측에 위치한 400과의 차분값을 화면에 출력한다. 이어서 400을 기준으로 우측에 위치한 800과의 차분값을 화면에 출력한다.\n",
        "```\n",
        "100\n",
        "200\n",
        "400\n",
        "```"
      ]
    },
    {
      "cell_type": "code",
      "execution_count": 33,
      "metadata": {
        "id": "qON0RdjOMPDX"
      },
      "outputs": [
        {
          "name": "stdout",
          "output_type": "stream",
          "text": [
            "100\n",
            "200\n",
            "400\n"
          ]
        }
      ],
      "source": [
        "my_list = [100, 200, 400, 800]\n",
        "\n",
        "for i in range(len(my_list)-1):\n",
        "    print(my_list[i+1]-my_list[i])"
      ]
    },
    {
      "cell_type": "markdown",
      "metadata": {
        "id": "CMVVe4tBMQ3D"
      },
      "source": [
        "49\n",
        "\n",
        "리스트에는 6일 간의 종가 데이터가 저장되어 있다. 종가 데이터의 3일 이동 평균을 계산하고 이를 화면에 출력하라.\n",
        "\n",
        "```\n",
        "my_list = [100, 200, 400, 800, 1000, 1300]\n",
        "```\n",
        "첫 번째 줄에는 100, 200, 400의 평균값이 출력된다. 두 번째 줄에는 200, 400, 800의 평균값이 출력된다. 같은 방식으로 나머지 데이터의 평균을 출력한다.\n",
        "```\n",
        "233.33333333333334\n",
        "466.6666666666667\n",
        "733.3333333333334\n",
        "1033.3333333333333\n",
        "```"
      ]
    },
    {
      "cell_type": "code",
      "execution_count": 38,
      "metadata": {
        "id": "a1E-LSETMTxf"
      },
      "outputs": [
        {
          "name": "stdout",
          "output_type": "stream",
          "text": [
            "233.33333333333334\n",
            "466.6666666666667\n",
            "733.3333333333334\n",
            "1033.3333333333333\n"
          ]
        }
      ],
      "source": [
        "my_list = [100, 200, 400, 800, 1000, 1300]\n",
        "\n",
        "for i in range(len(my_list)-2):\n",
        "    print((my_list[i]+my_list[i+1]+my_list[i+2])/3)"
      ]
    },
    {
      "cell_type": "markdown",
      "metadata": {
        "id": "XKsgaHAzMWGi"
      },
      "source": [
        "50\n",
        "\n",
        "리스트에 5일간의 저가, 고가 정보가 저장돼 있다. 고가와 저가의 차를 변동폭이라고 정의할 때, low, high 두 개의 리스트를 사용해서 5일간의 변동폭을 volatility 리스트에 저장하라.\n",
        "\n",
        "```\n",
        "low_prices  = [100, 200, 400, 800, 1000]\n",
        "high_prices = [150, 300, 430, 880, 1000]\n",
        "```"
      ]
    },
    {
      "cell_type": "code",
      "execution_count": 42,
      "metadata": {},
      "outputs": [
        {
          "name": "stdout",
          "output_type": "stream",
          "text": [
            "50\n",
            "100\n",
            "30\n",
            "80\n",
            "0\n"
          ]
        }
      ],
      "source": [
        "low_prices  = [100, 200, 400, 800, 1000]\n",
        "high_prices = [150, 300, 430, 880, 1000]\n",
        "\n",
        "volatility = []\n",
        "\n",
        "for i in range(len(low_prices)):\n",
        "    volatility.append(high_prices[i]-low_prices[i])\n",
        "\n",
        "for i in volatility:\n",
        "    print(i)"
      ]
    }
  ],
  "metadata": {
    "colab": {
      "provenance": []
    },
    "kernelspec": {
      "display_name": "Python 3",
      "name": "python3"
    },
    "language_info": {
      "codemirror_mode": {
        "name": "ipython",
        "version": 3
      },
      "file_extension": ".py",
      "mimetype": "text/x-python",
      "name": "python",
      "nbconvert_exporter": "python",
      "pygments_lexer": "ipython3",
      "version": "3.10.1"
    }
  },
  "nbformat": 4,
  "nbformat_minor": 0
}
