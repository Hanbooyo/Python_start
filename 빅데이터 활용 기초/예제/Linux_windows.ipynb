{
  "nbformat": 4,
  "nbformat_minor": 0,
  "metadata": {
    "colab": {
      "provenance": []
    },
    "kernelspec": {
      "name": "python3",
      "display_name": "Python 3"
    },
    "language_info": {
      "name": "python"
    },
    "accelerator": "GPU",
    "gpuClass": "standard"
  },
  "cells": [
    {
      "cell_type": "markdown",
      "source": [
        "0. 현재 작업 디렉토리에 있는 파일 확인하기"
      ],
      "metadata": {
        "id": "ToQ-n2aWSEaC"
      }
    },
    {
      "cell_type": "code",
      "source": [
        "!ls            # linux환경에서는 !안써도됨"
      ],
      "metadata": {
        "colab": {
          "base_uri": "https://localhost:8080/"
        },
        "id": "Jv41ZAcGSELj",
        "outputId": "97252b29-3f46-4bba-83fb-dc75fa5fdd4f"
      },
      "execution_count": 2,
      "outputs": [
        {
          "output_type": "stream",
          "name": "stdout",
          "text": [
            "sample_data\n"
          ]
        }
      ]
    },
    {
      "cell_type": "markdown",
      "source": [
        "1. 현재 어디에 있는지 확인"
      ],
      "metadata": {
        "id": "phZTDgV0Sxou"
      }
    },
    {
      "cell_type": "code",
      "source": [
        "!pwd"
      ],
      "metadata": {
        "colab": {
          "base_uri": "https://localhost:8080/"
        },
        "id": "S_1Welx6Sz4s",
        "outputId": "d29bcc67-a166-4bfb-fc18-d2373d34a41c"
      },
      "execution_count": 4,
      "outputs": [
        {
          "output_type": "stream",
          "name": "stdout",
          "text": [
            "/content\n"
          ]
        }
      ]
    },
    {
      "cell_type": "markdown",
      "source": [
        "2. 폴더만들기"
      ],
      "metadata": {
        "id": "NGaoWufUR_G2"
      }
    },
    {
      "cell_type": "code",
      "source": [
        "!mkdir test"
      ],
      "metadata": {
        "colab": {
          "base_uri": "https://localhost:8080/"
        },
        "id": "DQptwgtCSLFx",
        "outputId": "a538f776-f1ff-44b5-b1af-eae50ad9495a"
      },
      "execution_count": 5,
      "outputs": [
        {
          "output_type": "stream",
          "name": "stdout",
          "text": [
            "mkdir: cannot create directory ‘test’: File exists\n"
          ]
        }
      ]
    },
    {
      "cell_type": "markdown",
      "source": [
        "3. 작업 디렉토리 이동하기"
      ],
      "metadata": {
        "id": "gUEscckwSDaE"
      }
    },
    {
      "cell_type": "code",
      "source": [
        "!cd test"
      ],
      "metadata": {
        "colab": {
          "base_uri": "https://localhost:8080/"
        },
        "id": "9mavn-gYTDmE",
        "outputId": "755856fa-44a0-4c5f-fde1-11743de4c03c"
      },
      "execution_count": 8,
      "outputs": [
        {
          "output_type": "stream",
          "name": "stdout",
          "text": [
            "/content/test\n"
          ]
        }
      ]
    },
    {
      "cell_type": "code",
      "source": [
        "!pwd  #실제 적용은 %"
      ],
      "metadata": {
        "colab": {
          "base_uri": "https://localhost:8080/"
        },
        "id": "AIUwjpeSTHmV",
        "outputId": "504f8fdf-1d46-4abf-f6ec-60f7004e4163"
      },
      "execution_count": 7,
      "outputs": [
        {
          "output_type": "stream",
          "name": "stdout",
          "text": [
            "/content\n"
          ]
        }
      ]
    },
    {
      "cell_type": "code",
      "source": [
        "%cd test"
      ],
      "metadata": {
        "colab": {
          "base_uri": "https://localhost:8080/"
        },
        "id": "pOVpS9VWTQYT",
        "outputId": "882dc4d6-982f-434f-9efb-56ee61f4074b"
      },
      "execution_count": 9,
      "outputs": [
        {
          "output_type": "stream",
          "name": "stdout",
          "text": [
            "[Errno 2] No such file or directory: 'test'\n",
            "/content/test\n"
          ]
        }
      ]
    },
    {
      "cell_type": "code",
      "source": [
        "import pandas as pd\n",
        "\n",
        "#pd.read_csv(\"/content/chipo.csv\") #현재 작업디렉토리가 test라 안읽힘, 절대경로로 변경해주면 됨\n",
        "\n",
        "pd.read_csv(\"./chipo.csv\")"
      ],
      "metadata": {
        "colab": {
          "base_uri": "https://localhost:8080/",
          "height": 424
        },
        "id": "LKP_C1wGTZDn",
        "outputId": "6aa1229f-2442-42b3-ff55-f2173aebbcf0"
      },
      "execution_count": 11,
      "outputs": [
        {
          "output_type": "execute_result",
          "data": {
            "text/plain": [
              "      Unnamed: 0  order_id  quantity                              item_name  \\\n",
              "0              0         1         1           Chips and Fresh Tomato Salsa   \n",
              "1              1         1         1                                   Izze   \n",
              "2              2         1         1                       Nantucket Nectar   \n",
              "3              3         1         1  Chips and Tomatillo-Green Chili Salsa   \n",
              "4              4         2         2                           Chicken Bowl   \n",
              "...          ...       ...       ...                                    ...   \n",
              "4617        4617      1833         1                          Steak Burrito   \n",
              "4618        4618      1833         1                          Steak Burrito   \n",
              "4619        4619      1834         1                     Chicken Salad Bowl   \n",
              "4620        4620      1834         1                     Chicken Salad Bowl   \n",
              "4621        4621      1834         1                     Chicken Salad Bowl   \n",
              "\n",
              "                                     choice_description item_price  \n",
              "0                                                   NaN     $2.39   \n",
              "1                                          [Clementine]     $3.39   \n",
              "2                                               [Apple]     $3.39   \n",
              "3                                                   NaN     $2.39   \n",
              "4     [Tomatillo-Red Chili Salsa (Hot), [Black Beans...    $16.98   \n",
              "...                                                 ...        ...  \n",
              "4617  [Fresh Tomato Salsa, [Rice, Black Beans, Sour ...    $11.75   \n",
              "4618  [Fresh Tomato Salsa, [Rice, Sour Cream, Cheese...    $11.75   \n",
              "4619  [Fresh Tomato Salsa, [Fajita Vegetables, Pinto...    $11.25   \n",
              "4620  [Fresh Tomato Salsa, [Fajita Vegetables, Lettu...     $8.75   \n",
              "4621  [Fresh Tomato Salsa, [Fajita Vegetables, Pinto...     $8.75   \n",
              "\n",
              "[4622 rows x 6 columns]"
            ],
            "text/html": [
              "\n",
              "  <div id=\"df-18479524-63db-4e02-b959-2ff264f84b2f\">\n",
              "    <div class=\"colab-df-container\">\n",
              "      <div>\n",
              "<style scoped>\n",
              "    .dataframe tbody tr th:only-of-type {\n",
              "        vertical-align: middle;\n",
              "    }\n",
              "\n",
              "    .dataframe tbody tr th {\n",
              "        vertical-align: top;\n",
              "    }\n",
              "\n",
              "    .dataframe thead th {\n",
              "        text-align: right;\n",
              "    }\n",
              "</style>\n",
              "<table border=\"1\" class=\"dataframe\">\n",
              "  <thead>\n",
              "    <tr style=\"text-align: right;\">\n",
              "      <th></th>\n",
              "      <th>Unnamed: 0</th>\n",
              "      <th>order_id</th>\n",
              "      <th>quantity</th>\n",
              "      <th>item_name</th>\n",
              "      <th>choice_description</th>\n",
              "      <th>item_price</th>\n",
              "    </tr>\n",
              "  </thead>\n",
              "  <tbody>\n",
              "    <tr>\n",
              "      <th>0</th>\n",
              "      <td>0</td>\n",
              "      <td>1</td>\n",
              "      <td>1</td>\n",
              "      <td>Chips and Fresh Tomato Salsa</td>\n",
              "      <td>NaN</td>\n",
              "      <td>$2.39</td>\n",
              "    </tr>\n",
              "    <tr>\n",
              "      <th>1</th>\n",
              "      <td>1</td>\n",
              "      <td>1</td>\n",
              "      <td>1</td>\n",
              "      <td>Izze</td>\n",
              "      <td>[Clementine]</td>\n",
              "      <td>$3.39</td>\n",
              "    </tr>\n",
              "    <tr>\n",
              "      <th>2</th>\n",
              "      <td>2</td>\n",
              "      <td>1</td>\n",
              "      <td>1</td>\n",
              "      <td>Nantucket Nectar</td>\n",
              "      <td>[Apple]</td>\n",
              "      <td>$3.39</td>\n",
              "    </tr>\n",
              "    <tr>\n",
              "      <th>3</th>\n",
              "      <td>3</td>\n",
              "      <td>1</td>\n",
              "      <td>1</td>\n",
              "      <td>Chips and Tomatillo-Green Chili Salsa</td>\n",
              "      <td>NaN</td>\n",
              "      <td>$2.39</td>\n",
              "    </tr>\n",
              "    <tr>\n",
              "      <th>4</th>\n",
              "      <td>4</td>\n",
              "      <td>2</td>\n",
              "      <td>2</td>\n",
              "      <td>Chicken Bowl</td>\n",
              "      <td>[Tomatillo-Red Chili Salsa (Hot), [Black Beans...</td>\n",
              "      <td>$16.98</td>\n",
              "    </tr>\n",
              "    <tr>\n",
              "      <th>...</th>\n",
              "      <td>...</td>\n",
              "      <td>...</td>\n",
              "      <td>...</td>\n",
              "      <td>...</td>\n",
              "      <td>...</td>\n",
              "      <td>...</td>\n",
              "    </tr>\n",
              "    <tr>\n",
              "      <th>4617</th>\n",
              "      <td>4617</td>\n",
              "      <td>1833</td>\n",
              "      <td>1</td>\n",
              "      <td>Steak Burrito</td>\n",
              "      <td>[Fresh Tomato Salsa, [Rice, Black Beans, Sour ...</td>\n",
              "      <td>$11.75</td>\n",
              "    </tr>\n",
              "    <tr>\n",
              "      <th>4618</th>\n",
              "      <td>4618</td>\n",
              "      <td>1833</td>\n",
              "      <td>1</td>\n",
              "      <td>Steak Burrito</td>\n",
              "      <td>[Fresh Tomato Salsa, [Rice, Sour Cream, Cheese...</td>\n",
              "      <td>$11.75</td>\n",
              "    </tr>\n",
              "    <tr>\n",
              "      <th>4619</th>\n",
              "      <td>4619</td>\n",
              "      <td>1834</td>\n",
              "      <td>1</td>\n",
              "      <td>Chicken Salad Bowl</td>\n",
              "      <td>[Fresh Tomato Salsa, [Fajita Vegetables, Pinto...</td>\n",
              "      <td>$11.25</td>\n",
              "    </tr>\n",
              "    <tr>\n",
              "      <th>4620</th>\n",
              "      <td>4620</td>\n",
              "      <td>1834</td>\n",
              "      <td>1</td>\n",
              "      <td>Chicken Salad Bowl</td>\n",
              "      <td>[Fresh Tomato Salsa, [Fajita Vegetables, Lettu...</td>\n",
              "      <td>$8.75</td>\n",
              "    </tr>\n",
              "    <tr>\n",
              "      <th>4621</th>\n",
              "      <td>4621</td>\n",
              "      <td>1834</td>\n",
              "      <td>1</td>\n",
              "      <td>Chicken Salad Bowl</td>\n",
              "      <td>[Fresh Tomato Salsa, [Fajita Vegetables, Pinto...</td>\n",
              "      <td>$8.75</td>\n",
              "    </tr>\n",
              "  </tbody>\n",
              "</table>\n",
              "<p>4622 rows × 6 columns</p>\n",
              "</div>\n",
              "      <button class=\"colab-df-convert\" onclick=\"convertToInteractive('df-18479524-63db-4e02-b959-2ff264f84b2f')\"\n",
              "              title=\"Convert this dataframe to an interactive table.\"\n",
              "              style=\"display:none;\">\n",
              "        \n",
              "  <svg xmlns=\"http://www.w3.org/2000/svg\" height=\"24px\"viewBox=\"0 0 24 24\"\n",
              "       width=\"24px\">\n",
              "    <path d=\"M0 0h24v24H0V0z\" fill=\"none\"/>\n",
              "    <path d=\"M18.56 5.44l.94 2.06.94-2.06 2.06-.94-2.06-.94-.94-2.06-.94 2.06-2.06.94zm-11 1L8.5 8.5l.94-2.06 2.06-.94-2.06-.94L8.5 2.5l-.94 2.06-2.06.94zm10 10l.94 2.06.94-2.06 2.06-.94-2.06-.94-.94-2.06-.94 2.06-2.06.94z\"/><path d=\"M17.41 7.96l-1.37-1.37c-.4-.4-.92-.59-1.43-.59-.52 0-1.04.2-1.43.59L10.3 9.45l-7.72 7.72c-.78.78-.78 2.05 0 2.83L4 21.41c.39.39.9.59 1.41.59.51 0 1.02-.2 1.41-.59l7.78-7.78 2.81-2.81c.8-.78.8-2.07 0-2.86zM5.41 20L4 18.59l7.72-7.72 1.47 1.35L5.41 20z\"/>\n",
              "  </svg>\n",
              "      </button>\n",
              "      \n",
              "  <style>\n",
              "    .colab-df-container {\n",
              "      display:flex;\n",
              "      flex-wrap:wrap;\n",
              "      gap: 12px;\n",
              "    }\n",
              "\n",
              "    .colab-df-convert {\n",
              "      background-color: #E8F0FE;\n",
              "      border: none;\n",
              "      border-radius: 50%;\n",
              "      cursor: pointer;\n",
              "      display: none;\n",
              "      fill: #1967D2;\n",
              "      height: 32px;\n",
              "      padding: 0 0 0 0;\n",
              "      width: 32px;\n",
              "    }\n",
              "\n",
              "    .colab-df-convert:hover {\n",
              "      background-color: #E2EBFA;\n",
              "      box-shadow: 0px 1px 2px rgba(60, 64, 67, 0.3), 0px 1px 3px 1px rgba(60, 64, 67, 0.15);\n",
              "      fill: #174EA6;\n",
              "    }\n",
              "\n",
              "    [theme=dark] .colab-df-convert {\n",
              "      background-color: #3B4455;\n",
              "      fill: #D2E3FC;\n",
              "    }\n",
              "\n",
              "    [theme=dark] .colab-df-convert:hover {\n",
              "      background-color: #434B5C;\n",
              "      box-shadow: 0px 1px 3px 1px rgba(0, 0, 0, 0.15);\n",
              "      filter: drop-shadow(0px 1px 2px rgba(0, 0, 0, 0.3));\n",
              "      fill: #FFFFFF;\n",
              "    }\n",
              "  </style>\n",
              "\n",
              "      <script>\n",
              "        const buttonEl =\n",
              "          document.querySelector('#df-18479524-63db-4e02-b959-2ff264f84b2f button.colab-df-convert');\n",
              "        buttonEl.style.display =\n",
              "          google.colab.kernel.accessAllowed ? 'block' : 'none';\n",
              "\n",
              "        async function convertToInteractive(key) {\n",
              "          const element = document.querySelector('#df-18479524-63db-4e02-b959-2ff264f84b2f');\n",
              "          const dataTable =\n",
              "            await google.colab.kernel.invokeFunction('convertToInteractive',\n",
              "                                                     [key], {});\n",
              "          if (!dataTable) return;\n",
              "\n",
              "          const docLinkHtml = 'Like what you see? Visit the ' +\n",
              "            '<a target=\"_blank\" href=https://colab.research.google.com/notebooks/data_table.ipynb>data table notebook</a>'\n",
              "            + ' to learn more about interactive tables.';\n",
              "          element.innerHTML = '';\n",
              "          dataTable['output_type'] = 'display_data';\n",
              "          await google.colab.output.renderOutput(dataTable, element);\n",
              "          const docLink = document.createElement('div');\n",
              "          docLink.innerHTML = docLinkHtml;\n",
              "          element.appendChild(docLink);\n",
              "        }\n",
              "      </script>\n",
              "    </div>\n",
              "  </div>\n",
              "  "
            ]
          },
          "metadata": {},
          "execution_count": 11
        }
      ]
    },
    {
      "cell_type": "markdown",
      "source": [
        "4. 파일 복사하기"
      ],
      "metadata": {
        "id": "x5hLktKBT0Hz"
      }
    },
    {
      "cell_type": "code",
      "source": [
        "!cp /content/chipo.csv ./   # 현재 디렉토리에 절대경로 파일 복사"
      ],
      "metadata": {
        "id": "CxyDE2gpT12A"
      },
      "execution_count": 12,
      "outputs": []
    },
    {
      "cell_type": "markdown",
      "source": [
        "4-1 폴더 이동시키기"
      ],
      "metadata": {
        "id": "TRck-VenUiX5"
      }
    },
    {
      "cell_type": "code",
      "source": [
        "# !cp /content/test2 ./     #오류 발생\n",
        "!cp -r /content/test2 ./ #-r 옵션값"
      ],
      "metadata": {
        "colab": {
          "base_uri": "https://localhost:8080/"
        },
        "id": "FN03eSMzUgcy",
        "outputId": "310f1cfa-50aa-499d-daba-d9231750df89"
      },
      "execution_count": 6,
      "outputs": [
        {
          "output_type": "stream",
          "name": "stdout",
          "text": [
            "cp: cannot stat '/content/test2': No such file or directory\n"
          ]
        }
      ]
    },
    {
      "cell_type": "code",
      "source": [
        "!cp ./*.csv ./sample_data\n",
        "\n",
        "# 현재디렉토리의 모든 csv파일을 sample_data 디렉토리로 복사"
      ],
      "metadata": {
        "id": "F-jKKigRb7CV"
      },
      "execution_count": 7,
      "outputs": []
    },
    {
      "cell_type": "markdown",
      "source": [
        "5. 파일 이동시키기"
      ],
      "metadata": {
        "id": "AMkhNzACUHCI"
      }
    },
    {
      "cell_type": "code",
      "source": [
        "!mv /content/chipo.csv ./ # 현재 디렉토리에 절대경로 파일 이동"
      ],
      "metadata": {
        "id": "IA72GYazUIqX"
      },
      "execution_count": 13,
      "outputs": []
    },
    {
      "cell_type": "markdown",
      "source": [
        "6. 이름바꾸기"
      ],
      "metadata": {
        "id": "Z0OvF55EVGly"
      }
    },
    {
      "cell_type": "code",
      "source": [
        "!ls"
      ],
      "metadata": {
        "colab": {
          "base_uri": "https://localhost:8080/"
        },
        "id": "lBHZJ4szVHmK",
        "outputId": "f1c3cb75-589e-4c8e-c324-a09fe1cbe710"
      },
      "execution_count": 16,
      "outputs": [
        {
          "output_type": "stream",
          "name": "stdout",
          "text": [
            "chipo.csv  test2\n"
          ]
        }
      ]
    },
    {
      "cell_type": "code",
      "source": [
        "!mv ./chipo.csv ./chipo2.csv # mv로 바꿈"
      ],
      "metadata": {
        "id": "jztRSYJ5VJTD"
      },
      "execution_count": 17,
      "outputs": []
    },
    {
      "cell_type": "markdown",
      "source": [
        "7. cpu, ram, 사용중인 프로세스 보기"
      ],
      "metadata": {
        "id": "iYaCnrfAVT4i"
      }
    },
    {
      "cell_type": "code",
      "source": [
        "!top   # ★★★★★ 중요"
      ],
      "metadata": {
        "colab": {
          "base_uri": "https://localhost:8080/"
        },
        "id": "_ks84hWEVWiN",
        "outputId": "ce225c81-29ec-43c3-a9d5-0a757f75bca0"
      },
      "execution_count": 18,
      "outputs": [
        {
          "output_type": "stream",
          "name": "stdout",
          "text": [
            "\u001b[?1h\u001b=\u001b[H\u001b[2J\u001b[mtop - 01:58:03 up 15 min,  0 users,  load average: 0.59, 0.49, 0.32\u001b[m\u001b[m\u001b[m\u001b[m\u001b[K\n",
            "Tasks:\u001b[m\u001b[m\u001b[1m  15 \u001b[m\u001b[mtotal,\u001b[m\u001b[m\u001b[1m   1 \u001b[m\u001b[mrunning,\u001b[m\u001b[m\u001b[1m  13 \u001b[m\u001b[msleeping,\u001b[m\u001b[m\u001b[1m   0 \u001b[m\u001b[mstopped,\u001b[m\u001b[m\u001b[1m   1 \u001b[m\u001b[mzombie\u001b[m\u001b[m\u001b[m\u001b[m\u001b[K\n",
            "%Cpu(s):\u001b[m\u001b[m\u001b[1m 30.0 \u001b[m\u001b[mus,\u001b[m\u001b[m\u001b[1m 23.3 \u001b[m\u001b[msy,\u001b[m\u001b[m\u001b[1m  0.0 \u001b[m\u001b[mni,\u001b[m\u001b[m\u001b[1m 46.7 \u001b[m\u001b[mid,\u001b[m\u001b[m\u001b[1m  0.0 \u001b[m\u001b[mwa,\u001b[m\u001b[m\u001b[1m  0.0 \u001b[m\u001b[mhi,\u001b[m\u001b[m\u001b[1m  0.0 \u001b[m\u001b[msi,\u001b[m\u001b[m\u001b[1m  0.0 \u001b[m\u001b[mst\u001b[m\u001b[m\u001b[m\u001b[m\u001b[K\n",
            "MiB Mem :\u001b[m\u001b[m\u001b[1m  12985.5 \u001b[m\u001b[mtotal,\u001b[m\u001b[m\u001b[1m   8803.3 \u001b[m\u001b[mfree,\u001b[m\u001b[m\u001b[1m    942.6 \u001b[m\u001b[mused,\u001b[m\u001b[m\u001b[1m   3239.7 \u001b[m\u001b[mbuff/cache\u001b[m\u001b[m\u001b[m\u001b[m\u001b[K\n",
            "MiB Swap:\u001b[m\u001b[m\u001b[1m      0.0 \u001b[m\u001b[mtotal,\u001b[m\u001b[m\u001b[1m      0.0 \u001b[m\u001b[mfree,\u001b[m\u001b[m\u001b[1m      0.0 \u001b[m\u001b[mused.\u001b[m\u001b[m\u001b[1m  11758.9 \u001b[m\u001b[mavail Mem \u001b[m\u001b[m\u001b[m\u001b[m\u001b[K\n",
            "\u001b[K\n",
            "\u001b[7m    PID USER      PR  NI    VIRT    RES    SHR S  %CPU  %MEM     TIME+ COMMAND  \u001b[m\u001b[m\u001b[K\n",
            "\u001b[m      1 root      20   0    1012      8      0 S   0.0   0.0   0:00.60 docker-+ \u001b[m\u001b[m\u001b[K\n",
            "\u001b[m      7 root      20   0  896552  50308  30672 S   0.0   0.4   0:04.49 node     \u001b[m\u001b[m\u001b[K\n",
            "\u001b[m     20 root      20   0    5524    584    512 S   0.0   0.0   0:00.64 tail     \u001b[m\u001b[m\u001b[K\n",
            "\u001b[m     31 root      20   0    6904   3428   3136 S   0.0   0.0   0:00.50 oom_mon+ \u001b[m\u001b[m\u001b[K\n",
            "\u001b[m     33 root      20   0    6904   1604   1328 S   0.0   0.0   0:00.00 run.sh   \u001b[m\u001b[m\u001b[K\n",
            "\u001b[m     34 root      20   0  721784  13472   8156 S   0.0   0.1   0:00.43 kernel_+ \u001b[m\u001b[m\u001b[K\n",
            "\u001b[m     61 root      20   0       0      0      0 Z   0.0   0.0   0:06.41 python3  \u001b[m\u001b[m\u001b[K\n",
            "\u001b[m     62 root      20   0   77204  44108  12944 S   0.0   0.3   0:00.68 colab-f+ \u001b[m\u001b[m\u001b[K\n",
            "\u001b[m     83 root      20   0  556536 152588  48356 S   0.0   1.1   0:05.16 jupyter+ \u001b[m\u001b[m\u001b[K\n",
            "\u001b[m     84 root      20   0  711996   4204   2828 S   0.0   0.0   0:00.14 dap_mul+ \u001b[m\u001b[m\u001b[K\n",
            "\u001b[m    311 root      20   0 1284256 189644  62036 S   0.0   1.4   0:08.12 python3  \u001b[m\u001b[m\u001b[K\n",
            "\u001b[m    346 root      20   0  537348  13656   5636 S   0.0   0.1   0:00.06 python3  \u001b[m\u001b[m\u001b[K\n",
            "\u001b[m    381 root      20   0 1112384 372256  30220 S   0.0   2.8   0:56.49 node     \u001b[m\u001b[m\u001b[K\n",
            "\u001b[m\u001b[1m   3953 root      20   0    9128   3604   3112 R   0.0   0.0   0:00.01 top      \u001b[m\u001b[m\u001b[K\n",
            "\u001b[m   3957 root      20   0    5488    584    516 S   0.0   0.0   0:00.00 sleep    \u001b[m\u001b[m\u001b[K\n",
            "\u001b[J\u001b[H\u001b[mtop - 01:58:06 up 15 min,  0 users,  load average: 0.55, 0.48, 0.31\u001b[m\u001b[m\u001b[m\u001b[m\u001b[K\n",
            "\n",
            "%Cpu(s):\u001b[m\u001b[m\u001b[1m  1.8 \u001b[m\u001b[mus,\u001b[m\u001b[m\u001b[1m  1.2 \u001b[m\u001b[msy,\u001b[m\u001b[m\u001b[1m  0.0 \u001b[m\u001b[mni,\u001b[m\u001b[m\u001b[1m 96.7 \u001b[m\u001b[mid,\u001b[m\u001b[m\u001b[1m  0.2 \u001b[m\u001b[mwa,\u001b[m\u001b[m\u001b[1m  0.0 \u001b[m\u001b[mhi,\u001b[m\u001b[m\u001b[1m  0.2 \u001b[m\u001b[msi,\u001b[m\u001b[m\u001b[1m  0.0 \u001b[m\u001b[mst\u001b[m\u001b[m\u001b[m\u001b[m\u001b[K\n",
            "MiB Mem :\u001b[m\u001b[m\u001b[1m  12985.5 \u001b[m\u001b[mtotal,\u001b[m\u001b[m\u001b[1m   8803.2 \u001b[m\u001b[mfree,\u001b[m\u001b[m\u001b[1m    942.6 \u001b[m\u001b[mused,\u001b[m\u001b[m\u001b[1m   3239.7 \u001b[m\u001b[mbuff/cache\u001b[m\u001b[m\u001b[m\u001b[m\u001b[K\n",
            "MiB Swap:\u001b[m\u001b[m\u001b[1m      0.0 \u001b[m\u001b[mtotal,\u001b[m\u001b[m\u001b[1m      0.0 \u001b[m\u001b[mfree,\u001b[m\u001b[m\u001b[1m      0.0 \u001b[m\u001b[mused.\u001b[m\u001b[m\u001b[1m  11759.1 \u001b[m\u001b[mavail Mem \u001b[m\u001b[m\u001b[m\u001b[m\u001b[K\n",
            "\u001b[K\n",
            "\n",
            "\u001b[m    311 root      20   0 1284256 189648  62036 S   0.7   1.4   0:08.14 python3  \u001b[m\u001b[m\u001b[K\n",
            "\u001b[m      7 root      20   0  896552  49556  30672 S   0.3   0.4   0:04.50 node     \u001b[m\u001b[m\u001b[K\n",
            "\u001b[m     83 root      20   0  556536 152588  48356 S   0.3   1.1   0:05.17 jupyter+ \u001b[m\u001b[m\u001b[K\n",
            "\u001b[m      1 root      20   0    1012      8      0 S   0.0   0.0   0:00.60 docker-+ \u001b[m\u001b[m\u001b[K\n",
            "\u001b[m     20 root      20   0    5524    584    512 S   0.0   0.0   0:00.64 tail     \u001b[m\u001b[m\u001b[K\n",
            "\u001b[m     31 root      20   0    6904   3428   3136 S   0.0   0.0   0:00.50 oom_mon+ \u001b[m\u001b[m\u001b[K\n",
            "\u001b[m     33 root      20   0    6904   1604   1328 S   0.0   0.0   0:00.00 run.sh   \u001b[m\u001b[m\u001b[K\n",
            "\u001b[m     34 root      20   0  721784  13472   8156 S   0.0   0.1   0:00.43 kernel_+ \u001b[m\u001b[m\u001b[K\n",
            "\u001b[m     61 root      20   0       0      0      0 Z   0.0   0.0   0:06.41 python3  \u001b[m\u001b[m\u001b[K\n",
            "\u001b[m     62 root      20   0   77204  44108  12944 S   0.0   0.3   0:00.68 colab-f+ \u001b[m\u001b[m\u001b[K\n",
            "\u001b[m     84 root      20   0  711996   4444   2828 S   0.0   0.0   0:00.14 dap_mul+ \u001b[m\u001b[m\u001b[K\n",
            "\n",
            "\n",
            "\n",
            "\u001b[m   3969 root      20   0    5488    516    448 S   0.0   0.0   0:00.00 sleep    \u001b[m\u001b[m\u001b[K\n",
            "\u001b[J\u001b[H\u001b[mtop - 01:58:09 up 15 min,  0 users,  load average: 0.50, 0.47, 0.31\u001b[m\u001b[m\u001b[m\u001b[m\u001b[K\n",
            "\n",
            "%Cpu(s):\u001b[m\u001b[m\u001b[1m  1.8 \u001b[m\u001b[mus,\u001b[m\u001b[m\u001b[1m  1.0 \u001b[m\u001b[msy,\u001b[m\u001b[m\u001b[1m  0.0 \u001b[m\u001b[mni,\u001b[m\u001b[m\u001b[1m 97.2 \u001b[m\u001b[mid,\u001b[m\u001b[m\u001b[1m  0.0 \u001b[m\u001b[mwa,\u001b[m\u001b[m\u001b[1m  0.0 \u001b[m\u001b[mhi,\u001b[m\u001b[m\u001b[1m  0.0 \u001b[m\u001b[msi,\u001b[m\u001b[m\u001b[1m  0.0 \u001b[m\u001b[mst\u001b[m\u001b[m\u001b[m\u001b[m\u001b[K\n",
            "MiB Mem :\u001b[m\u001b[m\u001b[1m  12985.5 \u001b[m\u001b[mtotal,\u001b[m\u001b[m\u001b[1m   8803.0 \u001b[m\u001b[mfree,\u001b[m\u001b[m\u001b[1m    942.8 \u001b[m\u001b[mused,\u001b[m\u001b[m\u001b[1m   3239.8 \u001b[m\u001b[mbuff/cache\u001b[m\u001b[m\u001b[m\u001b[m\u001b[K\n",
            "MiB Swap:\u001b[m\u001b[m\u001b[1m      0.0 \u001b[m\u001b[mtotal,\u001b[m\u001b[m\u001b[1m      0.0 \u001b[m\u001b[mfree,\u001b[m\u001b[m\u001b[1m      0.0 \u001b[m\u001b[mused.\u001b[m\u001b[m\u001b[1m  11758.9 \u001b[m\u001b[mavail Mem \u001b[m\u001b[m\u001b[m\u001b[m\u001b[K\n",
            "\u001b[K\n",
            "\n",
            "\u001b[m      7 root      20   0  896552  49804  30672 S   0.7   0.4   0:04.52 node     \u001b[m\u001b[m\u001b[K\n",
            "\u001b[m    311 root      20   0 1284256 189648  62036 S   0.7   1.4   0:08.16 python3  \u001b[m\u001b[m\u001b[K\n",
            "\u001b[m     34 root      20   0  721784  13472   8156 S   0.3   0.1   0:00.44 kernel_+ \u001b[m\u001b[m\u001b[K\n",
            "\u001b[m     62 root      20   0   77204  44108  12944 S   0.3   0.3   0:00.69 colab-f+ \u001b[m\u001b[m\u001b[K\n",
            "\u001b[m    346 root      20   0  537348  13656   5636 S   0.3   0.1   0:00.07 python3  \u001b[m\u001b[m\u001b[K\n",
            "\u001b[m      1 root      20   0    1012      8      0 S   0.0   0.0   0:00.60 docker-+ \u001b[m\u001b[m\u001b[K\n",
            "\u001b[m     20 root      20   0    5524    584    512 S   0.0   0.0   0:00.64 tail     \u001b[m\u001b[m\u001b[K\n",
            "\u001b[m     31 root      20   0    6904   3428   3136 S   0.0   0.0   0:00.50 oom_mon+ \u001b[m\u001b[m\u001b[K\n",
            "\u001b[m     33 root      20   0    6904   1604   1328 S   0.0   0.0   0:00.00 run.sh   \u001b[m\u001b[m\u001b[K\n",
            "\u001b[m     61 root      20   0       0      0      0 Z   0.0   0.0   0:06.41 python3  \u001b[m\u001b[m\u001b[K\n",
            "\u001b[m     83 root      20   0  556536 152588  48356 S   0.0   1.1   0:05.17 jupyter+ \u001b[m\u001b[m\u001b[K\n",
            "\u001b[m     84 root      20   0  711996   4688   2828 S   0.0   0.0   0:00.14 dap_mul+ \u001b[m\u001b[m\u001b[K\n",
            "\n",
            "\n",
            "\u001b[m   3981 root      20   0    5488    584    516 S   0.0   0.0   0:00.00 sleep    \u001b[m\u001b[m\u001b[K\n",
            "\u001b[J\u001b[H\u001b[mtop - 01:58:12 up 15 min,  0 users,  load average: 0.50, 0.47, 0.31\u001b[m\u001b[m\u001b[m\u001b[m\u001b[K\n",
            "Tasks:\u001b[m\u001b[m\u001b[1m  14 \u001b[m\u001b[mtotal,\u001b[m\u001b[m\u001b[1m   1 \u001b[m\u001b[mrunning,\u001b[m\u001b[m\u001b[1m  12 \u001b[m\u001b[msleeping,\u001b[m\u001b[m\u001b[1m   0 \u001b[m\u001b[mstopped,\u001b[m\u001b[m\u001b[1m   1 \u001b[m\u001b[mzombie\u001b[m\u001b[m\u001b[m\u001b[m\u001b[K\n",
            "%Cpu(s):\u001b[m\u001b[m\u001b[1m  1.2 \u001b[m\u001b[mus,\u001b[m\u001b[m\u001b[1m  1.0 \u001b[m\u001b[msy,\u001b[m\u001b[m\u001b[1m  0.0 \u001b[m\u001b[mni,\u001b[m\u001b[m\u001b[1m 97.8 \u001b[m\u001b[mid,\u001b[m\u001b[m\u001b[1m  0.0 \u001b[m\u001b[mwa,\u001b[m\u001b[m\u001b[1m  0.0 \u001b[m\u001b[mhi,\u001b[m\u001b[m\u001b[1m  0.0 \u001b[m\u001b[msi,\u001b[m\u001b[m\u001b[1m  0.0 \u001b[m\u001b[mst\u001b[m\u001b[m\u001b[m\u001b[m\u001b[K\n",
            "MiB Mem :\u001b[m\u001b[m\u001b[1m  12985.5 \u001b[m\u001b[mtotal,\u001b[m\u001b[m\u001b[1m   8802.0 \u001b[m\u001b[mfree,\u001b[m\u001b[m\u001b[1m    943.7 \u001b[m\u001b[mused,\u001b[m\u001b[m\u001b[1m   3239.8 \u001b[m\u001b[mbuff/cache\u001b[m\u001b[m\u001b[m\u001b[m\u001b[K\n",
            "MiB Swap:\u001b[m\u001b[m\u001b[1m      0.0 \u001b[m\u001b[mtotal,\u001b[m\u001b[m\u001b[1m      0.0 \u001b[m\u001b[mfree,\u001b[m\u001b[m\u001b[1m      0.0 \u001b[m\u001b[mused.\u001b[m\u001b[m\u001b[1m  11757.9 \u001b[m\u001b[mavail Mem \u001b[m\u001b[m\u001b[m\u001b[m\u001b[K\n",
            "\u001b[K\n",
            "\n",
            "\u001b[m    311 root      20   0 1284256 189648  62036 S   0.7   1.4   0:08.18 python3  \u001b[m\u001b[m\u001b[K\n",
            "\u001b[m     83 root      20   0  556536 152592  48356 S   0.3   1.1   0:05.18 jupyter+ \u001b[m\u001b[m\u001b[K\n",
            "\u001b[m     84 root      20   0  711996   5164   2828 S   0.3   0.0   0:00.15 dap_mul+ \u001b[m\u001b[m\u001b[K\n",
            "\u001b[m      1 root      20   0    1012      8      0 S   0.0   0.0   0:00.60 docker-+ \u001b[m\u001b[m\u001b[K\n",
            "\u001b[m      7 root      20   0  896552  50064  30672 S   0.0   0.4   0:04.52 node     \u001b[m\u001b[m\u001b[K\n",
            "\u001b[m     20 root      20   0    5524    584    512 S   0.0   0.0   0:00.64 tail     \u001b[m\u001b[m\u001b[K\n",
            "\u001b[m     31 root      20   0    6904   3428   3136 S   0.0   0.0   0:00.50 oom_mon+ \u001b[m\u001b[m\u001b[K\n",
            "\u001b[m     33 root      20   0    6904   1604   1328 S   0.0   0.0   0:00.00 run.sh   \u001b[m\u001b[m\u001b[K\n",
            "\u001b[m     34 root      20   0  721784  13472   8156 S   0.0   0.1   0:00.44 kernel_+ \u001b[m\u001b[m\u001b[K\n",
            "\n",
            "\u001b[m     62 root      20   0   77204  44108  12944 S   0.0   0.3   0:00.69 colab-f+ \u001b[m\u001b[m\u001b[K\n",
            "\u001b[m    346 root      20   0  537348  13896   5636 S   0.0   0.1   0:00.07 python3  \u001b[m\u001b[m\u001b[K\n",
            "\n",
            "\n",
            "\u001b[J\u001b[H\u001b[mtop - 01:58:15 up 15 min,  0 users,  load average: 0.62, 0.50, 0.32\u001b[m\u001b[m\u001b[m\u001b[m\u001b[K\n",
            "Tasks:\u001b[m\u001b[m\u001b[1m  15 \u001b[m\u001b[mtotal,\u001b[m\u001b[m\u001b[1m   2 \u001b[m\u001b[mrunning,\u001b[m\u001b[m\u001b[1m  12 \u001b[m\u001b[msleeping,\u001b[m\u001b[m\u001b[1m   0 \u001b[m\u001b[mstopped,\u001b[m\u001b[m\u001b[1m   1 \u001b[m\u001b[mzombie\u001b[m\u001b[m\u001b[m\u001b[m\u001b[K\n",
            "%Cpu(s):\u001b[m\u001b[m\u001b[1m 24.3 \u001b[m\u001b[mus,\u001b[m\u001b[m\u001b[1m  6.8 \u001b[m\u001b[msy,\u001b[m\u001b[m\u001b[1m  0.0 \u001b[m\u001b[mni,\u001b[m\u001b[m\u001b[1m 68.5 \u001b[m\u001b[mid,\u001b[m\u001b[m\u001b[1m  0.0 \u001b[m\u001b[mwa,\u001b[m\u001b[m\u001b[1m  0.0 \u001b[m\u001b[mhi,\u001b[m\u001b[m\u001b[1m  0.2 \u001b[m\u001b[msi,\u001b[m\u001b[m\u001b[1m  0.2 \u001b[m\u001b[mst\u001b[m\u001b[m\u001b[m\u001b[m\u001b[K\n",
            "MiB Mem :\u001b[m\u001b[m\u001b[1m  12985.5 \u001b[m\u001b[mtotal,\u001b[m\u001b[m\u001b[1m   8801.5 \u001b[m\u001b[mfree,\u001b[m\u001b[m\u001b[1m    944.2 \u001b[m\u001b[mused,\u001b[m\u001b[m\u001b[1m   3239.8 \u001b[m\u001b[mbuff/cache\u001b[m\u001b[m\u001b[m\u001b[m\u001b[K\n",
            "MiB Swap:\u001b[m\u001b[m\u001b[1m      0.0 \u001b[m\u001b[mtotal,\u001b[m\u001b[m\u001b[1m      0.0 \u001b[m\u001b[mfree,\u001b[m\u001b[m\u001b[1m      0.0 \u001b[m\u001b[mused.\u001b[m\u001b[m\u001b[1m  11757.4 \u001b[m\u001b[mavail Mem \u001b[m\u001b[m\u001b[m\u001b[m\u001b[K\n",
            "\u001b[K\n",
            "\n",
            "\u001b[m    311 root      20   0 1284256 189648  62036 S   1.0   1.4   0:08.21 python3  \u001b[m\u001b[m\u001b[K\n",
            "\u001b[m      7 root      20   0  896552  50064  30672 S   0.3   0.4   0:04.53 node     \u001b[m\u001b[m\u001b[K\n",
            "\u001b[m\u001b[1m     34 root      20   0  721784  13472   8156 R   0.3   0.1   0:00.45 kernel_+ \u001b[m\u001b[m\u001b[K\n",
            "\u001b[m    346 root      20   0  537348  14108   5636 S   0.3   0.1   0:00.08 python3  \u001b[m\u001b[m\u001b[K\n",
            "\u001b[m      1 root      20   0    1012      8      0 S   0.0   0.0   0:00.60 docker-+ \u001b[m\u001b[m\u001b[K\n",
            "\n",
            "\n",
            "\n",
            "\u001b[m     61 root      20   0       0      0      0 Z   0.0   0.0   0:06.41 python3  \u001b[m\u001b[m\u001b[K\n",
            "\u001b[m     62 root      20   0   77204  44108  12944 S   0.0   0.3   0:00.69 colab-f+ \u001b[m\u001b[m\u001b[K\n",
            "\u001b[m     83 root      20   0  556536 152596  48356 S   0.0   1.1   0:05.18 jupyter+ \u001b[m\u001b[m\u001b[K\n",
            "\u001b[m     84 root      20   0  711996   5660   2848 S   0.0   0.0   0:00.15 dap_mul+ \u001b[m\u001b[m\u001b[K\n",
            "\n",
            "\n",
            "\u001b[m   4003 root      20   0    5488    512    448 S   0.0   0.0   0:00.00 sleep    \u001b[m\u001b[m\u001b[K\n",
            "\u001b[J\u001b[H\u001b[mtop - 01:58:18 up 15 min,  0 users,  load average: 0.62, 0.50, 0.32\u001b[m\u001b[m\u001b[m\u001b[m\u001b[K\n",
            "Tasks:\u001b[m\u001b[m\u001b[1m  15 \u001b[m\u001b[mtotal,\u001b[m\u001b[m\u001b[1m   1 \u001b[m\u001b[mrunning,\u001b[m\u001b[m\u001b[1m  13 \u001b[m\u001b[msleeping,\u001b[m\u001b[m\u001b[1m   0 \u001b[m\u001b[mstopped,\u001b[m\u001b[m\u001b[1m   1 \u001b[m\u001b[mzombie\u001b[m\u001b[m\u001b[m\u001b[m\u001b[K\n",
            "%Cpu(s):\u001b[m\u001b[m\u001b[1m  1.5 \u001b[m\u001b[mus,\u001b[m\u001b[m\u001b[1m  1.0 \u001b[m\u001b[msy,\u001b[m\u001b[m\u001b[1m  0.0 \u001b[m\u001b[mni,\u001b[m\u001b[m\u001b[1m 97.2 \u001b[m\u001b[mid,\u001b[m\u001b[m\u001b[1m  0.3 \u001b[m\u001b[mwa,\u001b[m\u001b[m\u001b[1m  0.0 \u001b[m\u001b[mhi,\u001b[m\u001b[m\u001b[1m  0.0 \u001b[m\u001b[msi,\u001b[m\u001b[m\u001b[1m  0.0 \u001b[m\u001b[mst\u001b[m\u001b[m\u001b[m\u001b[m\u001b[K\n",
            "MiB Mem :\u001b[m\u001b[m\u001b[1m  12985.5 \u001b[m\u001b[mtotal,\u001b[m\u001b[m\u001b[1m   8801.1 \u001b[m\u001b[mfree,\u001b[m\u001b[m\u001b[1m    944.7 \u001b[m\u001b[mused,\u001b[m\u001b[m\u001b[1m   3239.8 \u001b[m\u001b[mbuff/cache\u001b[m\u001b[m\u001b[m\u001b[m\u001b[K\n",
            "MiB Swap:\u001b[m\u001b[m\u001b[1m      0.0 \u001b[m\u001b[mtotal,\u001b[m\u001b[m\u001b[1m      0.0 \u001b[m\u001b[mfree,\u001b[m\u001b[m\u001b[1m      0.0 \u001b[m\u001b[mused.\u001b[m\u001b[m\u001b[1m  11757.0 \u001b[m\u001b[mavail Mem \u001b[m\u001b[m\u001b[m\u001b[m\u001b[K\n",
            "\u001b[K\n",
            "\n",
            "\u001b[m    311 root      20   0 1284256 189648  62036 S   0.7   1.4   0:08.23 python3  \u001b[m\u001b[m\u001b[K\n",
            "\u001b[m     31 root      20   0    6904   3428   3136 S   0.3   0.0   0:00.51 oom_mon+ \u001b[m\u001b[m\u001b[K\n",
            "\u001b[m    346 root      20   0  537348  14108   5636 S   0.3   0.1   0:00.09 python3  \u001b[m\u001b[m\u001b[K\n",
            "\u001b[m      1 root      20   0    1012      8      0 S   0.0   0.0   0:00.60 docker-+ \u001b[m\u001b[m\u001b[K\n",
            "\u001b[m      7 root      20   0  896552  50064  30672 S   0.0   0.4   0:04.53 node     \u001b[m\u001b[m\u001b[K\n",
            "\n",
            "\u001b[m     33 root      20   0    6904   1604   1328 S   0.0   0.0   0:00.00 run.sh   \u001b[m\u001b[m\u001b[K\n",
            "\u001b[m     34 root      20   0  721784  13472   8156 S   0.0   0.1   0:00.45 kernel_+ \u001b[m\u001b[m\u001b[K\n",
            "\n",
            "\n",
            "\n",
            "\u001b[m     84 root      20   0  711996   6132   2848 S   0.0   0.0   0:00.15 dap_mul+ \u001b[m\u001b[m\u001b[K\n",
            "\n",
            "\n",
            "\u001b[m   4015 root      20   0    5488    520    452 S   0.0   0.0   0:00.00 sleep    \u001b[m\u001b[m\u001b[K\n",
            "\u001b[J\u001b[H\u001b[mtop - 01:58:21 up 15 min,  0 users,  load average: 0.57, 0.49, 0.32\u001b[m\u001b[m\u001b[m\u001b[m\u001b[K\n",
            "\n",
            "%Cpu(s):\u001b[m\u001b[m\u001b[1m  1.5 \u001b[m\u001b[mus,\u001b[m\u001b[m\u001b[1m  1.0 \u001b[m\u001b[msy,\u001b[m\u001b[m\u001b[1m  0.0 \u001b[m\u001b[mni,\u001b[m\u001b[m\u001b[1m 97.5 \u001b[m\u001b[mid,\u001b[m\u001b[m\u001b[1m  0.0 \u001b[m\u001b[mwa,\u001b[m\u001b[m\u001b[1m  0.0 \u001b[m\u001b[mhi,\u001b[m\u001b[m\u001b[1m  0.0 \u001b[m\u001b[msi,\u001b[m\u001b[m\u001b[1m  0.0 \u001b[m\u001b[mst\u001b[m\u001b[m\u001b[m\u001b[m\u001b[K\n",
            "MiB Mem :\u001b[m\u001b[m\u001b[1m  12985.5 \u001b[m\u001b[mtotal,\u001b[m\u001b[m\u001b[1m   8800.7 \u001b[m\u001b[mfree,\u001b[m\u001b[m\u001b[1m    945.0 \u001b[m\u001b[mused,\u001b[m\u001b[m\u001b[1m   3239.8 \u001b[m\u001b[mbuff/cache\u001b[m\u001b[m\u001b[m\u001b[m\u001b[K\n",
            "MiB Swap:\u001b[m\u001b[m\u001b[1m      0.0 \u001b[m\u001b[mtotal,\u001b[m\u001b[m\u001b[1m      0.0 \u001b[m\u001b[mfree,\u001b[m\u001b[m\u001b[1m      0.0 \u001b[m\u001b[mused.\u001b[m\u001b[m\u001b[1m  11756.7 \u001b[m\u001b[mavail Mem \u001b[m\u001b[m\u001b[m\u001b[m\u001b[K\n",
            "\u001b[K\n",
            "\n",
            "\u001b[m    311 root      20   0 1284256 189648  62036 S   1.0   1.4   0:08.26 python3  \u001b[m\u001b[m\u001b[K\n",
            "\u001b[m     83 root      20   0  556536 152596  48356 S   0.3   1.1   0:05.19 jupyter+ \u001b[m\u001b[m\u001b[K\n",
            "\u001b[m     84 root      20   0  711996   6372   2848 S   0.3   0.0   0:00.16 dap_mul+ \u001b[m\u001b[m\u001b[K\n",
            "\u001b[m    346 root      20   0  537348  14108   5636 S   0.3   0.1   0:00.10 python3  \u001b[m\u001b[m\u001b[K\n",
            "\u001b[m      1 root      20   0    1012      8      0 S   0.0   0.0   0:00.60 docker-+ \u001b[m\u001b[m\u001b[K\n",
            "\u001b[m      7 root      20   0  896552  50328  30672 S   0.0   0.4   0:04.53 node     \u001b[m\u001b[m\u001b[K\n",
            "\u001b[m     20 root      20   0    5524    584    512 S   0.0   0.0   0:00.64 tail     \u001b[m\u001b[m\u001b[K\n",
            "\u001b[m     31 root      20   0    6904   3428   3136 S   0.0   0.0   0:00.51 oom_mon+ \u001b[m\u001b[m\u001b[K\n",
            "\u001b[m     33 root      20   0    6904   1604   1328 S   0.0   0.0   0:00.00 run.sh   \u001b[m\u001b[m\u001b[K\n",
            "\u001b[m     34 root      20   0  721784  13728   8156 S   0.0   0.1   0:00.45 kernel_+ \u001b[m\u001b[m\u001b[K\n",
            "\u001b[m     61 root      20   0       0      0      0 Z   0.0   0.0   0:06.41 python3  \u001b[m\u001b[m\u001b[K\n",
            "\u001b[m     62 root      20   0   77204  44108  12944 S   0.0   0.3   0:00.69 colab-f+ \u001b[m\u001b[m\u001b[K\n",
            "\n",
            "\n",
            "\u001b[m   4027 root      20   0    5488    580    512 S   0.0   0.0   0:00.00 sleep    \u001b[m\u001b[m\u001b[K\n",
            "\u001b[J\u001b[H\u001b[mtop - 01:58:24 up 15 min,  0 users,  load average: 0.53, 0.48, 0.32\u001b[m\u001b[m\u001b[m\u001b[m\u001b[K\n",
            "\n",
            "%Cpu(s):\u001b[m\u001b[m\u001b[1m  1.7 \u001b[m\u001b[mus,\u001b[m\u001b[m\u001b[1m  1.2 \u001b[m\u001b[msy,\u001b[m\u001b[m\u001b[1m  0.0 \u001b[m\u001b[mni,\u001b[m\u001b[m\u001b[1m 97.2 \u001b[m\u001b[mid,\u001b[m\u001b[m\u001b[1m  0.0 \u001b[m\u001b[mwa,\u001b[m\u001b[m\u001b[1m  0.0 \u001b[m\u001b[mhi,\u001b[m\u001b[m\u001b[1m  0.0 \u001b[m\u001b[msi,\u001b[m\u001b[m\u001b[1m  0.0 \u001b[m\u001b[mst\u001b[m\u001b[m\u001b[m\u001b[m\u001b[K\n",
            "MiB Mem :\u001b[m\u001b[m\u001b[1m  12985.5 \u001b[m\u001b[mtotal,\u001b[m\u001b[m\u001b[1m   8799.5 \u001b[m\u001b[mfree,\u001b[m\u001b[m\u001b[1m    946.2 \u001b[m\u001b[mused,\u001b[m\u001b[m\u001b[1m   3239.8 \u001b[m\u001b[mbuff/cache\u001b[m\u001b[m\u001b[m\u001b[m\u001b[K\n",
            "MiB Swap:\u001b[m\u001b[m\u001b[1m      0.0 \u001b[m\u001b[mtotal,\u001b[m\u001b[m\u001b[1m      0.0 \u001b[m\u001b[mfree,\u001b[m\u001b[m\u001b[1m      0.0 \u001b[m\u001b[mused.\u001b[m\u001b[m\u001b[1m  11755.5 \u001b[m\u001b[mavail Mem \u001b[m\u001b[m\u001b[m\u001b[m\u001b[K\n",
            "\u001b[K\n",
            "\n",
            "\u001b[m    311 root      20   0 1284256 189648  62036 S   0.7   1.4   0:08.28 python3  \u001b[m\u001b[m\u001b[K\n",
            "\u001b[m      7 root      20   0  896552  50328  30672 S   0.3   0.4   0:04.54 node     \u001b[m\u001b[m\u001b[K\n",
            "\u001b[m     83 root      20   0  556536 152600  48356 S   0.3   1.1   0:05.20 jupyter+ \u001b[m\u001b[m\u001b[K\n",
            "\u001b[m     84 root      20   0  712316   6764   2848 S   0.3   0.1   0:00.17 dap_mul+ \u001b[m\u001b[m\u001b[K\n",
            "\u001b[m    346 root      20   0  537348  14108   5636 S   0.3   0.1   0:00.11 python3  \u001b[m\u001b[m\u001b[K\n",
            "\u001b[m      1 root      20   0    1012      8      0 S   0.0   0.0   0:00.60 docker-+ \u001b[m\u001b[m\u001b[K\n",
            "\n",
            "\n",
            "\n",
            "\u001b[m     34 root      20   0  721784  13992   8156 S   0.0   0.1   0:00.45 kernel_+ \u001b[m\u001b[m\u001b[K\n",
            "\n",
            "\n",
            "\n",
            "\n",
            "\u001b[m   4041 root      20   0    5488    512    448 S   0.0   0.0   0:00.00 sleep    \u001b[m\u001b[m\u001b[K\n",
            "\u001b[J\u001b[H\u001b[mtop - 01:58:27 up 15 min,  0 users,  load average: 0.53, 0.48, 0.32\u001b[m\u001b[m\u001b[m\u001b[m\u001b[K\n",
            "\n",
            "%Cpu(s):\u001b[m\u001b[m\u001b[1m 24.5 \u001b[m\u001b[mus,\u001b[m\u001b[m\u001b[1m  6.9 \u001b[m\u001b[msy,\u001b[m\u001b[m\u001b[1m  0.0 \u001b[m\u001b[mni,\u001b[m\u001b[m\u001b[1m 68.7 \u001b[m\u001b[mid,\u001b[m\u001b[m\u001b[1m  0.0 \u001b[m\u001b[mwa,\u001b[m\u001b[m\u001b[1m  0.0 \u001b[m\u001b[mhi,\u001b[m\u001b[m\u001b[1m  0.0 \u001b[m\u001b[msi,\u001b[m\u001b[m\u001b[1m  0.0 \u001b[m\u001b[mst\u001b[m\u001b[m\u001b[m\u001b[m\u001b[K\n",
            "MiB Mem :\u001b[m\u001b[m\u001b[1m  12985.5 \u001b[m\u001b[mtotal,\u001b[m\u001b[m\u001b[1m   8800.2 \u001b[m\u001b[mfree,\u001b[m\u001b[m\u001b[1m    945.5 \u001b[m\u001b[mused,\u001b[m\u001b[m\u001b[1m   3239.8 \u001b[m\u001b[mbuff/cache\u001b[m\u001b[m\u001b[m\u001b[m\u001b[K\n",
            "MiB Swap:\u001b[m\u001b[m\u001b[1m      0.0 \u001b[m\u001b[mtotal,\u001b[m\u001b[m\u001b[1m      0.0 \u001b[m\u001b[mfree,\u001b[m\u001b[m\u001b[1m      0.0 \u001b[m\u001b[mused.\u001b[m\u001b[m\u001b[1m  11756.2 \u001b[m\u001b[mavail Mem \u001b[m\u001b[m\u001b[m\u001b[m\u001b[K\n",
            "\u001b[K\n",
            "\n",
            "\u001b[m    311 root      20   0 1284256 189648  62036 S   1.0   1.4   0:08.31 python3  \u001b[m\u001b[m\u001b[K\n",
            "\u001b[m     34 root      20   0  721784  13992   8156 S   0.3   0.1   0:00.46 kernel_+ \u001b[m\u001b[m\u001b[K\n",
            "\u001b[m     83 root      20   0  556536 152600  48356 S   0.3   1.1   0:05.21 jupyter+ \u001b[m\u001b[m\u001b[K\n",
            "\u001b[m    346 root      20   0  537348  14108   5636 S   0.3   0.1   0:00.12 python3  \u001b[m\u001b[m\u001b[K\n",
            "\u001b[m      1 root      20   0    1012      8      0 S   0.0   0.0   0:00.60 docker-+ \u001b[m\u001b[m\u001b[K\n",
            "\u001b[m      7 root      20   0  896552  49592  30672 S   0.0   0.4   0:04.54 node     \u001b[m\u001b[m\u001b[K\n",
            "\n",
            "\n",
            "\n",
            "\u001b[m     61 root      20   0       0      0      0 Z   0.0   0.0   0:06.41 python3  \u001b[m\u001b[m\u001b[K\n",
            "\u001b[m     62 root      20   0   77204  44108  12944 S   0.0   0.3   0:00.69 colab-f+ \u001b[m\u001b[m\u001b[K\n",
            "\u001b[m     84 root      20   0  712316   6764   2848 S   0.0   0.1   0:00.17 dap_mul+ \u001b[m\u001b[m\u001b[K\n",
            "\n",
            "\n",
            "\u001b[m   4053 root      20   0    5488    520    452 S   0.0   0.0   0:00.00 sleep    \u001b[m\u001b[m\u001b[K\n",
            "\u001b[J\u001b[H\u001b[mtop - 01:58:30 up 15 min,  0 users,  load average: 0.48, 0.47, 0.32\u001b[m\u001b[m\u001b[m\u001b[m\u001b[K\n",
            "\n",
            "%Cpu(s):\u001b[m\u001b[m\u001b[1m  1.2 \u001b[m\u001b[mus,\u001b[m\u001b[m\u001b[1m  1.2 \u001b[m\u001b[msy,\u001b[m\u001b[m\u001b[1m  0.0 \u001b[m\u001b[mni,\u001b[m\u001b[m\u001b[1m 97.7 \u001b[m\u001b[mid,\u001b[m\u001b[m\u001b[1m  0.0 \u001b[m\u001b[mwa,\u001b[m\u001b[m\u001b[1m  0.0 \u001b[m\u001b[mhi,\u001b[m\u001b[m\u001b[1m  0.0 \u001b[m\u001b[msi,\u001b[m\u001b[m\u001b[1m  0.0 \u001b[m\u001b[mst\u001b[m\u001b[m\u001b[m\u001b[m\u001b[K\n",
            "\n",
            "\n",
            "\u001b[K\n",
            "\n",
            "\u001b[m    311 root      20   0 1284256 189648  62036 S   1.0   1.4   0:08.34 python3  \u001b[m\u001b[m\u001b[K\n",
            "\u001b[m      7 root      20   0  896552  49592  30672 S   0.3   0.4   0:04.55 node     \u001b[m\u001b[m\u001b[K\n",
            "\u001b[m     84 root      20   0  712316   6764   2848 S   0.3   0.1   0:00.18 dap_mul+ \u001b[m\u001b[m\u001b[K\n",
            "\u001b[m    346 root      20   0  537604  14108   5636 S   0.3   0.1   0:00.13 python3  \u001b[m\u001b[m\u001b[K\n",
            "\n",
            "\u001b[m     20 root      20   0    5524    584    512 S   0.0   0.0   0:00.64 tail     \u001b[m\u001b[m\u001b[K\n",
            "\u001b[m     31 root      20   0    6904   3428   3136 S   0.0   0.0   0:00.51 oom_mon+ \u001b[m\u001b[m\u001b[K\n",
            "\u001b[m     33 root      20   0    6904   1604   1328 S   0.0   0.0   0:00.00 run.sh   \u001b[m\u001b[m\u001b[K\n",
            "\u001b[m     34 root      20   0  721784  13992   8156 S   0.0   0.1   0:00.46 kernel_+ \u001b[m\u001b[m\u001b[K\n",
            "\n",
            "\n",
            "\u001b[m     83 root      20   0  556536 152600  48356 S   0.0   1.1   0:05.21 jupyter+ \u001b[m\u001b[m\u001b[K\n",
            "\n",
            "\n",
            "\u001b[m   4065 root      20   0    5488    520    452 S   0.0   0.0   0:00.00 sleep    \u001b[m\u001b[m\u001b[K\n",
            "\u001b[J\u001b[H\u001b[mtop - 01:58:33 up 15 min,  0 users,  load average: 0.48, 0.47, 0.32\u001b[m\u001b[m\u001b[m\u001b[m\u001b[K\n",
            "\n",
            "%Cpu(s):\u001b[m\u001b[m\u001b[1m  1.7 \u001b[m\u001b[mus,\u001b[m\u001b[m\u001b[1m  1.3 \u001b[m\u001b[msy,\u001b[m\u001b[m\u001b[1m  0.0 \u001b[m\u001b[mni,\u001b[m\u001b[m\u001b[1m 96.8 \u001b[m\u001b[mid,\u001b[m\u001b[m\u001b[1m  0.0 \u001b[m\u001b[mwa,\u001b[m\u001b[m\u001b[1m  0.0 \u001b[m\u001b[mhi,\u001b[m\u001b[m\u001b[1m  0.2 \u001b[m\u001b[msi,\u001b[m\u001b[m\u001b[1m  0.0 \u001b[m\u001b[mst\u001b[m\u001b[m\u001b[m\u001b[m\u001b[K\n",
            "MiB Mem :\u001b[m\u001b[m\u001b[1m  12985.5 \u001b[m\u001b[mtotal,\u001b[m\u001b[m\u001b[1m   8798.9 \u001b[m\u001b[mfree,\u001b[m\u001b[m\u001b[1m    946.8 \u001b[m\u001b[mused,\u001b[m\u001b[m\u001b[1m   3239.8 \u001b[m\u001b[mbuff/cache\u001b[m\u001b[m\u001b[m\u001b[m\u001b[K\n",
            "MiB Swap:\u001b[m\u001b[m\u001b[1m      0.0 \u001b[m\u001b[mtotal,\u001b[m\u001b[m\u001b[1m      0.0 \u001b[m\u001b[mfree,\u001b[m\u001b[m\u001b[1m      0.0 \u001b[m\u001b[mused.\u001b[m\u001b[m\u001b[1m  11754.9 \u001b[m\u001b[mavail Mem \u001b[m\u001b[m\u001b[m\u001b[m\u001b[K\n",
            "\u001b[K\n",
            "\n",
            "\u001b[m     83 root      20   0  556536 152600  48356 S   0.7   1.1   0:05.23 jupyter+ \u001b[m\u001b[m\u001b[K\n",
            "\u001b[m    311 root      20   0 1284256 189648  62036 S   0.7   1.4   0:08.36 python3  \u001b[m\u001b[m\u001b[K\n",
            "\u001b[m    346 root      20   0  537604  14108   5636 S   0.3   0.1   0:00.14 python3  \u001b[m\u001b[m\u001b[K\n",
            "\u001b[m    381 root      20   0 1112384 372256  30220 S   0.3   2.8   0:56.50 node     \u001b[m\u001b[m\u001b[K\n",
            "\n",
            "\u001b[m      7 root      20   0  896552  49856  30672 S   0.0   0.4   0:04.55 node     \u001b[m\u001b[m\u001b[K\n",
            "\u001b[m     20 root      20   0    5524    584    512 S   0.0   0.0   0:00.64 tail     \u001b[m\u001b[m\u001b[K\n",
            "\u001b[m     31 root      20   0    6904   3428   3136 S   0.0   0.0   0:00.51 oom_mon+ \u001b[m\u001b[m\u001b[K\n",
            "\u001b[m     33 root      20   0    6904   1604   1328 S   0.0   0.0   0:00.00 run.sh   \u001b[m\u001b[m\u001b[K\n",
            "\u001b[m     34 root      20   0  721784  13992   8156 S   0.0   0.1   0:00.46 kernel_+ \u001b[m\u001b[m\u001b[K\n",
            "\u001b[m     61 root      20   0       0      0      0 Z   0.0   0.0   0:06.41 python3  \u001b[m\u001b[m\u001b[K\n",
            "\u001b[m     62 root      20   0   77204  44108  12944 S   0.0   0.3   0:00.69 colab-f+ \u001b[m\u001b[m\u001b[K\n",
            "\u001b[m     84 root      20   0  712316   6976   2848 S   0.0   0.1   0:00.18 dap_mul+ \u001b[m\u001b[m\u001b[K\n",
            "\n",
            "\u001b[m   4079 root      20   0    5488    580    516 S   0.0   0.0   0:00.00 sleep    \u001b[m\u001b[m\u001b[K\n",
            "\u001b[J\u001b[H\u001b[mtop - 01:58:36 up 16 min,  0 users,  load average: 0.44, 0.47, 0.31\u001b[m\u001b[m\u001b[m\u001b[m\u001b[K\n",
            "\n",
            "%Cpu(s):\u001b[m\u001b[m\u001b[1m  0.8 \u001b[m\u001b[mus,\u001b[m\u001b[m\u001b[1m  1.0 \u001b[m\u001b[msy,\u001b[m\u001b[m\u001b[1m  0.0 \u001b[m\u001b[mni,\u001b[m\u001b[m\u001b[1m 98.0 \u001b[m\u001b[mid,\u001b[m\u001b[m\u001b[1m  0.0 \u001b[m\u001b[mwa,\u001b[m\u001b[m\u001b[1m  0.0 \u001b[m\u001b[mhi,\u001b[m\u001b[m\u001b[1m  0.0 \u001b[m\u001b[msi,\u001b[m\u001b[m\u001b[1m  0.2 \u001b[m\u001b[mst\u001b[m\u001b[m\u001b[m\u001b[m\u001b[K\n",
            "MiB Mem :\u001b[m\u001b[m\u001b[1m  12985.5 \u001b[m\u001b[mtotal,\u001b[m\u001b[m\u001b[1m   8799.3 \u001b[m\u001b[mfree,\u001b[m\u001b[m\u001b[1m    946.2 \u001b[m\u001b[mused,\u001b[m\u001b[m\u001b[1m   3240.0 \u001b[m\u001b[mbuff/cache\u001b[m\u001b[m\u001b[m\u001b[m\u001b[K\n",
            "MiB Swap:\u001b[m\u001b[m\u001b[1m      0.0 \u001b[m\u001b[mtotal,\u001b[m\u001b[m\u001b[1m      0.0 \u001b[m\u001b[mfree,\u001b[m\u001b[m\u001b[1m      0.0 \u001b[m\u001b[mused.\u001b[m\u001b[m\u001b[1m  11755.5 \u001b[m\u001b[mavail Mem \u001b[m\u001b[m\u001b[m\u001b[m\u001b[K\n",
            "\u001b[K\n",
            "\n",
            "\u001b[m    311 root      20   0 1284256 189648  62036 S   1.3   1.4   0:08.40 python3  \u001b[m\u001b[m\u001b[K\n",
            "\u001b[m     31 root      20   0    6904   3428   3136 S   0.3   0.0   0:00.52 oom_mon+ \u001b[m\u001b[m\u001b[K\n",
            "\u001b[m     84 root      20   0  712316   7208   2848 S   0.3   0.1   0:00.19 dap_mul+ \u001b[m\u001b[m\u001b[K\n",
            "\u001b[m    346 root      20   0  537604  14108   5636 S   0.3   0.1   0:00.15 python3  \u001b[m\u001b[m\u001b[K\n",
            "\u001b[m\u001b[1m   3953 root      20   0    9128   3604   3112 R   0.3   0.0   0:00.02 top      \u001b[m\u001b[m\u001b[K\n",
            "\u001b[m      1 root      20   0    1012      8      0 S   0.0   0.0   0:00.60 docker-+ \u001b[m\u001b[m\u001b[K\n",
            "\u001b[m      7 root      20   0  896552  49856  30672 S   0.0   0.4   0:04.55 node     \u001b[m\u001b[m\u001b[K\n",
            "\u001b[m     20 root      20   0    5524    584    512 S   0.0   0.0   0:00.64 tail     \u001b[m\u001b[m\u001b[K\n",
            "\n",
            "\n",
            "\n",
            "\n",
            "\u001b[m     83 root      20   0  556536 152600  48356 S   0.0   1.1   0:05.23 jupyter+ \u001b[m\u001b[m\u001b[K\n",
            "\u001b[m    381 root      20   0 1112384 372256  30220 S   0.0   2.8   0:56.50 node     \u001b[m\u001b[m\u001b[K\n",
            "\u001b[m   4093 root      20   0    5488    520    448 S   0.0   0.0   0:00.00 sleep    \u001b[m\u001b[m\u001b[K\n",
            "\u001b[J\u001b[H\u001b[mtop - 01:58:39 up 16 min,  0 users,  load average: 0.41, 0.46, 0.31\u001b[m\u001b[m\u001b[m\u001b[m\u001b[K\n",
            "\n",
            "%Cpu(s):\u001b[m\u001b[m\u001b[1m 24.6 \u001b[m\u001b[mus,\u001b[m\u001b[m\u001b[1m  6.9 \u001b[m\u001b[msy,\u001b[m\u001b[m\u001b[1m  0.0 \u001b[m\u001b[mni,\u001b[m\u001b[m\u001b[1m 68.6 \u001b[m\u001b[mid,\u001b[m\u001b[m\u001b[1m  0.0 \u001b[m\u001b[mwa,\u001b[m\u001b[m\u001b[1m  0.0 \u001b[m\u001b[mhi,\u001b[m\u001b[m\u001b[1m  0.0 \u001b[m\u001b[msi,\u001b[m\u001b[m\u001b[1m  0.0 \u001b[m\u001b[mst\u001b[m\u001b[m\u001b[m\u001b[m\u001b[K\n",
            "MiB Mem :\u001b[m\u001b[m\u001b[1m  12985.5 \u001b[m\u001b[mtotal,\u001b[m\u001b[m\u001b[1m   8799.0 \u001b[m\u001b[mfree,\u001b[m\u001b[m\u001b[1m    946.6 \u001b[m\u001b[mused,\u001b[m\u001b[m\u001b[1m   3240.0 \u001b[m\u001b[mbuff/cache\u001b[m\u001b[m\u001b[m\u001b[m\u001b[K\n",
            "MiB Swap:\u001b[m\u001b[m\u001b[1m      0.0 \u001b[m\u001b[mtotal,\u001b[m\u001b[m\u001b[1m      0.0 \u001b[m\u001b[mfree,\u001b[m\u001b[m\u001b[1m      0.0 \u001b[m\u001b[mused.\u001b[m\u001b[m\u001b[1m  11755.1 \u001b[m\u001b[mavail Mem \u001b[m\u001b[m\u001b[m\u001b[m\u001b[K\n",
            "\u001b[K\n",
            "\n",
            "\u001b[m    311 root      20   0 1284256 189648  62036 S   0.7   1.4   0:08.42 python3  \u001b[m\u001b[m\u001b[K\n",
            "\u001b[m      7 root      20   0  896552  49856  30672 S   0.3   0.4   0:04.56 node     \u001b[m\u001b[m\u001b[K\n",
            "\u001b[m     34 root      20   0  721784  13992   8156 S   0.3   0.1   0:00.47 kernel_+ \u001b[m\u001b[m\u001b[K\n",
            "\u001b[m      1 root      20   0    1012      8      0 S   0.0   0.0   0:00.60 docker-+ \u001b[m\u001b[m\u001b[K\n",
            "\u001b[m     20 root      20   0    5524    584    512 S   0.0   0.0   0:00.64 tail     \u001b[m\u001b[m\u001b[K\n",
            "\u001b[m     31 root      20   0    6904   3428   3136 S   0.0   0.0   0:00.52 oom_mon+ \u001b[m\u001b[m\u001b[K\n",
            "\u001b[m     33 root      20   0    6904   1604   1328 S   0.0   0.0   0:00.00 run.sh   \u001b[m\u001b[m\u001b[K\n",
            "\u001b[m     61 root      20   0       0      0      0 Z   0.0   0.0   0:06.41 python3  \u001b[m\u001b[m\u001b[K\n",
            "\u001b[m     62 root      20   0   77204  44108  12944 S   0.0   0.3   0:00.69 colab-f+ \u001b[m\u001b[m\u001b[K\n",
            "\u001b[m     83 root      20   0  556536 152600  48356 S   0.0   1.1   0:05.23 jupyter+ \u001b[m\u001b[m\u001b[K\n",
            "\u001b[m     84 root      20   0  712316   7424   2848 S   0.0   0.1   0:00.19 dap_mul+ \u001b[m\u001b[m\u001b[K\n",
            "\u001b[m    346 root      20   0  537604  14108   5636 S   0.0   0.1   0:00.15 python3  \u001b[m\u001b[m\u001b[K\n",
            "\u001b[m    381 root      20   0 1112384 372256  30220 S   0.0   2.8   0:56.50 node     \u001b[m\u001b[m\u001b[K\n",
            "\u001b[m\u001b[1m   3953 root      20   0    9128   3604   3112 R   0.0   0.0   0:00.02 top      \u001b[m\u001b[m\u001b[K\n",
            "\u001b[m   4105 root      20   0    5488    516    448 S   0.0   0.0   0:00.00 sleep    \u001b[m\u001b[m\u001b[K\n",
            "\u001b[J\u001b[H\u001b[mtop - 01:58:42 up 16 min,  0 users,  load average: 0.41, 0.46, 0.31\u001b[m\u001b[m\u001b[m\u001b[m\u001b[K\n",
            "\n",
            "%Cpu(s):\u001b[m\u001b[m\u001b[1m  1.5 \u001b[m\u001b[mus,\u001b[m\u001b[m\u001b[1m  0.8 \u001b[m\u001b[msy,\u001b[m\u001b[m\u001b[1m  0.0 \u001b[m\u001b[mni,\u001b[m\u001b[m\u001b[1m 97.5 \u001b[m\u001b[mid,\u001b[m\u001b[m\u001b[1m  0.0 \u001b[m\u001b[mwa,\u001b[m\u001b[m\u001b[1m  0.0 \u001b[m\u001b[mhi,\u001b[m\u001b[m\u001b[1m  0.2 \u001b[m\u001b[msi,\u001b[m\u001b[m\u001b[1m  0.0 \u001b[m\u001b[mst\u001b[m\u001b[m\u001b[m\u001b[m\u001b[K\n",
            "MiB Mem :\u001b[m\u001b[m\u001b[1m  12985.5 \u001b[m\u001b[mtotal,\u001b[m\u001b[m\u001b[1m   8798.8 \u001b[m\u001b[mfree,\u001b[m\u001b[m\u001b[1m    946.8 \u001b[m\u001b[mused,\u001b[m\u001b[m\u001b[1m   3240.0 \u001b[m\u001b[mbuff/cache\u001b[m\u001b[m\u001b[m\u001b[m\u001b[K\n",
            "MiB Swap:\u001b[m\u001b[m\u001b[1m      0.0 \u001b[m\u001b[mtotal,\u001b[m\u001b[m\u001b[1m      0.0 \u001b[m\u001b[mfree,\u001b[m\u001b[m\u001b[1m      0.0 \u001b[m\u001b[mused.\u001b[m\u001b[m\u001b[1m  11754.9 \u001b[m\u001b[mavail Mem \u001b[m\u001b[m\u001b[m\u001b[m\u001b[K\n",
            "\u001b[K\n",
            "\n",
            "\u001b[m    311 root      20   0 1284256 189648  62036 S   1.0   1.4   0:08.45 python3  \u001b[m\u001b[m\u001b[K\n",
            "\u001b[m     83 root      20   0  556536 152600  48356 S   0.3   1.1   0:05.24 jupyter+ \u001b[m\u001b[m\u001b[K\n",
            "\u001b[m    346 root      20   0  537604  14108   5636 S   0.3   0.1   0:00.16 python3  \u001b[m\u001b[m\u001b[K\n",
            "\n",
            "\u001b[m      7 root      20   0  896552  49856  30672 S   0.0   0.4   0:04.56 node     \u001b[m\u001b[m\u001b[K\n",
            "\u001b[m     20 root      20   0    5524    584    512 S   0.0   0.0   0:00.64 tail     \u001b[m\u001b[m\u001b[K\n",
            "\u001b[m     31 root      20   0    6904   3428   3136 S   0.0   0.0   0:00.52 oom_mon+ \u001b[m\u001b[m\u001b[K\n",
            "\u001b[m     33 root      20   0    6904   1604   1328 S   0.0   0.0   0:00.00 run.sh   \u001b[m\u001b[m\u001b[K\n",
            "\u001b[m     34 root      20   0  721784  13992   8156 S   0.0   0.1   0:00.47 kernel_+ \u001b[m\u001b[m\u001b[K\n",
            "\u001b[m     61 root      20   0       0      0      0 Z   0.0   0.0   0:06.41 python3  \u001b[m\u001b[m\u001b[K\n",
            "\u001b[m     62 root      20   0   77204  44108  12944 S   0.0   0.3   0:00.69 colab-f+ \u001b[m\u001b[m\u001b[K\n",
            "\u001b[m     84 root      20   0  712316   7424   2848 S   0.0   0.1   0:00.19 dap_mul+ \u001b[m\u001b[m\u001b[K\n",
            "\n",
            "\n",
            "\u001b[m   4117 root      20   0    5488    580    512 S   0.0   0.0   0:00.00 sleep    \u001b[m\u001b[m\u001b[K\n",
            "\u001b[J\u001b[H\u001b[mtop - 01:58:45 up 16 min,  0 users,  load average: 0.38, 0.45, 0.31\u001b[m\u001b[m\u001b[m\u001b[m\u001b[K\n",
            "\n",
            "%Cpu(s):\u001b[m\u001b[m\u001b[1m  1.7 \u001b[m\u001b[mus,\u001b[m\u001b[m\u001b[1m  1.3 \u001b[m\u001b[msy,\u001b[m\u001b[m\u001b[1m  0.0 \u001b[m\u001b[mni,\u001b[m\u001b[m\u001b[1m 97.0 \u001b[m\u001b[mid,\u001b[m\u001b[m\u001b[1m  0.0 \u001b[m\u001b[mwa,\u001b[m\u001b[m\u001b[1m  0.0 \u001b[m\u001b[mhi,\u001b[m\u001b[m\u001b[1m  0.0 \u001b[m\u001b[msi,\u001b[m\u001b[m\u001b[1m  0.0 \u001b[m\u001b[mst\u001b[m\u001b[m\u001b[m\u001b[m\u001b[K\n",
            "MiB Mem :\u001b[m\u001b[m\u001b[1m  12985.5 \u001b[m\u001b[mtotal,\u001b[m\u001b[m\u001b[1m   8798.7 \u001b[m\u001b[mfree,\u001b[m\u001b[m\u001b[1m    946.9 \u001b[m\u001b[mused,\u001b[m\u001b[m\u001b[1m   3240.0 \u001b[m\u001b[mbuff/cache\u001b[m\u001b[m\u001b[m\u001b[m\u001b[K\n",
            "MiB Swap:\u001b[m\u001b[m\u001b[1m      0.0 \u001b[m\u001b[mtotal,\u001b[m\u001b[m\u001b[1m      0.0 \u001b[m\u001b[mfree,\u001b[m\u001b[m\u001b[1m      0.0 \u001b[m\u001b[mused.\u001b[m\u001b[m\u001b[1m  11754.8 \u001b[m\u001b[mavail Mem \u001b[m\u001b[m\u001b[m\u001b[m\u001b[K\n",
            "\u001b[K\n",
            "\n",
            "\u001b[m    311 root      20   0 1284256 189648  62036 S   0.7   1.4   0:08.47 python3  \u001b[m\u001b[m\u001b[K\n",
            "\u001b[m      7 root      20   0  896552  50120  30672 S   0.3   0.4   0:04.57 node     \u001b[m\u001b[m\u001b[K\n",
            "\u001b[m     84 root      20   0  712316   7424   2848 S   0.3   0.1   0:00.20 dap_mul+ \u001b[m\u001b[m\u001b[K\n",
            "\u001b[m    346 root      20   0  537604  14108   5636 S   0.3   0.1   0:00.17 python3  \u001b[m\u001b[m\u001b[K\n",
            "\u001b[m      1 root      20   0    1012      8      0 S   0.0   0.0   0:00.60 docker-+ \u001b[m\u001b[m\u001b[K\n",
            "\n",
            "\n",
            "\n",
            "\n",
            "\n",
            "\n",
            "\u001b[m     83 root      20   0  556536 152600  48356 S   0.0   1.1   0:05.24 jupyter+ \u001b[m\u001b[m\u001b[K\n",
            "\n",
            "\n",
            "\u001b[m   4131 root      20   0    5488    576    512 S   0.0   0.0   0:00.00 sleep    \u001b[m\u001b[m\u001b[K\n",
            "\u001b[J\u001b[H\u001b[mtop - 01:58:48 up 16 min,  0 users,  load average: 0.38, 0.45, 0.31\u001b[m\u001b[m\u001b[m\u001b[m\u001b[K\n",
            "\n",
            "%Cpu(s):\u001b[m\u001b[m\u001b[1m  3.0 \u001b[m\u001b[mus,\u001b[m\u001b[m\u001b[1m  2.5 \u001b[m\u001b[msy,\u001b[m\u001b[m\u001b[1m  0.0 \u001b[m\u001b[mni,\u001b[m\u001b[m\u001b[1m 94.5 \u001b[m\u001b[mid,\u001b[m\u001b[m\u001b[1m  0.0 \u001b[m\u001b[mwa,\u001b[m\u001b[m\u001b[1m  0.0 \u001b[m\u001b[mhi,\u001b[m\u001b[m\u001b[1m  0.0 \u001b[m\u001b[msi,\u001b[m\u001b[m\u001b[1m  0.0 \u001b[m\u001b[mst\u001b[m\u001b[m\u001b[m\u001b[m\u001b[K\n",
            "MiB Mem :\u001b[m\u001b[m\u001b[1m  12985.5 \u001b[m\u001b[mtotal,\u001b[m\u001b[m\u001b[1m   8797.4 \u001b[m\u001b[mfree,\u001b[m\u001b[m\u001b[1m    948.1 \u001b[m\u001b[mused,\u001b[m\u001b[m\u001b[1m   3240.0 \u001b[m\u001b[mbuff/cache\u001b[m\u001b[m\u001b[m\u001b[m\u001b[K\n",
            "MiB Swap:\u001b[m\u001b[m\u001b[1m      0.0 \u001b[m\u001b[mtotal,\u001b[m\u001b[m\u001b[1m      0.0 \u001b[m\u001b[mfree,\u001b[m\u001b[m\u001b[1m      0.0 \u001b[m\u001b[mused.\u001b[m\u001b[m\u001b[1m  11753.6 \u001b[m\u001b[mavail Mem \u001b[m\u001b[m\u001b[m\u001b[m\u001b[K\n",
            "\u001b[K\n",
            "\n",
            "\u001b[m    311 root      20   0 1284256 189648  62036 S   0.7   1.4   0:08.49 python3  \u001b[m\u001b[m\u001b[K\n",
            "\u001b[m     84 root      20   0  712316   7424   2848 S   0.3   0.1   0:00.21 dap_mul+ \u001b[m\u001b[m\u001b[K\n",
            "\u001b[m      1 root      20   0    1012      8      0 S   0.0   0.0   0:00.60 docker-+ \u001b[m\u001b[m\u001b[K\n",
            "\u001b[m      7 root      20   0  896552  50120  30672 S   0.0   0.4   0:04.57 node     \u001b[m\u001b[m\u001b[K\n",
            "\u001b[m     20 root      20   0    5524    584    512 S   0.0   0.0   0:00.64 tail     \u001b[m\u001b[m\u001b[K\n",
            "\u001b[m     31 root      20   0    6904   3428   3136 S   0.0   0.0   0:00.52 oom_mon+ \u001b[m\u001b[m\u001b[K\n",
            "\u001b[m     33 root      20   0    6904   1604   1328 S   0.0   0.0   0:00.00 run.sh   \u001b[m\u001b[m\u001b[K\n",
            "\u001b[m     34 root      20   0  721784  13992   8156 S   0.0   0.1   0:00.47 kernel_+ \u001b[m\u001b[m\u001b[K\n",
            "\u001b[m     61 root      20   0       0      0      0 Z   0.0   0.0   0:06.41 python3  \u001b[m\u001b[m\u001b[K\n",
            "\u001b[m     62 root      20   0   77204  44108  12944 S   0.0   0.3   0:00.69 colab-f+ \u001b[m\u001b[m\u001b[K\n",
            "\u001b[m     83 root      20   0  556536 152600  48356 S   0.0   1.1   0:05.24 jupyter+ \u001b[m\u001b[m\u001b[K\n",
            "\u001b[m    346 root      20   0  537860  14108   5636 S   0.0   0.1   0:00.17 python3  \u001b[m\u001b[m\u001b[K\n",
            "\n",
            "\n",
            "\u001b[m   4143 root      20   0    5488    580    516 S   0.0   0.0   0:00.00 sleep    \u001b[m\u001b[m\u001b[K\n",
            "\u001b[J\u001b[H\u001b[mtop - 01:58:51 up 16 min,  0 users,  load average: 0.51, 0.48, 0.32\u001b[m\u001b[m\u001b[m\u001b[m\u001b[K\n",
            "\n",
            "%Cpu(s):\u001b[m\u001b[m\u001b[1m 22.9 \u001b[m\u001b[mus,\u001b[m\u001b[m\u001b[1m  5.7 \u001b[m\u001b[msy,\u001b[m\u001b[m\u001b[1m  0.0 \u001b[m\u001b[mni,\u001b[m\u001b[m\u001b[1m 71.1 \u001b[m\u001b[mid,\u001b[m\u001b[m\u001b[1m  0.2 \u001b[m\u001b[mwa,\u001b[m\u001b[m\u001b[1m  0.0 \u001b[m\u001b[mhi,\u001b[m\u001b[m\u001b[1m  0.2 \u001b[m\u001b[msi,\u001b[m\u001b[m\u001b[1m  0.0 \u001b[m\u001b[mst\u001b[m\u001b[m\u001b[m\u001b[m\u001b[K\n",
            "MiB Mem :\u001b[m\u001b[m\u001b[1m  12985.5 \u001b[m\u001b[mtotal,\u001b[m\u001b[m\u001b[1m   8797.3 \u001b[m\u001b[mfree,\u001b[m\u001b[m\u001b[1m    948.3 \u001b[m\u001b[mused,\u001b[m\u001b[m\u001b[1m   3240.0 \u001b[m\u001b[mbuff/cache\u001b[m\u001b[m\u001b[m\u001b[m\u001b[K\n",
            "MiB Swap:\u001b[m\u001b[m\u001b[1m      0.0 \u001b[m\u001b[mtotal,\u001b[m\u001b[m\u001b[1m      0.0 \u001b[m\u001b[mfree,\u001b[m\u001b[m\u001b[1m      0.0 \u001b[m\u001b[mused.\u001b[m\u001b[m\u001b[1m  11753.4 \u001b[m\u001b[mavail Mem \u001b[m\u001b[m\u001b[m\u001b[m\u001b[K\n",
            "\u001b[K\n",
            "\n",
            "\u001b[m    311 root      20   0 1284256 189648  62036 S   1.0   1.4   0:08.52 python3  \u001b[m\u001b[m\u001b[K\n",
            "\u001b[m    346 root      20   0  537860  14292   5636 S   0.7   0.1   0:00.19 python3  \u001b[m\u001b[m\u001b[K\n",
            "\u001b[m     83 root      20   0  556536 152600  48356 S   0.3   1.1   0:05.25 jupyter+ \u001b[m\u001b[m\u001b[K\n",
            "\u001b[m     84 root      20   0  712892   7640   2848 S   0.3   0.1   0:00.22 dap_mul+ \u001b[m\u001b[m\u001b[K\n",
            "\u001b[m      1 root      20   0    1012      8      0 S   0.0   0.0   0:00.60 docker-+ \u001b[m\u001b[m\u001b[K\n",
            "\u001b[m      7 root      20   0  896552  50384  30672 S   0.0   0.4   0:04.57 node     \u001b[m\u001b[m\u001b[K\n",
            "\u001b[m     20 root      20   0    5524    584    512 S   0.0   0.0   0:00.64 tail     \u001b[m\u001b[m\u001b[K\n",
            "\u001b[m     31 root      20   0    6904   3428   3136 S   0.0   0.0   0:00.52 oom_mon+ \u001b[m\u001b[m\u001b[K\n",
            "\u001b[m     33 root      20   0    6904   1604   1328 S   0.0   0.0   0:00.00 run.sh   \u001b[m\u001b[m\u001b[K\n",
            "\u001b[m     34 root      20   0  721784  14248   8156 S   0.0   0.1   0:00.47 kernel_+ \u001b[m\u001b[m\u001b[K\n",
            "\u001b[m     61 root      20   0       0      0      0 Z   0.0   0.0   0:06.41 python3  \u001b[m\u001b[m\u001b[K\n",
            "\u001b[m     62 root      20   0   77204  44108  12944 S   0.0   0.3   0:00.69 colab-f+ \u001b[m\u001b[m\u001b[K\n",
            "\n",
            "\n",
            "\u001b[m   4155 root      20   0    5488    584    516 S   0.0   0.0   0:00.00 sleep    \u001b[m\u001b[m\u001b[K\n",
            "\u001b[J\u001b[H\u001b[mtop - 01:58:54 up 16 min,  0 users,  load average: 0.47, 0.47, 0.32\u001b[m\u001b[m\u001b[m\u001b[m\u001b[K\n",
            "\n",
            "%Cpu(s):\u001b[m\u001b[m\u001b[1m  1.3 \u001b[m\u001b[mus,\u001b[m\u001b[m\u001b[1m  1.2 \u001b[m\u001b[msy,\u001b[m\u001b[m\u001b[1m  0.0 \u001b[m\u001b[mni,\u001b[m\u001b[m\u001b[1m 97.5 \u001b[m\u001b[mid,\u001b[m\u001b[m\u001b[1m  0.0 \u001b[m\u001b[mwa,\u001b[m\u001b[m\u001b[1m  0.0 \u001b[m\u001b[mhi,\u001b[m\u001b[m\u001b[1m  0.0 \u001b[m\u001b[msi,\u001b[m\u001b[m\u001b[1m  0.0 \u001b[m\u001b[mst\u001b[m\u001b[m\u001b[m\u001b[m\u001b[K\n",
            "MiB Mem :\u001b[m\u001b[m\u001b[1m  12985.5 \u001b[m\u001b[mtotal,\u001b[m\u001b[m\u001b[1m   8797.2 \u001b[m\u001b[mfree,\u001b[m\u001b[m\u001b[1m    948.4 \u001b[m\u001b[mused,\u001b[m\u001b[m\u001b[1m   3240.0 \u001b[m\u001b[mbuff/cache\u001b[m\u001b[m\u001b[m\u001b[m\u001b[K\n",
            "\n",
            "\u001b[K\n",
            "\n",
            "\u001b[m    311 root      20   0 1284256 189648  62036 S   1.0   1.4   0:08.55 python3  \u001b[m\u001b[m\u001b[K\n",
            "\u001b[m      7 root      20   0  896552  49388  30672 S   0.3   0.4   0:04.58 node     \u001b[m\u001b[m\u001b[K\n",
            "\u001b[m     83 root      20   0  556668 152604  48356 S   0.3   1.1   0:05.26 jupyter+ \u001b[m\u001b[m\u001b[K\n",
            "\u001b[m      1 root      20   0    1012      8      0 S   0.0   0.0   0:00.60 docker-+ \u001b[m\u001b[m\u001b[K\n",
            "\u001b[m     20 root      20   0    5524    584    512 S   0.0   0.0   0:00.64 tail     \u001b[m\u001b[m\u001b[K\n",
            "\u001b[m     31 root      20   0    6904   3428   3136 S   0.0   0.0   0:00.52 oom_mon+ \u001b[m\u001b[m\u001b[K\n",
            "\u001b[m     33 root      20   0    6904   1604   1328 S   0.0   0.0   0:00.00 run.sh   \u001b[m\u001b[m\u001b[K\n",
            "\u001b[m     34 root      20   0  721784  14504   8160 S   0.0   0.1   0:00.47 kernel_+ \u001b[m\u001b[m\u001b[K\n",
            "\u001b[m     61 root      20   0       0      0      0 Z   0.0   0.0   0:06.41 python3  \u001b[m\u001b[m\u001b[K\n",
            "\u001b[m     62 root      20   0   77204  44108  12944 S   0.0   0.3   0:00.69 colab-f+ \u001b[m\u001b[m\u001b[K\n",
            "\u001b[m     84 root      20   0  712892   8116   2848 S   0.0   0.1   0:00.22 dap_mul+ \u001b[m\u001b[m\u001b[K\n",
            "\u001b[m    346 root      20   0  537860  14292   5636 S   0.0   0.1   0:00.19 python3  \u001b[m\u001b[m\u001b[K\n",
            "\n",
            "\n",
            "\u001b[m   4167 root      20   0    5488    584    516 S   0.0   0.0   0:00.00 sleep    \u001b[m\u001b[m\u001b[K\n",
            "\u001b[J\u001b[H\u001b[mtop - 01:58:57 up 16 min,  0 users,  load average: 0.47, 0.47, 0.32\u001b[m\u001b[m\u001b[m\u001b[m\u001b[K\n",
            "\n",
            "%Cpu(s):\u001b[m\u001b[m\u001b[1m  0.8 \u001b[m\u001b[mus,\u001b[m\u001b[m\u001b[1m  1.0 \u001b[m\u001b[msy,\u001b[m\u001b[m\u001b[1m  0.0 \u001b[m\u001b[mni,\u001b[m\u001b[m\u001b[1m 97.8 \u001b[m\u001b[mid,\u001b[m\u001b[m\u001b[1m  0.0 \u001b[m\u001b[mwa,\u001b[m\u001b[m\u001b[1m  0.0 \u001b[m\u001b[mhi,\u001b[m\u001b[m\u001b[1m  0.2 \u001b[m\u001b[msi,\u001b[m\u001b[m\u001b[1m  0.2 \u001b[m\u001b[mst\u001b[m\u001b[m\u001b[m\u001b[m\u001b[K\n",
            "MiB Mem :\u001b[m\u001b[m\u001b[1m  12985.5 \u001b[m\u001b[mtotal,\u001b[m\u001b[m\u001b[1m   8797.5 \u001b[m\u001b[mfree,\u001b[m\u001b[m\u001b[1m    948.1 \u001b[m\u001b[mused,\u001b[m\u001b[m\u001b[1m   3240.0 \u001b[m\u001b[mbuff/cache\u001b[m\u001b[m\u001b[m\u001b[m\u001b[K\n",
            "MiB Swap:\u001b[m\u001b[m\u001b[1m      0.0 \u001b[m\u001b[mtotal,\u001b[m\u001b[m\u001b[1m      0.0 \u001b[m\u001b[mfree,\u001b[m\u001b[m\u001b[1m      0.0 \u001b[m\u001b[mused.\u001b[m\u001b[m\u001b[1m  11753.7 \u001b[m\u001b[mavail Mem \u001b[m\u001b[m\u001b[m\u001b[m\u001b[K\n",
            "\u001b[K\n",
            "\n",
            "\u001b[m    311 root      20   0 1284256 189668  62036 S   0.7   1.4   0:08.57 python3  \u001b[m\u001b[m\u001b[K\n",
            "\u001b[m     31 root      20   0    6904   3428   3136 S   0.3   0.0   0:00.53 oom_mon+ \u001b[m\u001b[m\u001b[K\n",
            "\u001b[m     83 root      20   0  556668 152608  48356 S   0.3   1.1   0:05.27 jupyter+ \u001b[m\u001b[m\u001b[K\n",
            "\u001b[m    346 root      20   0  537860  14292   5636 S   0.3   0.1   0:00.20 python3  \u001b[m\u001b[m\u001b[K\n",
            "\u001b[m      1 root      20   0    1012      8      0 S   0.0   0.0   0:00.60 docker-+ \u001b[m\u001b[m\u001b[K\n",
            "\u001b[m      7 root      20   0  896552  49388  30672 S   0.0   0.4   0:04.58 node     \u001b[m\u001b[m\u001b[K\n",
            "\u001b[m     20 root      20   0    5524    584    512 S   0.0   0.0   0:00.64 tail     \u001b[m\u001b[m\u001b[K\n",
            "\u001b[m     33 root      20   0    6904   1604   1328 S   0.0   0.0   0:00.00 run.sh   \u001b[m\u001b[m\u001b[K\n",
            "\u001b[m     34 root      20   0  721784  14768   8160 S   0.0   0.1   0:00.47 kernel_+ \u001b[m\u001b[m\u001b[K\n",
            "\u001b[m     61 root      20   0       0      0      0 Z   0.0   0.0   0:06.41 python3  \u001b[m\u001b[m\u001b[K\n",
            "\u001b[m     62 root      20   0   77204  44108  12944 S   0.0   0.3   0:00.69 colab-f+ \u001b[m\u001b[m\u001b[K\n",
            "\u001b[m     84 root      20   0  712892   8116   2848 S   0.0   0.1   0:00.22 dap_mul+ \u001b[m\u001b[m\u001b[K\n",
            "\n",
            "\n",
            "\u001b[m   4181 root      20   0    5488    516    448 S   0.0   0.0   0:00.00 sleep    \u001b[m\u001b[m\u001b[K\n",
            "\u001b[J\u001b[H\u001b[mtop - 01:59:00 up 16 min,  0 users,  load average: 0.43, 0.46, 0.32\u001b[m\u001b[m\u001b[m\u001b[m\u001b[K\n",
            "\n",
            "%Cpu(s):\u001b[m\u001b[m\u001b[1m  8.5 \u001b[m\u001b[mus,\u001b[m\u001b[m\u001b[1m  3.0 \u001b[m\u001b[msy,\u001b[m\u001b[m\u001b[1m  0.0 \u001b[m\u001b[mni,\u001b[m\u001b[m\u001b[1m 88.5 \u001b[m\u001b[mid,\u001b[m\u001b[m\u001b[1m  0.0 \u001b[m\u001b[mwa,\u001b[m\u001b[m\u001b[1m  0.0 \u001b[m\u001b[mhi,\u001b[m\u001b[m\u001b[1m  0.0 \u001b[m\u001b[msi,\u001b[m\u001b[m\u001b[1m  0.0 \u001b[m\u001b[mst\u001b[m\u001b[m\u001b[m\u001b[m\u001b[K\n",
            "MiB Mem :\u001b[m\u001b[m\u001b[1m  12985.5 \u001b[m\u001b[mtotal,\u001b[m\u001b[m\u001b[1m   8795.9 \u001b[m\u001b[mfree,\u001b[m\u001b[m\u001b[1m    949.6 \u001b[m\u001b[mused,\u001b[m\u001b[m\u001b[1m   3240.0 \u001b[m\u001b[mbuff/cache\u001b[m\u001b[m\u001b[m\u001b[m\u001b[K\n",
            "MiB Swap:\u001b[m\u001b[m\u001b[1m      0.0 \u001b[m\u001b[mtotal,\u001b[m\u001b[m\u001b[1m      0.0 \u001b[m\u001b[mfree,\u001b[m\u001b[m\u001b[1m      0.0 \u001b[m\u001b[mused.\u001b[m\u001b[m\u001b[1m  11752.1 \u001b[m\u001b[mavail Mem \u001b[m\u001b[m\u001b[m\u001b[m\u001b[K\n",
            "\u001b[K\n",
            "\n",
            "\u001b[m     84 root      20   0  712892   8332   2848 S   0.7   0.1   0:00.24 dap_mul+ \u001b[m\u001b[m\u001b[K\n",
            "\u001b[m    311 root      20   0 1284256 189668  62036 S   0.7   1.4   0:08.59 python3  \u001b[m\u001b[m\u001b[K\n",
            "\u001b[m     34 root      20   0  721784  15024   8160 S   0.3   0.1   0:00.48 kernel_+ \u001b[m\u001b[m\u001b[K\n",
            "\u001b[m    346 root      20   0  537860  14292   5636 S   0.3   0.1   0:00.21 python3  \u001b[m\u001b[m\u001b[K\n",
            "\n",
            "\u001b[m      7 root      20   0  896552  49652  30672 S   0.0   0.4   0:04.58 node     \u001b[m\u001b[m\u001b[K\n",
            "\n",
            "\u001b[m     31 root      20   0    6904   3428   3136 S   0.0   0.0   0:00.53 oom_mon+ \u001b[m\u001b[m\u001b[K\n",
            "\u001b[m     33 root      20   0    6904   1604   1328 S   0.0   0.0   0:00.00 run.sh   \u001b[m\u001b[m\u001b[K\n",
            "\n",
            "\n",
            "\u001b[m     83 root      20   0  556668 152608  48356 S   0.0   1.1   0:05.27 jupyter+ \u001b[m\u001b[m\u001b[K\n",
            "\n",
            "\n",
            "\u001b[m   4193 root      20   0    5488    584    512 S   0.0   0.0   0:00.00 sleep    \u001b[m\u001b[m\u001b[K\n",
            "\u001b[J\u001b[H\u001b[mtop - 01:59:03 up 16 min,  0 users,  load average: 0.43, 0.46, 0.32\u001b[m\u001b[m\u001b[m\u001b[m\u001b[K\n",
            "\n",
            "%Cpu(s):\u001b[m\u001b[m\u001b[1m 17.9 \u001b[m\u001b[mus,\u001b[m\u001b[m\u001b[1m  4.8 \u001b[m\u001b[msy,\u001b[m\u001b[m\u001b[1m  0.0 \u001b[m\u001b[mni,\u001b[m\u001b[m\u001b[1m 77.3 \u001b[m\u001b[mid,\u001b[m\u001b[m\u001b[1m  0.0 \u001b[m\u001b[mwa,\u001b[m\u001b[m\u001b[1m  0.0 \u001b[m\u001b[mhi,\u001b[m\u001b[m\u001b[1m  0.0 \u001b[m\u001b[msi,\u001b[m\u001b[m\u001b[1m  0.0 \u001b[m\u001b[mst\u001b[m\u001b[m\u001b[m\u001b[m\u001b[K\n",
            "MiB Mem :\u001b[m\u001b[m\u001b[1m  12985.5 \u001b[m\u001b[mtotal,\u001b[m\u001b[m\u001b[1m   8795.5 \u001b[m\u001b[mfree,\u001b[m\u001b[m\u001b[1m    950.1 \u001b[m\u001b[mused,\u001b[m\u001b[m\u001b[1m   3240.0 \u001b[m\u001b[mbuff/cache\u001b[m\u001b[m\u001b[m\u001b[m\u001b[K\n",
            "MiB Swap:\u001b[m\u001b[m\u001b[1m      0.0 \u001b[m\u001b[mtotal,\u001b[m\u001b[m\u001b[1m      0.0 \u001b[m\u001b[mfree,\u001b[m\u001b[m\u001b[1m      0.0 \u001b[m\u001b[mused.\u001b[m\u001b[m\u001b[1m  11751.6 \u001b[m\u001b[mavail Mem \u001b[m\u001b[m\u001b[m\u001b[m\u001b[K\n",
            "\u001b[K\n",
            "\n",
            "\u001b[m      7 root      20   0  896552  49652  30672 S   0.7   0.4   0:04.60 node     \u001b[m\u001b[m\u001b[K\n",
            "\u001b[m     83 root      20   0  556668 152608  48356 S   0.7   1.1   0:05.29 jupyter+ \u001b[m\u001b[m\u001b[K\n",
            "\u001b[m    311 root      20   0 1284256 189668  62036 S   0.7   1.4   0:08.61 python3  \u001b[m\u001b[m\u001b[K\n",
            "\u001b[m     31 root      20   0    6904   3428   3136 S   0.3   0.0   0:00.54 oom_mon+ \u001b[m\u001b[m\u001b[K\n",
            "\n",
            "\u001b[m     20 root      20   0    5524    584    512 S   0.0   0.0   0:00.64 tail     \u001b[m\u001b[m\u001b[K\n",
            "\u001b[m     33 root      20   0    6904   1604   1328 S   0.0   0.0   0:00.00 run.sh   \u001b[m\u001b[m\u001b[K\n",
            "\u001b[m     34 root      20   0  721784  15284   8160 S   0.0   0.1   0:00.48 kernel_+ \u001b[m\u001b[m\u001b[K\n",
            "\u001b[m     61 root      20   0       0      0      0 Z   0.0   0.0   0:06.41 python3  \u001b[m\u001b[m\u001b[K\n",
            "\u001b[m     62 root      20   0   77204  44108  12944 S   0.0   0.3   0:00.69 colab-f+ \u001b[m\u001b[m\u001b[K\n",
            "\u001b[m     84 root      20   0  712892   8332   2848 S   0.0   0.1   0:00.24 dap_mul+ \u001b[m\u001b[m\u001b[K\n",
            "\u001b[m    346 root      20   0  537860  14556   5636 S   0.0   0.1   0:00.21 python3  \u001b[m\u001b[m\u001b[K\n",
            "\n",
            "\n",
            "\u001b[m   4207 root      20   0    5488    520    448 S   0.0   0.0   0:00.00 sleep    \u001b[m\u001b[m\u001b[K\n",
            "\u001b[J\u001b[H\u001b[mtop - 01:59:06 up 16 min,  0 users,  load average: 0.39, 0.45, 0.31\u001b[m\u001b[m\u001b[m\u001b[m\u001b[K\n",
            "\n",
            "%Cpu(s):\u001b[m\u001b[m\u001b[1m  1.3 \u001b[m\u001b[mus,\u001b[m\u001b[m\u001b[1m  1.2 \u001b[m\u001b[msy,\u001b[m\u001b[m\u001b[1m  0.0 \u001b[m\u001b[mni,\u001b[m\u001b[m\u001b[1m 97.5 \u001b[m\u001b[mid,\u001b[m\u001b[m\u001b[1m  0.0 \u001b[m\u001b[mwa,\u001b[m\u001b[m\u001b[1m  0.0 \u001b[m\u001b[mhi,\u001b[m\u001b[m\u001b[1m  0.0 \u001b[m\u001b[msi,\u001b[m\u001b[m\u001b[1m  0.0 \u001b[m\u001b[mst\u001b[m\u001b[m\u001b[m\u001b[m\u001b[K\n",
            "MiB Mem :\u001b[m\u001b[m\u001b[1m  12985.5 \u001b[m\u001b[mtotal,\u001b[m\u001b[m\u001b[1m   8795.8 \u001b[m\u001b[mfree,\u001b[m\u001b[m\u001b[1m    949.8 \u001b[m\u001b[mused,\u001b[m\u001b[m\u001b[1m   3240.0 \u001b[m\u001b[mbuff/cache\u001b[m\u001b[m\u001b[m\u001b[m\u001b[K\n",
            "MiB Swap:\u001b[m\u001b[m\u001b[1m      0.0 \u001b[m\u001b[mtotal,\u001b[m\u001b[m\u001b[1m      0.0 \u001b[m\u001b[mfree,\u001b[m\u001b[m\u001b[1m      0.0 \u001b[m\u001b[mused.\u001b[m\u001b[m\u001b[1m  11751.9 \u001b[m\u001b[mavail Mem \u001b[m\u001b[m\u001b[m\u001b[m\u001b[K\n",
            "\u001b[K\n",
            "\n",
            "\u001b[m    311 root      20   0 1284256 189668  62036 S   1.3   1.4   0:08.65 python3  \u001b[m\u001b[m\u001b[K\n",
            "\u001b[m    346 root      20   0  538116  14556   5636 S   0.3   0.1   0:00.22 python3  \u001b[m\u001b[m\u001b[K\n",
            "\u001b[m      1 root      20   0    1012      8      0 S   0.0   0.0   0:00.60 docker-+ \u001b[m\u001b[m\u001b[K\n",
            "\u001b[m      7 root      20   0  896552  49916  30672 S   0.0   0.4   0:04.60 node     \u001b[m\u001b[m\u001b[K\n",
            "\u001b[m     20 root      20   0    5524    584    512 S   0.0   0.0   0:00.64 tail     \u001b[m\u001b[m\u001b[K\n",
            "\u001b[m     31 root      20   0    6904   3428   3136 S   0.0   0.0   0:00.54 oom_mon+ \u001b[m\u001b[m\u001b[K\n",
            "\n",
            "\u001b[m     34 root      20   0  721784  15540   8160 S   0.0   0.1   0:00.48 kernel_+ \u001b[m\u001b[m\u001b[K\n",
            "\n",
            "\n",
            "\u001b[m     83 root      20   0  556668 152608  48356 S   0.0   1.1   0:05.29 jupyter+ \u001b[m\u001b[m\u001b[K\n",
            "\u001b[m     84 root      20   0  712892   8596   2848 S   0.0   0.1   0:00.24 dap_mul+ \u001b[m\u001b[m\u001b[K\n",
            "\n",
            "\n",
            "\u001b[m   4221 root      20   0    5488    584    516 S   0.0   0.0   0:00.00 sleep    \u001b[m\u001b[m\u001b[K\n",
            "\u001b[J\u001b[H\u001b[mtop - 01:59:09 up 16 min,  0 users,  load average: 0.36, 0.44, 0.31\u001b[m\u001b[m\u001b[m\u001b[m\u001b[K\n",
            "\n",
            "%Cpu(s):\u001b[m\u001b[m\u001b[1m  1.7 \u001b[m\u001b[mus,\u001b[m\u001b[m\u001b[1m  1.2 \u001b[m\u001b[msy,\u001b[m\u001b[m\u001b[1m  0.0 \u001b[m\u001b[mni,\u001b[m\u001b[m\u001b[1m 97.0 \u001b[m\u001b[mid,\u001b[m\u001b[m\u001b[1m  0.0 \u001b[m\u001b[mwa,\u001b[m\u001b[m\u001b[1m  0.0 \u001b[m\u001b[mhi,\u001b[m\u001b[m\u001b[1m  0.2 \u001b[m\u001b[msi,\u001b[m\u001b[m\u001b[1m  0.0 \u001b[m\u001b[mst\u001b[m\u001b[m\u001b[m\u001b[m\u001b[K\n",
            "MiB Mem :\u001b[m\u001b[m\u001b[1m  12985.5 \u001b[m\u001b[mtotal,\u001b[m\u001b[m\u001b[1m   8795.6 \u001b[m\u001b[mfree,\u001b[m\u001b[m\u001b[1m    950.0 \u001b[m\u001b[mused,\u001b[m\u001b[m\u001b[1m   3240.0 \u001b[m\u001b[mbuff/cache\u001b[m\u001b[m\u001b[m\u001b[m\u001b[K\n",
            "MiB Swap:\u001b[m\u001b[m\u001b[1m      0.0 \u001b[m\u001b[mtotal,\u001b[m\u001b[m\u001b[1m      0.0 \u001b[m\u001b[mfree,\u001b[m\u001b[m\u001b[1m      0.0 \u001b[m\u001b[mused.\u001b[m\u001b[m\u001b[1m  11751.7 \u001b[m\u001b[mavail Mem \u001b[m\u001b[m\u001b[m\u001b[m\u001b[K\n",
            "\u001b[K\n",
            "\n",
            "\u001b[m    311 root      20   0 1284256 189668  62036 S   0.7   1.4   0:08.67 python3  \u001b[m\u001b[m\u001b[K\n",
            "\u001b[m      7 root      20   0  896552  49916  30672 S   0.3   0.4   0:04.61 node     \u001b[m\u001b[m\u001b[K\n",
            "\u001b[m     34 root      20   0  721784  15540   8160 S   0.3   0.1   0:00.49 kernel_+ \u001b[m\u001b[m\u001b[K\n",
            "\u001b[m     62 root      20   0   77204  44108  12944 S   0.3   0.3   0:00.70 colab-f+ \u001b[m\u001b[m\u001b[K\n",
            "\u001b[m     84 root      20   0  712892   8596   2848 S   0.3   0.1   0:00.25 dap_mul+ \u001b[m\u001b[m\u001b[K\n",
            "\u001b[m    346 root      20   0  538116  14556   5636 S   0.3   0.1   0:00.23 python3  \u001b[m\u001b[m\u001b[K\n",
            "\u001b[m      1 root      20   0    1012      8      0 S   0.0   0.0   0:00.60 docker-+ \u001b[m\u001b[m\u001b[K\n",
            "\u001b[m     20 root      20   0    5524    584    512 S   0.0   0.0   0:00.64 tail     \u001b[m\u001b[m\u001b[K\n",
            "\u001b[m     31 root      20   0    6904   3428   3136 S   0.0   0.0   0:00.54 oom_mon+ \u001b[m\u001b[m\u001b[K\n",
            "\u001b[m     33 root      20   0    6904   1604   1328 S   0.0   0.0   0:00.00 run.sh   \u001b[m\u001b[m\u001b[K\n",
            "\u001b[m     61 root      20   0       0      0      0 Z   0.0   0.0   0:06.41 python3  \u001b[m\u001b[m\u001b[K\n",
            "\u001b[m     83 root      20   0  556668 152608  48356 S   0.0   1.1   0:05.29 jupyter+ \u001b[m\u001b[m\u001b[K\n",
            "\n",
            "\n",
            "\u001b[m   4233 root      20   0    5488    576    512 S   0.0   0.0   0:00.00 sleep    \u001b[m\u001b[m\u001b[K\n",
            "\u001b[J\u001b[H\u001b[mtop - 01:59:12 up 16 min,  0 users,  load average: 0.36, 0.44, 0.31\u001b[m\u001b[m\u001b[m\u001b[m\u001b[K\n",
            "\n",
            "%Cpu(s):\u001b[m\u001b[m\u001b[1m 14.3 \u001b[m\u001b[mus,\u001b[m\u001b[m\u001b[1m  3.7 \u001b[m\u001b[msy,\u001b[m\u001b[m\u001b[1m  0.0 \u001b[m\u001b[mni,\u001b[m\u001b[m\u001b[1m 82.0 \u001b[m\u001b[mid,\u001b[m\u001b[m\u001b[1m  0.0 \u001b[m\u001b[mwa,\u001b[m\u001b[m\u001b[1m  0.0 \u001b[m\u001b[mhi,\u001b[m\u001b[m\u001b[1m  0.0 \u001b[m\u001b[msi,\u001b[m\u001b[m\u001b[1m  0.0 \u001b[m\u001b[mst\u001b[m\u001b[m\u001b[m\u001b[m\u001b[K\n",
            "MiB Mem :\u001b[m\u001b[m\u001b[1m  12985.5 \u001b[m\u001b[mtotal,\u001b[m\u001b[m\u001b[1m   8794.4 \u001b[m\u001b[mfree,\u001b[m\u001b[m\u001b[1m    951.2 \u001b[m\u001b[mused,\u001b[m\u001b[m\u001b[1m   3240.0 \u001b[m\u001b[mbuff/cache\u001b[m\u001b[m\u001b[m\u001b[m\u001b[K\n",
            "MiB Swap:\u001b[m\u001b[m\u001b[1m      0.0 \u001b[m\u001b[mtotal,\u001b[m\u001b[m\u001b[1m      0.0 \u001b[m\u001b[mfree,\u001b[m\u001b[m\u001b[1m      0.0 \u001b[m\u001b[mused.\u001b[m\u001b[m\u001b[1m  11750.5 \u001b[m\u001b[mavail Mem \u001b[m\u001b[m\u001b[m\u001b[m\u001b[K\n",
            "\u001b[K\n",
            "\n",
            "\u001b[m    311 root      20   0 1284256 189668  62036 S   0.7   1.4   0:08.69 python3  \u001b[m\u001b[m\u001b[K\n",
            "\u001b[m     83 root      20   0  556668 152608  48356 S   0.3   1.1   0:05.30 jupyter+ \u001b[m\u001b[m\u001b[K\n",
            "\u001b[m    381 root      20   0 1112384 372256  30220 S   0.3   2.8   0:56.51 node     \u001b[m\u001b[m\u001b[K\n",
            "\u001b[m      1 root      20   0    1012      8      0 S   0.0   0.0   0:00.60 docker-+ \u001b[m\u001b[m\u001b[K\n",
            "\u001b[m      7 root      20   0  896552  49916  30672 S   0.0   0.4   0:04.61 node     \u001b[m\u001b[m\u001b[K\n",
            "\u001b[m     20 root      20   0    5524    584    512 S   0.0   0.0   0:00.64 tail     \u001b[m\u001b[m\u001b[K\n",
            "\u001b[m     31 root      20   0    6904   3428   3136 S   0.0   0.0   0:00.54 oom_mon+ \u001b[m\u001b[m\u001b[K\n",
            "\u001b[m     33 root      20   0    6904   1604   1328 S   0.0   0.0   0:00.00 run.sh   \u001b[m\u001b[m\u001b[K\n",
            "\u001b[m     34 root      20   0  721784  15540   8160 S   0.0   0.1   0:00.49 kernel_+ \u001b[m\u001b[m\u001b[K\n",
            "\u001b[m     61 root      20   0       0      0      0 Z   0.0   0.0   0:06.41 python3  \u001b[m\u001b[m\u001b[K\n",
            "\u001b[m     62 root      20   0   77204  44108  12944 S   0.0   0.3   0:00.70 colab-f+ \u001b[m\u001b[m\u001b[K\n",
            "\u001b[m     84 root      20   0  712892   8596   2848 S   0.0   0.1   0:00.25 dap_mul+ \u001b[m\u001b[m\u001b[K\n",
            "\u001b[m    346 root      20   0  538116  14556   5636 S   0.0   0.1   0:00.23 python3  \u001b[m\u001b[m\u001b[K\n",
            "\n",
            "\u001b[m   4245 root      20   0    5488    516    448 S   0.0   0.0   0:00.00 sleep    \u001b[m\u001b[m\u001b[K\n",
            "\u001b[J\u001b[H\u001b[mtop - 01:59:15 up 16 min,  0 users,  load average: 0.33, 0.44, 0.31\u001b[m\u001b[m\u001b[m\u001b[m\u001b[K\n",
            "\n",
            "%Cpu(s):\u001b[m\u001b[m\u001b[1m 11.9 \u001b[m\u001b[mus,\u001b[m\u001b[m\u001b[1m  3.9 \u001b[m\u001b[msy,\u001b[m\u001b[m\u001b[1m  0.0 \u001b[m\u001b[mni,\u001b[m\u001b[m\u001b[1m 84.2 \u001b[m\u001b[mid,\u001b[m\u001b[m\u001b[1m  0.0 \u001b[m\u001b[mwa,\u001b[m\u001b[m\u001b[1m  0.0 \u001b[m\u001b[mhi,\u001b[m\u001b[m\u001b[1m  0.0 \u001b[m\u001b[msi,\u001b[m\u001b[m\u001b[1m  0.0 \u001b[m\u001b[mst\u001b[m\u001b[m\u001b[m\u001b[m\u001b[K\n",
            "MiB Mem :\u001b[m\u001b[m\u001b[1m  12985.5 \u001b[m\u001b[mtotal,\u001b[m\u001b[m\u001b[1m   8794.7 \u001b[m\u001b[mfree,\u001b[m\u001b[m\u001b[1m    950.9 \u001b[m\u001b[mused,\u001b[m\u001b[m\u001b[1m   3240.0 \u001b[m\u001b[mbuff/cache\u001b[m\u001b[m\u001b[m\u001b[m\u001b[K\n",
            "MiB Swap:\u001b[m\u001b[m\u001b[1m      0.0 \u001b[m\u001b[mtotal,\u001b[m\u001b[m\u001b[1m      0.0 \u001b[m\u001b[mfree,\u001b[m\u001b[m\u001b[1m      0.0 \u001b[m\u001b[mused.\u001b[m\u001b[m\u001b[1m  11750.9 \u001b[m\u001b[mavail Mem \u001b[m\u001b[m\u001b[m\u001b[m\u001b[K\n",
            "\u001b[K\n",
            "\n",
            "\u001b[m    311 root      20   0 1284256 189668  62036 S   1.0   1.4   0:08.72 python3  \u001b[m\u001b[m\u001b[K\n",
            "\u001b[m      7 root      20   0  896552  50180  30672 S   0.3   0.4   0:04.62 node     \u001b[m\u001b[m\u001b[K\n",
            "\u001b[m     83 root      20   0  556668 152612  48356 S   0.3   1.1   0:05.31 jupyter+ \u001b[m\u001b[m\u001b[K\n",
            "\u001b[m    346 root      20   0  538116  14556   5636 S   0.3   0.1   0:00.24 python3  \u001b[m\u001b[m\u001b[K\n",
            "\u001b[m      1 root      20   0    1012      8      0 S   0.0   0.0   0:00.60 docker-+ \u001b[m\u001b[m\u001b[K\n",
            "\n",
            "\n",
            "\n",
            "\n",
            "\n",
            "\n",
            "\n",
            "\u001b[m    381 root      20   0 1112384 372256  30220 S   0.0   2.8   0:56.51 node     \u001b[m\u001b[m\u001b[K\n",
            "\n",
            "\u001b[m   4257 root      20   0    5488    516    448 S   0.0   0.0   0:00.00 sleep    \u001b[m\u001b[m\u001b[K\n",
            "\u001b[J\u001b[H\u001b[mtop - 01:59:18 up 16 min,  0 users,  load average: 0.33, 0.44, 0.31\u001b[m\u001b[m\u001b[m\u001b[m\u001b[K\n",
            "\n",
            "%Cpu(s):\u001b[m\u001b[m\u001b[1m  1.3 \u001b[m\u001b[mus,\u001b[m\u001b[m\u001b[1m  0.8 \u001b[m\u001b[msy,\u001b[m\u001b[m\u001b[1m  0.0 \u001b[m\u001b[mni,\u001b[m\u001b[m\u001b[1m 97.8 \u001b[m\u001b[mid,\u001b[m\u001b[m\u001b[1m  0.0 \u001b[m\u001b[mwa,\u001b[m\u001b[m\u001b[1m  0.0 \u001b[m\u001b[mhi,\u001b[m\u001b[m\u001b[1m  0.0 \u001b[m\u001b[msi,\u001b[m\u001b[m\u001b[1m  0.0 \u001b[m\u001b[mst\u001b[m\u001b[m\u001b[m\u001b[m\u001b[K\n",
            "MiB Mem :\u001b[m\u001b[m\u001b[1m  12985.5 \u001b[m\u001b[mtotal,\u001b[m\u001b[m\u001b[1m   8794.8 \u001b[m\u001b[mfree,\u001b[m\u001b[m\u001b[1m    950.8 \u001b[m\u001b[mused,\u001b[m\u001b[m\u001b[1m   3240.0 \u001b[m\u001b[mbuff/cache\u001b[m\u001b[m\u001b[m\u001b[m\u001b[K\n",
            "\n",
            "\u001b[K\n",
            "\n",
            "\u001b[m    311 root      20   0 1284256 189668  62036 S   1.0   1.4   0:08.75 python3  \u001b[m\u001b[m\u001b[K\n",
            "\u001b[m     34 root      20   0  721784  15540   8160 S   0.3   0.1   0:00.50 kernel_+ \u001b[m\u001b[m\u001b[K\n",
            "\u001b[m     83 root      20   0  556668 152612  48356 S   0.3   1.1   0:05.32 jupyter+ \u001b[m\u001b[m\u001b[K\n",
            "\u001b[m     84 root      20   0  712892   8596   2848 S   0.3   0.1   0:00.26 dap_mul+ \u001b[m\u001b[m\u001b[K\n",
            "\u001b[m    346 root      20   0  538116  14556   5636 S   0.3   0.1   0:00.25 python3  \u001b[m\u001b[m\u001b[K\n",
            "\u001b[m\u001b[1m   3953 root      20   0    9128   3604   3112 R   0.3   0.0   0:00.03 top      \u001b[m\u001b[m\u001b[K\n",
            "\u001b[m      1 root      20   0    1012      8      0 S   0.0   0.0   0:00.60 docker-+ \u001b[m\u001b[m\u001b[K\n",
            "\u001b[m      7 root      20   0  896552  50444  30672 S   0.0   0.4   0:04.62 node     \u001b[m\u001b[m\u001b[K\n",
            "\u001b[m     20 root      20   0    5524    584    512 S   0.0   0.0   0:00.64 tail     \u001b[m\u001b[m\u001b[K\n",
            "\u001b[m     31 root      20   0    6904   3428   3136 S   0.0   0.0   0:00.54 oom_mon+ \u001b[m\u001b[m\u001b[K\n",
            "\u001b[m     33 root      20   0    6904   1604   1328 S   0.0   0.0   0:00.00 run.sh   \u001b[m\u001b[m\u001b[K\n",
            "\u001b[m     61 root      20   0       0      0      0 Z   0.0   0.0   0:06.41 python3  \u001b[m\u001b[m\u001b[K\n",
            "\u001b[m     62 root      20   0   77204  44108  12944 S   0.0   0.3   0:00.70 colab-f+ \u001b[m\u001b[m\u001b[K\n",
            "\u001b[m    381 root      20   0 1112384 372256  30220 S   0.0   2.8   0:56.51 node     \u001b[m\u001b[m\u001b[K\n",
            "\u001b[m   4271 root      20   0    5488    580    512 S   0.0   0.0   0:00.00 sleep    \u001b[m\u001b[m\u001b[K\n",
            "\u001b[J\u001b[H\u001b[mtop - 01:59:21 up 16 min,  0 users,  load average: 0.31, 0.43, 0.31\u001b[m\u001b[m\u001b[m\u001b[m\u001b[K\n",
            "\n",
            "%Cpu(s):\u001b[m\u001b[m\u001b[1m  1.8 \u001b[m\u001b[mus,\u001b[m\u001b[m\u001b[1m  1.2 \u001b[m\u001b[msy,\u001b[m\u001b[m\u001b[1m  0.0 \u001b[m\u001b[mni,\u001b[m\u001b[m\u001b[1m 96.7 \u001b[m\u001b[mid,\u001b[m\u001b[m\u001b[1m  0.0 \u001b[m\u001b[mwa,\u001b[m\u001b[m\u001b[1m  0.0 \u001b[m\u001b[mhi,\u001b[m\u001b[m\u001b[1m  0.2 \u001b[m\u001b[msi,\u001b[m\u001b[m\u001b[1m  0.2 \u001b[m\u001b[mst\u001b[m\u001b[m\u001b[m\u001b[m\u001b[K\n",
            "MiB Mem :\u001b[m\u001b[m\u001b[1m  12985.5 \u001b[m\u001b[mtotal,\u001b[m\u001b[m\u001b[1m   8795.9 \u001b[m\u001b[mfree,\u001b[m\u001b[m\u001b[1m    949.6 \u001b[m\u001b[mused,\u001b[m\u001b[m\u001b[1m   3240.0 \u001b[m\u001b[mbuff/cache\u001b[m\u001b[m\u001b[m\u001b[m\u001b[K\n",
            "MiB Swap:\u001b[m\u001b[m\u001b[1m      0.0 \u001b[m\u001b[mtotal,\u001b[m\u001b[m\u001b[1m      0.0 \u001b[m\u001b[mfree,\u001b[m\u001b[m\u001b[1m      0.0 \u001b[m\u001b[mused.\u001b[m\u001b[m\u001b[1m  11752.1 \u001b[m\u001b[mavail Mem \u001b[m\u001b[m\u001b[m\u001b[m\u001b[K\n",
            "\u001b[K\n",
            "\n",
            "\u001b[m    311 root      20   0 1284256 189668  62036 S   0.7   1.4   0:08.77 python3  \u001b[m\u001b[m\u001b[K\n",
            "\u001b[m      7 root      20   0  896552  49704  30672 S   0.3   0.4   0:04.63 node     \u001b[m\u001b[m\u001b[K\n",
            "\u001b[m     34 root      20   0  721784  15540   8160 S   0.3   0.1   0:00.51 kernel_+ \u001b[m\u001b[m\u001b[K\n",
            "\u001b[m    346 root      20   0  538116  14556   5636 S   0.3   0.1   0:00.26 python3  \u001b[m\u001b[m\u001b[K\n",
            "\u001b[m      1 root      20   0    1012      8      0 S   0.0   0.0   0:00.60 docker-+ \u001b[m\u001b[m\u001b[K\n",
            "\u001b[m     20 root      20   0    5524    584    512 S   0.0   0.0   0:00.64 tail     \u001b[m\u001b[m\u001b[K\n",
            "\u001b[m     31 root      20   0    6904   3428   3136 S   0.0   0.0   0:00.54 oom_mon+ \u001b[m\u001b[m\u001b[K\n",
            "\u001b[m     33 root      20   0    6904   1604   1328 S   0.0   0.0   0:00.00 run.sh   \u001b[m\u001b[m\u001b[K\n",
            "\u001b[m     61 root      20   0       0      0      0 Z   0.0   0.0   0:06.41 python3  \u001b[m\u001b[m\u001b[K\n",
            "\u001b[m     62 root      20   0   77204  44108  12944 S   0.0   0.3   0:00.70 colab-f+ \u001b[m\u001b[m\u001b[K\n",
            "\u001b[m     83 root      20   0  556668 152612  48356 S   0.0   1.1   0:05.32 jupyter+ \u001b[m\u001b[m\u001b[K\n",
            "\u001b[m     84 root      20   0  712892   8256   2848 S   0.0   0.1   0:00.26 dap_mul+ \u001b[m\u001b[m\u001b[K\n",
            "\u001b[m    381 root      20   0 1112384 372256  30220 S   0.0   2.8   0:56.51 node     \u001b[m\u001b[m\u001b[K\n",
            "\u001b[m\u001b[1m   3953 root      20   0    9128   3604   3112 R   0.0   0.0   0:00.03 top      \u001b[m\u001b[m\u001b[K\n",
            "\u001b[m   4283 root      20   0    5488    576    512 S   0.0   0.0   0:00.00 sleep    \u001b[m\u001b[m\u001b[K\n",
            "\u001b[J\u001b[H\u001b[mtop - 01:59:24 up 16 min,  0 users,  load average: 0.36, 0.44, 0.31\u001b[m\u001b[m\u001b[m\u001b[m\u001b[K\n",
            "\n",
            "%Cpu(s):\u001b[m\u001b[m\u001b[1m 20.2 \u001b[m\u001b[mus,\u001b[m\u001b[m\u001b[1m  4.7 \u001b[m\u001b[msy,\u001b[m\u001b[m\u001b[1m  0.0 \u001b[m\u001b[mni,\u001b[m\u001b[m\u001b[1m 74.9 \u001b[m\u001b[mid,\u001b[m\u001b[m\u001b[1m  0.2 \u001b[m\u001b[mwa,\u001b[m\u001b[m\u001b[1m  0.0 \u001b[m\u001b[mhi,\u001b[m\u001b[m\u001b[1m  0.0 \u001b[m\u001b[msi,\u001b[m\u001b[m\u001b[1m  0.0 \u001b[m\u001b[mst\u001b[m\u001b[m\u001b[m\u001b[m\u001b[K\n",
            "MiB Mem :\u001b[m\u001b[m\u001b[1m  12985.5 \u001b[m\u001b[mtotal,\u001b[m\u001b[m\u001b[1m   8795.3 \u001b[m\u001b[mfree,\u001b[m\u001b[m\u001b[1m    950.2 \u001b[m\u001b[mused,\u001b[m\u001b[m\u001b[1m   3240.0 \u001b[m\u001b[mbuff/cache\u001b[m\u001b[m\u001b[m\u001b[m\u001b[K\n",
            "MiB Swap:\u001b[m\u001b[m\u001b[1m      0.0 \u001b[m\u001b[mtotal,\u001b[m\u001b[m\u001b[1m      0.0 \u001b[m\u001b[mfree,\u001b[m\u001b[m\u001b[1m      0.0 \u001b[m\u001b[mused.\u001b[m\u001b[m\u001b[1m  11751.5 \u001b[m\u001b[mavail Mem \u001b[m\u001b[m\u001b[m\u001b[m\u001b[K\n",
            "\u001b[K\n",
            "\n",
            "\u001b[m    311 root      20   0 1284256 189668  62036 S   1.0   1.4   0:08.80 python3  \u001b[m\u001b[m\u001b[K\n",
            "\u001b[m     31 root      20   0    6904   3428   3136 S   0.3   0.0   0:00.55 oom_mon+ \u001b[m\u001b[m\u001b[K\n",
            "\u001b[m     84 root      20   0  712892   8256   2848 S   0.3   0.1   0:00.27 dap_mul+ \u001b[m\u001b[m\u001b[K\n",
            "\u001b[m    346 root      20   0  538116  14556   5636 S   0.3   0.1   0:00.27 python3  \u001b[m\u001b[m\u001b[K\n",
            "\u001b[m\u001b[1m   3953 root      20   0    9128   3604   3112 R   0.3   0.0   0:00.04 top      \u001b[m\u001b[m\u001b[K\n",
            "\u001b[m      1 root      20   0    1012      8      0 S   0.0   0.0   0:00.60 docker-+ \u001b[m\u001b[m\u001b[K\n",
            "\u001b[m      7 root      20   0  896552  49704  30672 S   0.0   0.4   0:04.63 node     \u001b[m\u001b[m\u001b[K\n",
            "\u001b[m     20 root      20   0    5524    584    512 S   0.0   0.0   0:00.64 tail     \u001b[m\u001b[m\u001b[K\n",
            "\u001b[m     33 root      20   0    6904   1604   1328 S   0.0   0.0   0:00.00 run.sh   \u001b[m\u001b[m\u001b[K\n",
            "\u001b[m     34 root      20   0  721784  15264   8160 S   0.0   0.1   0:00.51 kernel_+ \u001b[m\u001b[m\u001b[K\n",
            "\u001b[m     61 root      20   0       0      0      0 Z   0.0   0.0   0:06.41 python3  \u001b[m\u001b[m\u001b[K\n",
            "\u001b[m     62 root      20   0   77204  44108  12944 S   0.0   0.3   0:00.70 colab-f+ \u001b[m\u001b[m\u001b[K\n",
            "\u001b[m     83 root      20   0  556668 152612  48356 S   0.0   1.1   0:05.32 jupyter+ \u001b[m\u001b[m\u001b[K\n",
            "\u001b[m    381 root      20   0 1112384 372256  30220 S   0.0   2.8   0:56.51 node     \u001b[m\u001b[m\u001b[K\n",
            "\u001b[m   4295 root      20   0    5488    520    452 S   0.0   0.0   0:00.00 sleep    \u001b[m\u001b[m\u001b[K\n",
            "\u001b[J\u001b[H\u001b[mtop - 01:59:27 up 16 min,  0 users,  load average: 0.36, 0.44, 0.31\u001b[m\u001b[m\u001b[m\u001b[m\u001b[K\n",
            "\n",
            "%Cpu(s):\u001b[m\u001b[m\u001b[1m  6.4 \u001b[m\u001b[mus,\u001b[m\u001b[m\u001b[1m  3.7 \u001b[m\u001b[msy,\u001b[m\u001b[m\u001b[1m  0.0 \u001b[m\u001b[mni,\u001b[m\u001b[m\u001b[1m 90.0 \u001b[m\u001b[mid,\u001b[m\u001b[m\u001b[1m  0.0 \u001b[m\u001b[mwa,\u001b[m\u001b[m\u001b[1m  0.0 \u001b[m\u001b[mhi,\u001b[m\u001b[m\u001b[1m  0.0 \u001b[m\u001b[msi,\u001b[m\u001b[m\u001b[1m  0.0 \u001b[m\u001b[mst\u001b[m\u001b[m\u001b[m\u001b[m\u001b[K\n",
            "MiB Mem :\u001b[m\u001b[m\u001b[1m  12985.5 \u001b[m\u001b[mtotal,\u001b[m\u001b[m\u001b[1m   8795.7 \u001b[m\u001b[mfree,\u001b[m\u001b[m\u001b[1m    949.8 \u001b[m\u001b[mused,\u001b[m\u001b[m\u001b[1m   3240.0 \u001b[m\u001b[mbuff/cache\u001b[m\u001b[m\u001b[m\u001b[m\u001b[K\n",
            "MiB Swap:\u001b[m\u001b[m\u001b[1m      0.0 \u001b[m\u001b[mtotal,\u001b[m\u001b[m\u001b[1m      0.0 \u001b[m\u001b[mfree,\u001b[m\u001b[m\u001b[1m      0.0 \u001b[m\u001b[mused.\u001b[m\u001b[m\u001b[1m  11751.9 \u001b[m\u001b[mavail Mem \u001b[m\u001b[m\u001b[m\u001b[m\u001b[K\n",
            "\u001b[K\n",
            "\n",
            "\u001b[m    311 root      20   0 1284256 189668  62036 S   1.0   1.4   0:08.83 python3  \u001b[m\u001b[m\u001b[K\n",
            "\u001b[m      7 root      20   0  896552  49968  30672 S   0.3   0.4   0:04.64 node     \u001b[m\u001b[m\u001b[K\n",
            "\u001b[m     83 root      20   0  556668 152616  48356 S   0.3   1.1   0:05.33 jupyter+ \u001b[m\u001b[m\u001b[K\n",
            "\u001b[m      1 root      20   0    1012      8      0 S   0.0   0.0   0:00.60 docker-+ \u001b[m\u001b[m\u001b[K\n",
            "\u001b[m     20 root      20   0    5524    584    512 S   0.0   0.0   0:00.64 tail     \u001b[m\u001b[m\u001b[K\n",
            "\u001b[m     31 root      20   0    6904   3428   3136 S   0.0   0.0   0:00.55 oom_mon+ \u001b[m\u001b[m\u001b[K\n",
            "\u001b[m     33 root      20   0    6904   1604   1328 S   0.0   0.0   0:00.00 run.sh   \u001b[m\u001b[m\u001b[K\n",
            "\u001b[m     34 root      20   0  721784  15264   8160 S   0.0   0.1   0:00.51 kernel_+ \u001b[m\u001b[m\u001b[K\n",
            "\u001b[m     61 root      20   0       0      0      0 Z   0.0   0.0   0:06.41 python3  \u001b[m\u001b[m\u001b[K\n",
            "\u001b[m     62 root      20   0   77204  44108  12944 S   0.0   0.3   0:00.70 colab-f+ \u001b[m\u001b[m\u001b[K\n",
            "\u001b[m     84 root      20   0  712892   8256   2848 S   0.0   0.1   0:00.27 dap_mul+ \u001b[m\u001b[m\u001b[K\n",
            "\u001b[m    346 root      20   0  538116  14556   5636 S   0.0   0.1   0:00.27 python3  \u001b[m\u001b[m\u001b[K\n",
            "\u001b[m    381 root      20   0 1112384 372256  30220 S   0.0   2.8   0:56.51 node     \u001b[m\u001b[m\u001b[K\n",
            "\u001b[m\u001b[1m   3953 root      20   0    9128   3604   3112 R   0.0   0.0   0:00.04 top      \u001b[m\u001b[m\u001b[K\n",
            "\u001b[m   4309 root      20   0    5488    588    516 S   0.0   0.0   0:00.00 sleep    \u001b[m\u001b[m\u001b[K\n",
            "\u001b[J\u001b[H\u001b[mtop - 01:59:30 up 16 min,  0 users,  load average: 0.33, 0.43, 0.31\u001b[m\u001b[m\u001b[m\u001b[m\u001b[K\n",
            "\n",
            "%Cpu(s):\u001b[m\u001b[m\u001b[1m  1.0 \u001b[m\u001b[mus,\u001b[m\u001b[m\u001b[1m  1.0 \u001b[m\u001b[msy,\u001b[m\u001b[m\u001b[1m  0.0 \u001b[m\u001b[mni,\u001b[m\u001b[m\u001b[1m 98.0 \u001b[m\u001b[mid,\u001b[m\u001b[m\u001b[1m  0.0 \u001b[m\u001b[mwa,\u001b[m\u001b[m\u001b[1m  0.0 \u001b[m\u001b[mhi,\u001b[m\u001b[m\u001b[1m  0.0 \u001b[m\u001b[msi,\u001b[m\u001b[m\u001b[1m  0.0 \u001b[m\u001b[mst\u001b[m\u001b[m\u001b[m\u001b[m\u001b[K\n",
            "MiB Mem :\u001b[m\u001b[m\u001b[1m  12985.5 \u001b[m\u001b[mtotal,\u001b[m\u001b[m\u001b[1m   8796.0 \u001b[m\u001b[mfree,\u001b[m\u001b[m\u001b[1m    949.5 \u001b[m\u001b[mused,\u001b[m\u001b[m\u001b[1m   3240.0 \u001b[m\u001b[mbuff/cache\u001b[m\u001b[m\u001b[m\u001b[m\u001b[K\n",
            "MiB Swap:\u001b[m\u001b[m\u001b[1m      0.0 \u001b[m\u001b[mtotal,\u001b[m\u001b[m\u001b[1m      0.0 \u001b[m\u001b[mfree,\u001b[m\u001b[m\u001b[1m      0.0 \u001b[m\u001b[mused.\u001b[m\u001b[m\u001b[1m  11752.2 \u001b[m\u001b[mavail Mem \u001b[m\u001b[m\u001b[m\u001b[m\u001b[K\n",
            "\u001b[K\n",
            "\n",
            "\u001b[m    311 root      20   0 1284256 189668  62036 S   0.7   1.4   0:08.85 python3  \u001b[m\u001b[m\u001b[K\n",
            "\u001b[m    346 root      20   0  538116  14556   5636 S   0.7   0.1   0:00.29 python3  \u001b[m\u001b[m\u001b[K\n",
            "\u001b[m     34 root      20   0  721784  15264   8160 S   0.3   0.1   0:00.52 kernel_+ \u001b[m\u001b[m\u001b[K\n",
            "\u001b[m     84 root      20   0  712892   8256   2848 S   0.3   0.1   0:00.28 dap_mul+ \u001b[m\u001b[m\u001b[K\n",
            "\u001b[m      1 root      20   0    1012      8      0 S   0.0   0.0   0:00.60 docker-+ \u001b[m\u001b[m\u001b[K\n",
            "\u001b[m      7 root      20   0  896552  49968  30672 S   0.0   0.4   0:04.64 node     \u001b[m\u001b[m\u001b[K\n",
            "\u001b[m     20 root      20   0    5524    584    512 S   0.0   0.0   0:00.64 tail     \u001b[m\u001b[m\u001b[K\n",
            "\u001b[m     31 root      20   0    6904   3428   3136 S   0.0   0.0   0:00.55 oom_mon+ \u001b[m\u001b[m\u001b[K\n",
            "\u001b[m     33 root      20   0    6904   1604   1328 S   0.0   0.0   0:00.00 run.sh   \u001b[m\u001b[m\u001b[K\n",
            "\u001b[m     61 root      20   0       0      0      0 Z   0.0   0.0   0:06.41 python3  \u001b[m\u001b[m\u001b[K\n",
            "\u001b[m     62 root      20   0   77204  44108  12944 S   0.0   0.3   0:00.70 colab-f+ \u001b[m\u001b[m\u001b[K\n",
            "\u001b[m     83 root      20   0  556668 152616  48356 S   0.0   1.1   0:05.33 jupyter+ \u001b[m\u001b[m\u001b[K\n",
            "\n",
            "\n",
            "\u001b[m   4321 root      20   0    5488    580    516 S   0.0   0.0   0:00.00 sleep    \u001b[m\u001b[m\u001b[K\n",
            "\u001b[J\u001b[H\u001b[mtop - 01:59:33 up 16 min,  0 users,  load average: 0.33, 0.43, 0.31\u001b[m\u001b[m\u001b[m\u001b[m\u001b[K\n",
            "\n",
            "%Cpu(s):\u001b[m\u001b[m\u001b[1m  1.5 \u001b[m\u001b[mus,\u001b[m\u001b[m\u001b[1m  1.2 \u001b[m\u001b[msy,\u001b[m\u001b[m\u001b[1m  0.0 \u001b[m\u001b[mni,\u001b[m\u001b[m\u001b[1m 97.3 \u001b[m\u001b[mid,\u001b[m\u001b[m\u001b[1m  0.0 \u001b[m\u001b[mwa,\u001b[m\u001b[m\u001b[1m  0.0 \u001b[m\u001b[mhi,\u001b[m\u001b[m\u001b[1m  0.0 \u001b[m\u001b[msi,\u001b[m\u001b[m\u001b[1m  0.0 \u001b[m\u001b[mst\u001b[m\u001b[m\u001b[m\u001b[m\u001b[K\n",
            "MiB Mem :\u001b[m\u001b[m\u001b[1m  12985.5 \u001b[m\u001b[mtotal,\u001b[m\u001b[m\u001b[1m   8795.8 \u001b[m\u001b[mfree,\u001b[m\u001b[m\u001b[1m    949.7 \u001b[m\u001b[mused,\u001b[m\u001b[m\u001b[1m   3240.0 \u001b[m\u001b[mbuff/cache\u001b[m\u001b[m\u001b[m\u001b[m\u001b[K\n",
            "MiB Swap:\u001b[m\u001b[m\u001b[1m      0.0 \u001b[m\u001b[mtotal,\u001b[m\u001b[m\u001b[1m      0.0 \u001b[m\u001b[mfree,\u001b[m\u001b[m\u001b[1m      0.0 \u001b[m\u001b[mused.\u001b[m\u001b[m\u001b[1m  11752.0 \u001b[m\u001b[mavail Mem \u001b[m\u001b[m\u001b[m\u001b[m\u001b[K\n",
            "\u001b[K\n",
            "\n",
            "\u001b[m     83 root      20   0  556668 152616  48356 S   0.7   1.1   0:05.35 jupyter+ \u001b[m\u001b[m\u001b[K\n",
            "\u001b[m    311 root      20   0 1284256 189668  62036 S   0.7   1.4   0:08.87 python3  \u001b[m\u001b[m\u001b[K\n",
            "\u001b[m      7 root      20   0  896552  50232  30672 S   0.3   0.4   0:04.65 node     \u001b[m\u001b[m\u001b[K\n",
            "\u001b[m    346 root      20   0  538116  14556   5636 S   0.3   0.1   0:00.30 python3  \u001b[m\u001b[m\u001b[K\n",
            "\n",
            "\u001b[m     20 root      20   0    5524    584    512 S   0.0   0.0   0:00.64 tail     \u001b[m\u001b[m\u001b[K\n",
            "\u001b[m     31 root      20   0    6904   3428   3136 S   0.0   0.0   0:00.55 oom_mon+ \u001b[m\u001b[m\u001b[K\n",
            "\u001b[m     33 root      20   0    6904   1604   1328 S   0.0   0.0   0:00.00 run.sh   \u001b[m\u001b[m\u001b[K\n",
            "\u001b[m     34 root      20   0  721784  15264   8160 S   0.0   0.1   0:00.52 kernel_+ \u001b[m\u001b[m\u001b[K\n",
            "\n",
            "\n",
            "\u001b[m     84 root      20   0  712892   8256   2848 S   0.0   0.1   0:00.28 dap_mul+ \u001b[m\u001b[m\u001b[K\n",
            "\n",
            "\n",
            "\u001b[m   4335 root      20   0    5488    580    512 S   0.0   0.0   0:00.00 sleep    \u001b[m\u001b[m\u001b[K\n",
            "\u001b[J\u001b[H\u001b[mtop - 01:59:36 up 17 min,  0 users,  load average: 0.30, 0.42, 0.31\u001b[m\u001b[m\u001b[m\u001b[m\u001b[K\n",
            "\n",
            "%Cpu(s):\u001b[m\u001b[m\u001b[1m 24.4 \u001b[m\u001b[mus,\u001b[m\u001b[m\u001b[1m  6.8 \u001b[m\u001b[msy,\u001b[m\u001b[m\u001b[1m  0.0 \u001b[m\u001b[mni,\u001b[m\u001b[m\u001b[1m 68.6 \u001b[m\u001b[mid,\u001b[m\u001b[m\u001b[1m  0.0 \u001b[m\u001b[mwa,\u001b[m\u001b[m\u001b[1m  0.0 \u001b[m\u001b[mhi,\u001b[m\u001b[m\u001b[1m  0.2 \u001b[m\u001b[msi,\u001b[m\u001b[m\u001b[1m  0.0 \u001b[m\u001b[mst\u001b[m\u001b[m\u001b[m\u001b[m\u001b[K\n",
            "MiB Mem :\u001b[m\u001b[m\u001b[1m  12985.5 \u001b[m\u001b[mtotal,\u001b[m\u001b[m\u001b[1m   8775.1 \u001b[m\u001b[mfree,\u001b[m\u001b[m\u001b[1m    970.5 \u001b[m\u001b[mused,\u001b[m\u001b[m\u001b[1m   3240.0 \u001b[m\u001b[mbuff/cache\u001b[m\u001b[m\u001b[m\u001b[m\u001b[K\n",
            "MiB Swap:\u001b[m\u001b[m\u001b[1m      0.0 \u001b[m\u001b[mtotal,\u001b[m\u001b[m\u001b[1m      0.0 \u001b[m\u001b[mfree,\u001b[m\u001b[m\u001b[1m      0.0 \u001b[m\u001b[mused.\u001b[m\u001b[m\u001b[1m  11731.3 \u001b[m\u001b[mavail Mem \u001b[m\u001b[m\u001b[m\u001b[m\u001b[K\n",
            "\u001b[K\n",
            "\n",
            "\u001b[m    311 root      20   0 1284256 189668  62036 S   1.0   1.4   0:08.90 python3  \u001b[m\u001b[m\u001b[K\n",
            "\u001b[m      1 root      20   0    1012      8      0 S   0.0   0.0   0:00.60 docker-+ \u001b[m\u001b[m\u001b[K\n",
            "\u001b[m      7 root      20   0  896552  50232  30672 S   0.0   0.4   0:04.65 node     \u001b[m\u001b[m\u001b[K\n",
            "\u001b[m     20 root      20   0    5524    584    512 S   0.0   0.0   0:00.64 tail     \u001b[m\u001b[m\u001b[K\n",
            "\u001b[m     31 root      20   0    6904   3428   3136 S   0.0   0.0   0:00.55 oom_mon+ \u001b[m\u001b[m\u001b[K\n",
            "\u001b[m     33 root      20   0    6904   1604   1328 S   0.0   0.0   0:00.00 run.sh   \u001b[m\u001b[m\u001b[K\n",
            "\u001b[m     34 root      20   0  721784  15264   8160 S   0.0   0.1   0:00.52 kernel_+ \u001b[m\u001b[m\u001b[K\n",
            "\u001b[m     61 root      20   0       0      0      0 Z   0.0   0.0   0:06.41 python3  \u001b[m\u001b[m\u001b[K\n",
            "\u001b[m     62 root      20   0   77204  44108  12944 S   0.0   0.3   0:00.70 colab-f+ \u001b[m\u001b[m\u001b[K\n",
            "\u001b[m     83 root      20   0  556668 152616  48356 S   0.0   1.1   0:05.35 jupyter+ \u001b[m\u001b[m\u001b[K\n",
            "\u001b[m     84 root      20   0  712892   8256   2848 S   0.0   0.1   0:00.28 dap_mul+ \u001b[m\u001b[m\u001b[K\n",
            "\u001b[m    346 root      20   0  538116  14556   5636 S   0.0   0.1   0:00.30 python3  \u001b[m\u001b[m\u001b[K\n",
            "\n",
            "\n",
            "\u001b[m   4347 root      20   0    5488    580    512 S   0.0   0.0   0:00.00 sleep    \u001b[m\u001b[m\u001b[K\n",
            "\u001b[J\u001b[H\u001b[mtop - 01:59:39 up 17 min,  0 users,  load average: 0.28, 0.42, 0.31\u001b[m\u001b[m\u001b[m\u001b[m\u001b[K\n",
            "\n",
            "%Cpu(s):\u001b[m\u001b[m\u001b[1m  1.3 \u001b[m\u001b[mus,\u001b[m\u001b[m\u001b[1m  1.2 \u001b[m\u001b[msy,\u001b[m\u001b[m\u001b[1m  0.0 \u001b[m\u001b[mni,\u001b[m\u001b[m\u001b[1m 97.5 \u001b[m\u001b[mid,\u001b[m\u001b[m\u001b[1m  0.0 \u001b[m\u001b[mwa,\u001b[m\u001b[m\u001b[1m  0.0 \u001b[m\u001b[mhi,\u001b[m\u001b[m\u001b[1m  0.0 \u001b[m\u001b[msi,\u001b[m\u001b[m\u001b[1m  0.0 \u001b[m\u001b[mst\u001b[m\u001b[m\u001b[m\u001b[m\u001b[K\n",
            "MiB Mem :\u001b[m\u001b[m\u001b[1m  12985.5 \u001b[m\u001b[mtotal,\u001b[m\u001b[m\u001b[1m   8795.5 \u001b[m\u001b[mfree,\u001b[m\u001b[m\u001b[1m    950.1 \u001b[m\u001b[mused,\u001b[m\u001b[m\u001b[1m   3240.0 \u001b[m\u001b[mbuff/cache\u001b[m\u001b[m\u001b[m\u001b[m\u001b[K\n",
            "MiB Swap:\u001b[m\u001b[m\u001b[1m      0.0 \u001b[m\u001b[mtotal,\u001b[m\u001b[m\u001b[1m      0.0 \u001b[m\u001b[mfree,\u001b[m\u001b[m\u001b[1m      0.0 \u001b[m\u001b[mused.\u001b[m\u001b[m\u001b[1m  11751.7 \u001b[m\u001b[mavail Mem \u001b[m\u001b[m\u001b[m\u001b[m\u001b[K\n",
            "\u001b[K\n",
            "\n",
            "\u001b[m    311 root      20   0 1284256 189668  62036 S   1.0   1.4   0:08.93 python3  \u001b[m\u001b[m\u001b[K\n",
            "\u001b[m      7 root      20   0  896552  50496  30672 S   0.3   0.4   0:04.66 node     \u001b[m\u001b[m\u001b[K\n",
            "\u001b[m     83 root      20   0  556668 152616  48356 S   0.3   1.1   0:05.36 jupyter+ \u001b[m\u001b[m\u001b[K\n",
            "\u001b[m     84 root      20   0  712892   8256   2848 S   0.3   0.1   0:00.29 dap_mul+ \u001b[m\u001b[m\u001b[K\n",
            "\u001b[m    346 root      20   0  538116  14556   5636 S   0.3   0.1   0:00.31 python3  \u001b[m\u001b[m\u001b[K\n",
            "\u001b[m      1 root      20   0    1012      8      0 S   0.0   0.0   0:00.60 docker-+ \u001b[m\u001b[m\u001b[K\n",
            "\u001b[m     20 root      20   0    5524    584    512 S   0.0   0.0   0:00.64 tail     \u001b[m\u001b[m\u001b[K\n",
            "\u001b[m     31 root      20   0    6904   3428   3136 S   0.0   0.0   0:00.55 oom_mon+ \u001b[m\u001b[m\u001b[K\n",
            "\u001b[m     33 root      20   0    6904   1604   1328 S   0.0   0.0   0:00.00 run.sh   \u001b[m\u001b[m\u001b[K\n",
            "\u001b[m     34 root      20   0  721784  15264   8160 S   0.0   0.1   0:00.52 kernel_+ \u001b[m\u001b[m\u001b[K\n",
            "\u001b[m     61 root      20   0       0      0      0 Z   0.0   0.0   0:06.41 python3  \u001b[m\u001b[m\u001b[K\n",
            "\u001b[m     62 root      20   0   77204  44108  12944 S   0.0   0.3   0:00.70 colab-f+ \u001b[m\u001b[m\u001b[K\n",
            "\n",
            "\n",
            "\u001b[m   4361 root      20   0    5488    580    512 S   0.0   0.0   0:00.00 sleep    \u001b[m\u001b[m\u001b[K\n",
            "\u001b[J\u001b[H\u001b[mtop - 01:59:42 up 17 min,  0 users,  load average: 0.28, 0.42, 0.31\u001b[m\u001b[m\u001b[m\u001b[m\u001b[K\n",
            "\n",
            "%Cpu(s):\u001b[m\u001b[m\u001b[1m  1.2 \u001b[m\u001b[mus,\u001b[m\u001b[m\u001b[1m  1.0 \u001b[m\u001b[msy,\u001b[m\u001b[m\u001b[1m  0.0 \u001b[m\u001b[mni,\u001b[m\u001b[m\u001b[1m 97.7 \u001b[m\u001b[mid,\u001b[m\u001b[m\u001b[1m  0.0 \u001b[m\u001b[mwa,\u001b[m\u001b[m\u001b[1m  0.0 \u001b[m\u001b[mhi,\u001b[m\u001b[m\u001b[1m  0.0 \u001b[m\u001b[msi,\u001b[m\u001b[m\u001b[1m  0.2 \u001b[m\u001b[mst\u001b[m\u001b[m\u001b[m\u001b[m\u001b[K\n",
            "MiB Mem :\u001b[m\u001b[m\u001b[1m  12985.5 \u001b[m\u001b[mtotal,\u001b[m\u001b[m\u001b[1m   8798.2 \u001b[m\u001b[mfree,\u001b[m\u001b[m\u001b[1m    947.3 \u001b[m\u001b[mused,\u001b[m\u001b[m\u001b[1m   3240.0 \u001b[m\u001b[mbuff/cache\u001b[m\u001b[m\u001b[m\u001b[m\u001b[K\n",
            "MiB Swap:\u001b[m\u001b[m\u001b[1m      0.0 \u001b[m\u001b[mtotal,\u001b[m\u001b[m\u001b[1m      0.0 \u001b[m\u001b[mfree,\u001b[m\u001b[m\u001b[1m      0.0 \u001b[m\u001b[mused.\u001b[m\u001b[m\u001b[1m  11754.5 \u001b[m\u001b[mavail Mem \u001b[m\u001b[m\u001b[m\u001b[m\u001b[K\n",
            "\u001b[K\n",
            "\n",
            "\u001b[m    311 root      20   0 1284256 189668  62036 S   0.7   1.4   0:08.95 python3  \u001b[m\u001b[m\u001b[K\n",
            "\u001b[m     34 root      20   0  721784  15264   8160 S   0.3   0.1   0:00.53 kernel_+ \u001b[m\u001b[m\u001b[K\n",
            "\u001b[m    346 root      20   0  538116  14556   5636 S   0.3   0.1   0:00.32 python3  \u001b[m\u001b[m\u001b[K\n",
            "\u001b[m      1 root      20   0    1012      8      0 S   0.0   0.0   0:00.60 docker-+ \u001b[m\u001b[m\u001b[K\n",
            "\u001b[m      7 root      20   0  896552  49472  30672 S   0.0   0.4   0:04.66 node     \u001b[m\u001b[m\u001b[K\n",
            "\u001b[m     20 root      20   0    5524    584    512 S   0.0   0.0   0:00.64 tail     \u001b[m\u001b[m\u001b[K\n",
            "\u001b[m     31 root      20   0    6904   3428   3136 S   0.0   0.0   0:00.55 oom_mon+ \u001b[m\u001b[m\u001b[K\n",
            "\u001b[m     33 root      20   0    6904   1604   1328 S   0.0   0.0   0:00.00 run.sh   \u001b[m\u001b[m\u001b[K\n",
            "\u001b[m     61 root      20   0       0      0      0 Z   0.0   0.0   0:06.41 python3  \u001b[m\u001b[m\u001b[K\n",
            "\u001b[m     62 root      20   0   77204  44108  12944 S   0.0   0.3   0:00.70 colab-f+ \u001b[m\u001b[m\u001b[K\n",
            "\u001b[m     83 root      20   0  556668 152616  48356 S   0.0   1.1   0:05.36 jupyter+ \u001b[m\u001b[m\u001b[K\n",
            "\u001b[m     84 root      20   0  712892   8256   2848 S   0.0   0.1   0:00.29 dap_mul+ \u001b[m\u001b[m\u001b[K\n",
            "\n",
            "\n",
            "\u001b[m   4373 root      20   0    5488    584    512 S   0.0   0.0   0:00.00 sleep    \u001b[m\u001b[m\u001b[K\n",
            "\u001b[J\u001b[H\u001b[mtop - 01:59:45 up 17 min,  0 users,  load average: 0.26, 0.41, 0.30\u001b[m\u001b[m\u001b[m\u001b[m\u001b[K\n",
            "\n",
            "%Cpu(s):\u001b[m\u001b[m\u001b[1m  1.5 \u001b[m\u001b[mus,\u001b[m\u001b[m\u001b[1m  1.0 \u001b[m\u001b[msy,\u001b[m\u001b[m\u001b[1m  0.0 \u001b[m\u001b[mni,\u001b[m\u001b[m\u001b[1m 97.5 \u001b[m\u001b[mid,\u001b[m\u001b[m\u001b[1m  0.0 \u001b[m\u001b[mwa,\u001b[m\u001b[m\u001b[1m  0.0 \u001b[m\u001b[mhi,\u001b[m\u001b[m\u001b[1m  0.0 \u001b[m\u001b[msi,\u001b[m\u001b[m\u001b[1m  0.0 \u001b[m\u001b[mst\u001b[m\u001b[m\u001b[m\u001b[m\u001b[K\n",
            "MiB Mem :\u001b[m\u001b[m\u001b[1m  12985.5 \u001b[m\u001b[mtotal,\u001b[m\u001b[m\u001b[1m   8798.7 \u001b[m\u001b[mfree,\u001b[m\u001b[m\u001b[1m    946.8 \u001b[m\u001b[mused,\u001b[m\u001b[m\u001b[1m   3240.0 \u001b[m\u001b[mbuff/cache\u001b[m\u001b[m\u001b[m\u001b[m\u001b[K\n",
            "MiB Swap:\u001b[m\u001b[m\u001b[1m      0.0 \u001b[m\u001b[mtotal,\u001b[m\u001b[m\u001b[1m      0.0 \u001b[m\u001b[mfree,\u001b[m\u001b[m\u001b[1m      0.0 \u001b[m\u001b[mused.\u001b[m\u001b[m\u001b[1m  11755.0 \u001b[m\u001b[mavail Mem \u001b[m\u001b[m\u001b[m\u001b[m\u001b[K\n",
            "\u001b[K\n",
            "\n",
            "\u001b[m    311 root      20   0 1284256 189668  62036 S   1.0   1.4   0:08.98 python3  \u001b[m\u001b[m\u001b[K\n",
            "\u001b[m     31 root      20   0    6904   3428   3136 S   0.3   0.0   0:00.56 oom_mon+ \u001b[m\u001b[m\u001b[K\n",
            "\u001b[m     84 root      20   0  712892   8256   2848 S   0.3   0.1   0:00.30 dap_mul+ \u001b[m\u001b[m\u001b[K\n",
            "\n",
            "\u001b[m      7 root      20   0  896552  49736  30672 S   0.0   0.4   0:04.66 node     \u001b[m\u001b[m\u001b[K\n",
            "\n",
            "\u001b[m     33 root      20   0    6904   1604   1328 S   0.0   0.0   0:00.00 run.sh   \u001b[m\u001b[m\u001b[K\n",
            "\u001b[m     34 root      20   0  721784  15512   8160 S   0.0   0.1   0:00.53 kernel_+ \u001b[m\u001b[m\u001b[K\n",
            "\n",
            "\n",
            "\n",
            "\u001b[m    346 root      20   0  538116  14556   5636 S   0.0   0.1   0:00.32 python3  \u001b[m\u001b[m\u001b[K\n",
            "\n",
            "\n",
            "\u001b[m   4385 root      20   0    5488    576    512 S   0.0   0.0   0:00.00 sleep    \u001b[m\u001b[m\u001b[K\n",
            "\u001b[J\u001b[H\u001b[mtop - 01:59:48 up 17 min,  0 users,  load average: 0.26, 0.41, 0.30\u001b[m\u001b[m\u001b[m\u001b[m\u001b[K\n",
            "\n",
            "%Cpu(s):\u001b[m\u001b[m\u001b[1m 25.0 \u001b[m\u001b[mus,\u001b[m\u001b[m\u001b[1m  7.0 \u001b[m\u001b[msy,\u001b[m\u001b[m\u001b[1m  0.0 \u001b[m\u001b[mni,\u001b[m\u001b[m\u001b[1m 68.0 \u001b[m\u001b[mid,\u001b[m\u001b[m\u001b[1m  0.0 \u001b[m\u001b[mwa,\u001b[m\u001b[m\u001b[1m  0.0 \u001b[m\u001b[mhi,\u001b[m\u001b[m\u001b[1m  0.0 \u001b[m\u001b[msi,\u001b[m\u001b[m\u001b[1m  0.0 \u001b[m\u001b[mst\u001b[m\u001b[m\u001b[m\u001b[m\u001b[K\n",
            "MiB Mem :\u001b[m\u001b[m\u001b[1m  12985.5 \u001b[m\u001b[mtotal,\u001b[m\u001b[m\u001b[1m   8798.1 \u001b[m\u001b[mfree,\u001b[m\u001b[m\u001b[1m    947.4 \u001b[m\u001b[mused,\u001b[m\u001b[m\u001b[1m   3240.0 \u001b[m\u001b[mbuff/cache\u001b[m\u001b[m\u001b[m\u001b[m\u001b[K\n",
            "MiB Swap:\u001b[m\u001b[m\u001b[1m      0.0 \u001b[m\u001b[mtotal,\u001b[m\u001b[m\u001b[1m      0.0 \u001b[m\u001b[mfree,\u001b[m\u001b[m\u001b[1m      0.0 \u001b[m\u001b[mused.\u001b[m\u001b[m\u001b[1m  11754.3 \u001b[m\u001b[mavail Mem \u001b[m\u001b[m\u001b[m\u001b[m\u001b[K\n",
            "\u001b[K\n",
            "\n",
            "\u001b[m     83 root      20   0  556668 152616  48356 S   0.7   1.1   0:05.38 jupyter+ \u001b[m\u001b[m\u001b[K\n",
            "\u001b[m    311 root      20   0 1284256 189676  62036 S   0.7   1.4   0:09.00 python3  \u001b[m\u001b[m\u001b[K\n",
            "\u001b[m      7 root      20   0  896552  49736  30672 S   0.3   0.4   0:04.67 node     \u001b[m\u001b[m\u001b[K\n",
            "\u001b[m     84 root      20   0  712892   8256   2848 S   0.3   0.1   0:00.31 dap_mul+ \u001b[m\u001b[m\u001b[K\n",
            "\u001b[m    346 root      20   0  538116  14556   5636 S   0.3   0.1   0:00.33 python3  \u001b[m\u001b[m\u001b[K\n",
            "\u001b[m      1 root      20   0    1012      8      0 S   0.0   0.0   0:00.60 docker-+ \u001b[m\u001b[m\u001b[K\n",
            "\u001b[m     20 root      20   0    5524    584    512 S   0.0   0.0   0:00.64 tail     \u001b[m\u001b[m\u001b[K\n",
            "\u001b[m     31 root      20   0    6904   3428   3136 S   0.0   0.0   0:00.56 oom_mon+ \u001b[m\u001b[m\u001b[K\n",
            "\u001b[m     33 root      20   0    6904   1604   1328 S   0.0   0.0   0:00.00 run.sh   \u001b[m\u001b[m\u001b[K\n",
            "\u001b[m     34 root      20   0  721784  15512   8160 S   0.0   0.1   0:00.53 kernel_+ \u001b[m\u001b[m\u001b[K\n",
            "\u001b[m     61 root      20   0       0      0      0 Z   0.0   0.0   0:06.41 python3  \u001b[m\u001b[m\u001b[K\n",
            "\u001b[m     62 root      20   0   77204  44108  12944 S   0.0   0.3   0:00.70 colab-f+ \u001b[m\u001b[m\u001b[K\n",
            "\n",
            "\n",
            "\u001b[m   4399 root      20   0    5488    584    516 S   0.0   0.0   0:00.00 sleep    \u001b[m\u001b[m\u001b[K\n",
            "\u001b[J\u001b[H\u001b[mtop - 01:59:51 up 17 min,  0 users,  load average: 0.24, 0.40, 0.30\u001b[m\u001b[m\u001b[m\u001b[m\u001b[K\n",
            "\n",
            "%Cpu(s):\u001b[m\u001b[m\u001b[1m  1.3 \u001b[m\u001b[mus,\u001b[m\u001b[m\u001b[1m  1.0 \u001b[m\u001b[msy,\u001b[m\u001b[m\u001b[1m  0.0 \u001b[m\u001b[mni,\u001b[m\u001b[m\u001b[1m 97.7 \u001b[m\u001b[mid,\u001b[m\u001b[m\u001b[1m  0.0 \u001b[m\u001b[mwa,\u001b[m\u001b[m\u001b[1m  0.0 \u001b[m\u001b[mhi,\u001b[m\u001b[m\u001b[1m  0.0 \u001b[m\u001b[msi,\u001b[m\u001b[m\u001b[1m  0.0 \u001b[m\u001b[mst\u001b[m\u001b[m\u001b[m\u001b[m\u001b[K\n",
            "MiB Mem :\u001b[m\u001b[m\u001b[1m  12985.5 \u001b[m\u001b[mtotal,\u001b[m\u001b[m\u001b[1m   8798.2 \u001b[m\u001b[mfree,\u001b[m\u001b[m\u001b[1m    947.3 \u001b[m\u001b[mused,\u001b[m\u001b[m\u001b[1m   3240.0 \u001b[m\u001b[mbuff/cache\u001b[m\u001b[m\u001b[m\u001b[m\u001b[K\n",
            "MiB Swap:\u001b[m\u001b[m\u001b[1m      0.0 \u001b[m\u001b[mtotal,\u001b[m\u001b[m\u001b[1m      0.0 \u001b[m\u001b[mfree,\u001b[m\u001b[m\u001b[1m      0.0 \u001b[m\u001b[mused.\u001b[m\u001b[m\u001b[1m  11754.4 \u001b[m\u001b[mavail Mem \u001b[m\u001b[m\u001b[m\u001b[m\u001b[K\n",
            "\u001b[K\n",
            "\n",
            "\u001b[m    311 root      20   0 1284256 189676  62036 S   1.0   1.4   0:09.03 python3  \u001b[m\u001b[m\u001b[K\n",
            "\u001b[m     34 root      20   0  721784  15512   8160 S   0.3   0.1   0:00.54 kernel_+ \u001b[m\u001b[m\u001b[K\n",
            "\u001b[m    346 root      20   0  538116  14556   5636 S   0.3   0.1   0:00.34 python3  \u001b[m\u001b[m\u001b[K\n",
            "\u001b[m      1 root      20   0    1012      8      0 S   0.0   0.0   0:00.60 docker-+ \u001b[m\u001b[m\u001b[K\n",
            "\u001b[m      7 root      20   0  896552  50000  30672 S   0.0   0.4   0:04.67 node     \u001b[m\u001b[m\u001b[K\n",
            "\u001b[m     20 root      20   0    5524    584    512 S   0.0   0.0   0:00.64 tail     \u001b[m\u001b[m\u001b[K\n",
            "\u001b[m     31 root      20   0    6904   3428   3136 S   0.0   0.0   0:00.56 oom_mon+ \u001b[m\u001b[m\u001b[K\n",
            "\u001b[m     33 root      20   0    6904   1604   1328 S   0.0   0.0   0:00.00 run.sh   \u001b[m\u001b[m\u001b[K\n",
            "\u001b[m     61 root      20   0       0      0      0 Z   0.0   0.0   0:06.41 python3  \u001b[m\u001b[m\u001b[K\n",
            "\u001b[m     62 root      20   0   77204  44108  12944 S   0.0   0.3   0:00.70 colab-f+ \u001b[m\u001b[m\u001b[K\n",
            "\u001b[m     83 root      20   0  556668 152616  48356 S   0.0   1.1   0:05.38 jupyter+ \u001b[m\u001b[m\u001b[K\n",
            "\u001b[m     84 root      20   0  712892   8256   2848 S   0.0   0.1   0:00.31 dap_mul+ \u001b[m\u001b[m\u001b[K\n",
            "\n",
            "\n",
            "\u001b[m   4411 root      20   0    5488    580    512 S   0.0   0.0   0:00.00 sleep    \u001b[m\u001b[m\u001b[K\n",
            "\u001b[J\u001b[H\u001b[mtop - 01:59:54 up 17 min,  0 users,  load average: 0.22, 0.40, 0.30\u001b[m\u001b[m\u001b[m\u001b[m\u001b[K\n",
            "\n",
            "%Cpu(s):\u001b[m\u001b[m\u001b[1m  1.0 \u001b[m\u001b[mus,\u001b[m\u001b[m\u001b[1m  1.0 \u001b[m\u001b[msy,\u001b[m\u001b[m\u001b[1m  0.0 \u001b[m\u001b[mni,\u001b[m\u001b[m\u001b[1m 98.0 \u001b[m\u001b[mid,\u001b[m\u001b[m\u001b[1m  0.0 \u001b[m\u001b[mwa,\u001b[m\u001b[m\u001b[1m  0.0 \u001b[m\u001b[mhi,\u001b[m\u001b[m\u001b[1m  0.0 \u001b[m\u001b[msi,\u001b[m\u001b[m\u001b[1m  0.0 \u001b[m\u001b[mst\u001b[m\u001b[m\u001b[m\u001b[m\u001b[K\n",
            "MiB Mem :\u001b[m\u001b[m\u001b[1m  12985.5 \u001b[m\u001b[mtotal,\u001b[m\u001b[m\u001b[1m   8798.0 \u001b[m\u001b[mfree,\u001b[m\u001b[m\u001b[1m    947.5 \u001b[m\u001b[mused,\u001b[m\u001b[m\u001b[1m   3240.0 \u001b[m\u001b[mbuff/cache\u001b[m\u001b[m\u001b[m\u001b[m\u001b[K\n",
            "MiB Swap:\u001b[m\u001b[m\u001b[1m      0.0 \u001b[m\u001b[mtotal,\u001b[m\u001b[m\u001b[1m      0.0 \u001b[m\u001b[mfree,\u001b[m\u001b[m\u001b[1m      0.0 \u001b[m\u001b[mused.\u001b[m\u001b[m\u001b[1m  11754.2 \u001b[m\u001b[mavail Mem \u001b[m\u001b[m\u001b[m\u001b[m\u001b[K\n",
            "\u001b[K\n",
            "\n",
            "\u001b[m    311 root      20   0 1284256 189676  62036 S   0.7   1.4   0:09.05 python3  \u001b[m\u001b[m\u001b[K\n",
            "\u001b[m    346 root      20   0  538116  14556   5636 S   0.3   0.1   0:00.35 python3  \u001b[m\u001b[m\u001b[K\n",
            "\u001b[m      1 root      20   0    1012      8      0 S   0.0   0.0   0:00.60 docker-+ \u001b[m\u001b[m\u001b[K\n",
            "\u001b[m      7 root      20   0  896552  50000  30672 S   0.0   0.4   0:04.67 node     \u001b[m\u001b[m\u001b[K\n",
            "\u001b[m     20 root      20   0    5524    584    512 S   0.0   0.0   0:00.64 tail     \u001b[m\u001b[m\u001b[K\n",
            "\u001b[m     31 root      20   0    6904   3428   3136 S   0.0   0.0   0:00.56 oom_mon+ \u001b[m\u001b[m\u001b[K\n",
            "\u001b[m     33 root      20   0    6904   1604   1328 S   0.0   0.0   0:00.00 run.sh   \u001b[m\u001b[m\u001b[K\n",
            "\u001b[m     34 root      20   0  721784  15512   8160 S   0.0   0.1   0:00.54 kernel_+ \u001b[m\u001b[m\u001b[K\n",
            "\n",
            "\n",
            "\n",
            "\n",
            "\n",
            "\n",
            "\u001b[m   4423 root      20   0    5488    516    448 S   0.0   0.0   0:00.00 sleep    \u001b[m\u001b[m\u001b[K\n",
            "\u001b[J\u001b[H\u001b[mtop - 01:59:57 up 17 min,  0 users,  load average: 0.22, 0.40, 0.30\u001b[m\u001b[m\u001b[m\u001b[m\u001b[K\n",
            "\n",
            "%Cpu(s):\u001b[m\u001b[m\u001b[1m  1.5 \u001b[m\u001b[mus,\u001b[m\u001b[m\u001b[1m  1.2 \u001b[m\u001b[msy,\u001b[m\u001b[m\u001b[1m  0.0 \u001b[m\u001b[mni,\u001b[m\u001b[m\u001b[1m 97.2 \u001b[m\u001b[mid,\u001b[m\u001b[m\u001b[1m  0.0 \u001b[m\u001b[mwa,\u001b[m\u001b[m\u001b[1m  0.0 \u001b[m\u001b[mhi,\u001b[m\u001b[m\u001b[1m  0.2 \u001b[m\u001b[msi,\u001b[m\u001b[m\u001b[1m  0.0 \u001b[m\u001b[mst\u001b[m\u001b[m\u001b[m\u001b[m\u001b[K\n",
            "MiB Mem :\u001b[m\u001b[m\u001b[1m  12985.5 \u001b[m\u001b[mtotal,\u001b[m\u001b[m\u001b[1m   8797.7 \u001b[m\u001b[mfree,\u001b[m\u001b[m\u001b[1m    947.8 \u001b[m\u001b[mused,\u001b[m\u001b[m\u001b[1m   3240.0 \u001b[m\u001b[mbuff/cache\u001b[m\u001b[m\u001b[m\u001b[m\u001b[K\n",
            "MiB Swap:\u001b[m\u001b[m\u001b[1m      0.0 \u001b[m\u001b[mtotal,\u001b[m\u001b[m\u001b[1m      0.0 \u001b[m\u001b[mfree,\u001b[m\u001b[m\u001b[1m      0.0 \u001b[m\u001b[mused.\u001b[m\u001b[m\u001b[1m  11754.0 \u001b[m\u001b[mavail Mem \u001b[m\u001b[m\u001b[m\u001b[m\u001b[K\n",
            "\u001b[K\n",
            "\n",
            "\u001b[m    311 root      20   0 1284256 189676  62036 S   1.3   1.4   0:09.09 python3  \u001b[m\u001b[m\u001b[K\n",
            "\u001b[m     83 root      20   0  556668 152616  48356 S   0.7   1.1   0:05.40 jupyter+ \u001b[m\u001b[m\u001b[K\n",
            "\u001b[m      7 root      20   0  896552  50000  30672 S   0.3   0.4   0:04.68 node     \u001b[m\u001b[m\u001b[K\n",
            "\u001b[m     84 root      20   0  712892   8256   2848 S   0.3   0.1   0:00.32 dap_mul+ \u001b[m\u001b[m\u001b[K\n",
            "\u001b[m      1 root      20   0    1012      8      0 S   0.0   0.0   0:00.60 docker-+ \u001b[m\u001b[m\u001b[K\n",
            "\u001b[m     20 root      20   0    5524    584    512 S   0.0   0.0   0:00.64 tail     \u001b[m\u001b[m\u001b[K\n",
            "\u001b[m     31 root      20   0    6904   3428   3136 S   0.0   0.0   0:00.56 oom_mon+ \u001b[m\u001b[m\u001b[K\n",
            "\u001b[m     33 root      20   0    6904   1604   1328 S   0.0   0.0   0:00.00 run.sh   \u001b[m\u001b[m\u001b[K\n",
            "\u001b[m     34 root      20   0  721784  15512   8160 S   0.0   0.1   0:00.54 kernel_+ \u001b[m\u001b[m\u001b[K\n",
            "\u001b[m     61 root      20   0       0      0      0 Z   0.0   0.0   0:06.41 python3  \u001b[m\u001b[m\u001b[K\n",
            "\u001b[m     62 root      20   0   77204  44108  12944 S   0.0   0.3   0:00.70 colab-f+ \u001b[m\u001b[m\u001b[K\n",
            "\u001b[m    346 root      20   0  538116  14556   5636 S   0.0   0.1   0:00.35 python3  \u001b[m\u001b[m\u001b[K\n",
            "\n",
            "\n",
            "\u001b[m   4435 root      20   0    5488    588    516 S   0.0   0.0   0:00.00 sleep    \u001b[m\u001b[m\u001b[K\n",
            "\u001b[J\u001b[H\u001b[mtop - 02:00:00 up 17 min,  0 users,  load average: 0.28, 0.41, 0.30\u001b[m\u001b[m\u001b[m\u001b[m\u001b[K\n",
            "\n",
            "%Cpu(s):\u001b[m\u001b[m\u001b[1m 24.8 \u001b[m\u001b[mus,\u001b[m\u001b[m\u001b[1m  6.2 \u001b[m\u001b[msy,\u001b[m\u001b[m\u001b[1m  0.0 \u001b[m\u001b[mni,\u001b[m\u001b[m\u001b[1m 69.0 \u001b[m\u001b[mid,\u001b[m\u001b[m\u001b[1m  0.0 \u001b[m\u001b[mwa,\u001b[m\u001b[m\u001b[1m  0.0 \u001b[m\u001b[mhi,\u001b[m\u001b[m\u001b[1m  0.0 \u001b[m\u001b[msi,\u001b[m\u001b[m\u001b[1m  0.0 \u001b[m\u001b[mst\u001b[m\u001b[m\u001b[m\u001b[m\u001b[K\n",
            "MiB Mem :\u001b[m\u001b[m\u001b[1m  12985.5 \u001b[m\u001b[mtotal,\u001b[m\u001b[m\u001b[1m   8797.8 \u001b[m\u001b[mfree,\u001b[m\u001b[m\u001b[1m    947.8 \u001b[m\u001b[mused,\u001b[m\u001b[m\u001b[1m   3240.0 \u001b[m\u001b[mbuff/cache\u001b[m\u001b[m\u001b[m\u001b[m\u001b[K\n",
            "\n",
            "\u001b[K\n",
            "\n",
            "\u001b[m    311 root      20   0 1284256 189676  62036 S   0.7   1.4   0:09.11 python3  \u001b[m\u001b[m\u001b[K\n",
            "\u001b[m      7 root      20   0  896552  50260  30672 S   0.3   0.4   0:04.69 node     \u001b[m\u001b[m\u001b[K\n",
            "\u001b[m     20 root      20   0    5524    584    512 S   0.3   0.0   0:00.65 tail     \u001b[m\u001b[m\u001b[K\n",
            "\u001b[m    346 root      20   0  538116  14556   5636 S   0.3   0.1   0:00.36 python3  \u001b[m\u001b[m\u001b[K\n",
            "\n",
            "\u001b[m     31 root      20   0    6904   3428   3136 S   0.0   0.0   0:00.56 oom_mon+ \u001b[m\u001b[m\u001b[K\n",
            "\u001b[m     33 root      20   0    6904   1604   1328 S   0.0   0.0   0:00.00 run.sh   \u001b[m\u001b[m\u001b[K\n",
            "\u001b[m     34 root      20   0  721784  15512   8160 S   0.0   0.1   0:00.54 kernel_+ \u001b[m\u001b[m\u001b[K\n",
            "\u001b[m     61 root      20   0       0      0      0 Z   0.0   0.0   0:06.41 python3  \u001b[m\u001b[m\u001b[K\n",
            "\u001b[m     62 root      20   0   77204  44108  12944 S   0.0   0.3   0:00.70 colab-f+ \u001b[m\u001b[m\u001b[K\n",
            "\u001b[m     83 root      20   0  556668 152616  48356 S   0.0   1.1   0:05.40 jupyter+ \u001b[m\u001b[m\u001b[K\n",
            "\u001b[m     84 root      20   0  712892   8256   2848 S   0.0   0.1   0:00.32 dap_mul+ \u001b[m\u001b[m\u001b[K\n",
            "\n",
            "\n",
            "\u001b[m   4449 root      20   0    5488    584    512 S   0.0   0.0   0:00.00 sleep    \u001b[m\u001b[m\u001b[K\n",
            "\u001b[J\u001b[H\u001b[mtop - 02:00:03 up 17 min,  0 users,  load average: 0.28, 0.41, 0.30\u001b[m\u001b[m\u001b[m\u001b[m\u001b[K\n",
            "\n",
            "%Cpu(s):\u001b[m\u001b[m\u001b[1m  1.7 \u001b[m\u001b[mus,\u001b[m\u001b[m\u001b[1m  1.3 \u001b[m\u001b[msy,\u001b[m\u001b[m\u001b[1m  0.0 \u001b[m\u001b[mni,\u001b[m\u001b[m\u001b[1m 96.8 \u001b[m\u001b[mid,\u001b[m\u001b[m\u001b[1m  0.0 \u001b[m\u001b[mwa,\u001b[m\u001b[m\u001b[1m  0.0 \u001b[m\u001b[mhi,\u001b[m\u001b[m\u001b[1m  0.2 \u001b[m\u001b[msi,\u001b[m\u001b[m\u001b[1m  0.0 \u001b[m\u001b[mst\u001b[m\u001b[m\u001b[m\u001b[m\u001b[K\n",
            "MiB Mem :\u001b[m\u001b[m\u001b[1m  12985.5 \u001b[m\u001b[mtotal,\u001b[m\u001b[m\u001b[1m   8797.5 \u001b[m\u001b[mfree,\u001b[m\u001b[m\u001b[1m    948.0 \u001b[m\u001b[mused,\u001b[m\u001b[m\u001b[1m   3240.0 \u001b[m\u001b[mbuff/cache\u001b[m\u001b[m\u001b[m\u001b[m\u001b[K\n",
            "MiB Swap:\u001b[m\u001b[m\u001b[1m      0.0 \u001b[m\u001b[mtotal,\u001b[m\u001b[m\u001b[1m      0.0 \u001b[m\u001b[mfree,\u001b[m\u001b[m\u001b[1m      0.0 \u001b[m\u001b[mused.\u001b[m\u001b[m\u001b[1m  11753.8 \u001b[m\u001b[mavail Mem \u001b[m\u001b[m\u001b[m\u001b[m\u001b[K\n",
            "\u001b[K\n",
            "\n",
            "\u001b[m    311 root      20   0 1284256 189676  62036 S   0.7   1.4   0:09.13 python3  \u001b[m\u001b[m\u001b[K\n",
            "\u001b[m      7 root      20   0  896552  50260  30672 S   0.3   0.4   0:04.70 node     \u001b[m\u001b[m\u001b[K\n",
            "\u001b[m     34 root      20   0  721784  15512   8160 S   0.3   0.1   0:00.55 kernel_+ \u001b[m\u001b[m\u001b[K\n",
            "\u001b[m     83 root      20   0  556668 152616  48356 S   0.3   1.1   0:05.41 jupyter+ \u001b[m\u001b[m\u001b[K\n",
            "\u001b[m     84 root      20   0  712892   8256   2848 S   0.3   0.1   0:00.33 dap_mul+ \u001b[m\u001b[m\u001b[K\n",
            "\u001b[m    346 root      20   0  538116  14556   5636 S   0.3   0.1   0:00.37 python3  \u001b[m\u001b[m\u001b[K\n",
            "\u001b[m      1 root      20   0    1012      8      0 S   0.0   0.0   0:00.60 docker-+ \u001b[m\u001b[m\u001b[K\n",
            "\u001b[m     20 root      20   0    5524    584    512 S   0.0   0.0   0:00.65 tail     \u001b[m\u001b[m\u001b[K\n",
            "\u001b[m     31 root      20   0    6904   3428   3136 S   0.0   0.0   0:00.56 oom_mon+ \u001b[m\u001b[m\u001b[K\n",
            "\u001b[m     33 root      20   0    6904   1604   1328 S   0.0   0.0   0:00.00 run.sh   \u001b[m\u001b[m\u001b[K\n",
            "\u001b[m     61 root      20   0       0      0      0 Z   0.0   0.0   0:06.41 python3  \u001b[m\u001b[m\u001b[K\n",
            "\u001b[m     62 root      20   0   77204  44108  12944 S   0.0   0.3   0:00.70 colab-f+ \u001b[m\u001b[m\u001b[K\n",
            "\n",
            "\n",
            "\u001b[m   4463 root      20   0    5488    580    512 S   0.0   0.0   0:00.00 sleep    \u001b[m\u001b[m\u001b[K\n",
            "\u001b[J\u001b[H\u001b[mtop - 02:00:06 up 17 min,  0 users,  load average: 0.26, 0.40, 0.30\u001b[m\u001b[m\u001b[m\u001b[m\u001b[K\n",
            "\n",
            "%Cpu(s):\u001b[m\u001b[m\u001b[1m  0.8 \u001b[m\u001b[mus,\u001b[m\u001b[m\u001b[1m  1.0 \u001b[m\u001b[msy,\u001b[m\u001b[m\u001b[1m  0.0 \u001b[m\u001b[mni,\u001b[m\u001b[m\u001b[1m 98.0 \u001b[m\u001b[mid,\u001b[m\u001b[m\u001b[1m  0.0 \u001b[m\u001b[mwa,\u001b[m\u001b[m\u001b[1m  0.0 \u001b[m\u001b[mhi,\u001b[m\u001b[m\u001b[1m  0.0 \u001b[m\u001b[msi,\u001b[m\u001b[m\u001b[1m  0.2 \u001b[m\u001b[mst\u001b[m\u001b[m\u001b[m\u001b[m\u001b[K\n",
            "\n",
            "MiB Swap:\u001b[m\u001b[m\u001b[1m      0.0 \u001b[m\u001b[mtotal,\u001b[m\u001b[m\u001b[1m      0.0 \u001b[m\u001b[mfree,\u001b[m\u001b[m\u001b[1m      0.0 \u001b[m\u001b[mused.\u001b[m\u001b[m\u001b[1m  11753.7 \u001b[m\u001b[mavail Mem \u001b[m\u001b[m\u001b[m\u001b[m\u001b[K\n",
            "\u001b[K\n",
            "\n",
            "\u001b[m    311 root      20   0 1284256 189676  62036 S   1.0   1.4   0:09.16 python3  \u001b[m\u001b[m\u001b[K\n",
            "\u001b[m     31 root      20   0    6904   3428   3136 S   0.3   0.0   0:00.57 oom_mon+ \u001b[m\u001b[m\u001b[K\n",
            "\u001b[m    346 root      20   0  538116  14556   5636 S   0.3   0.1   0:00.38 python3  \u001b[m\u001b[m\u001b[K\n",
            "\u001b[m\u001b[1m   3953 root      20   0    9128   3604   3112 R   0.3   0.0   0:00.05 top      \u001b[m\u001b[m\u001b[K\n",
            "\u001b[m      1 root      20   0    1012      8      0 S   0.0   0.0   0:00.60 docker-+ \u001b[m\u001b[m\u001b[K\n",
            "\u001b[m      7 root      20   0  896552  50524  30672 S   0.0   0.4   0:04.70 node     \u001b[m\u001b[m\u001b[K\n",
            "\u001b[m     20 root      20   0    5524    584    512 S   0.0   0.0   0:00.65 tail     \u001b[m\u001b[m\u001b[K\n",
            "\u001b[m     33 root      20   0    6904   1604   1328 S   0.0   0.0   0:00.00 run.sh   \u001b[m\u001b[m\u001b[K\n",
            "\u001b[m     34 root      20   0  721784  15512   8160 S   0.0   0.1   0:00.55 kernel_+ \u001b[m\u001b[m\u001b[K\n",
            "\u001b[m     61 root      20   0       0      0      0 Z   0.0   0.0   0:06.41 python3  \u001b[m\u001b[m\u001b[K\n",
            "\u001b[m     62 root      20   0   77204  44108  12944 S   0.0   0.3   0:00.70 colab-f+ \u001b[m\u001b[m\u001b[K\n",
            "\u001b[m     83 root      20   0  556668 152616  48356 S   0.0   1.1   0:05.41 jupyter+ \u001b[m\u001b[m\u001b[K\n",
            "\u001b[m     84 root      20   0  712892   8256   2848 S   0.0   0.1   0:00.33 dap_mul+ \u001b[m\u001b[m\u001b[K\n",
            "\u001b[m    381 root      20   0 1112384 372256  30220 S   0.0   2.8   0:56.51 node     \u001b[m\u001b[m\u001b[K\n",
            "\u001b[m   4475 root      20   0    5488    524    452 S   0.0   0.0   0:00.00 sleep    \u001b[m\u001b[m\u001b[K\n",
            "\u001b[J\u001b[H\u001b[mtop - 02:00:09 up 17 min,  0 users,  load average: 0.24, 0.39, 0.30\u001b[m\u001b[m\u001b[m\u001b[m\u001b[K\n",
            "\n",
            "%Cpu(s):\u001b[m\u001b[m\u001b[1m  1.7 \u001b[m\u001b[mus,\u001b[m\u001b[m\u001b[1m  1.3 \u001b[m\u001b[msy,\u001b[m\u001b[m\u001b[1m  0.0 \u001b[m\u001b[mni,\u001b[m\u001b[m\u001b[1m 96.8 \u001b[m\u001b[mid,\u001b[m\u001b[m\u001b[1m  0.2 \u001b[m\u001b[mwa,\u001b[m\u001b[m\u001b[1m  0.0 \u001b[m\u001b[mhi,\u001b[m\u001b[m\u001b[1m  0.0 \u001b[m\u001b[msi,\u001b[m\u001b[m\u001b[1m  0.0 \u001b[m\u001b[mst\u001b[m\u001b[m\u001b[m\u001b[m\u001b[K\n",
            "MiB Mem :\u001b[m\u001b[m\u001b[1m  12985.5 \u001b[m\u001b[mtotal,\u001b[m\u001b[m\u001b[1m   8797.7 \u001b[m\u001b[mfree,\u001b[m\u001b[m\u001b[1m    947.8 \u001b[m\u001b[mused,\u001b[m\u001b[m\u001b[1m   3240.0 \u001b[m\u001b[mbuff/cache\u001b[m\u001b[m\u001b[m\u001b[m\u001b[K\n",
            "MiB Swap:\u001b[m\u001b[m\u001b[1m      0.0 \u001b[m\u001b[mtotal,\u001b[m\u001b[m\u001b[1m      0.0 \u001b[m\u001b[mfree,\u001b[m\u001b[m\u001b[1m      0.0 \u001b[m\u001b[mused.\u001b[m\u001b[m\u001b[1m  11754.0 \u001b[m\u001b[mavail Mem \u001b[m\u001b[m\u001b[m\u001b[m\u001b[K\n",
            "\u001b[K\n",
            "\n",
            "\u001b[m     83 root      20   0  556668 152616  48356 S   0.7   1.1   0:05.43 jupyter+ \u001b[m\u001b[m\u001b[K\n",
            "\u001b[m    311 root      20   0 1284256 189676  62036 S   0.7   1.4   0:09.18 python3  \u001b[m\u001b[m\u001b[K\n",
            "\u001b[m     34 root      20   0  721784  15512   8160 S   0.3   0.1   0:00.56 kernel_+ \u001b[m\u001b[m\u001b[K\n",
            "\u001b[m    346 root      20   0  538116  14556   5636 S   0.3   0.1   0:00.39 python3  \u001b[m\u001b[m\u001b[K\n",
            "\n",
            "\u001b[m      7 root      20   0  896552  49764  30672 S   0.0   0.4   0:04.70 node     \u001b[m\u001b[m\u001b[K\n",
            "\n",
            "\u001b[m     31 root      20   0    6904   3428   3136 S   0.0   0.0   0:00.57 oom_mon+ \u001b[m\u001b[m\u001b[K\n",
            "\u001b[m     33 root      20   0    6904   1604   1328 S   0.0   0.0   0:00.00 run.sh   \u001b[m\u001b[m\u001b[K\n",
            "\n",
            "\n",
            "\u001b[m     84 root      20   0  712892   8256   2848 S   0.0   0.1   0:00.33 dap_mul+ \u001b[m\u001b[m\u001b[K\n",
            "\u001b[m    381 root      20   0 1112384 372256  30220 S   0.0   2.8   0:56.51 node     \u001b[m\u001b[m\u001b[K\n",
            "\u001b[m\u001b[1m   3953 root      20   0    9128   3604   3112 R   0.0   0.0   0:00.05 top      \u001b[m\u001b[m\u001b[K\n",
            "\u001b[m   4489 root      20   0    5488    580    512 S   0.0   0.0   0:00.00 sleep    \u001b[m\u001b[m\u001b[K\n",
            "\u001b[J\u001b[H\u001b[mtop - 02:00:12 up 17 min,  0 users,  load average: 0.24, 0.39, 0.30\u001b[m\u001b[m\u001b[m\u001b[m\u001b[K\n",
            "\n",
            "%Cpu(s):\u001b[m\u001b[m\u001b[1m 24.4 \u001b[m\u001b[mus,\u001b[m\u001b[m\u001b[1m  6.7 \u001b[m\u001b[msy,\u001b[m\u001b[m\u001b[1m  0.0 \u001b[m\u001b[mni,\u001b[m\u001b[m\u001b[1m 68.7 \u001b[m\u001b[mid,\u001b[m\u001b[m\u001b[1m  0.0 \u001b[m\u001b[mwa,\u001b[m\u001b[m\u001b[1m  0.0 \u001b[m\u001b[mhi,\u001b[m\u001b[m\u001b[1m  0.2 \u001b[m\u001b[msi,\u001b[m\u001b[m\u001b[1m  0.0 \u001b[m\u001b[mst\u001b[m\u001b[m\u001b[m\u001b[m\u001b[K\n",
            "MiB Mem :\u001b[m\u001b[m\u001b[1m  12985.5 \u001b[m\u001b[mtotal,\u001b[m\u001b[m\u001b[1m   8798.5 \u001b[m\u001b[mfree,\u001b[m\u001b[m\u001b[1m    946.9 \u001b[m\u001b[mused,\u001b[m\u001b[m\u001b[1m   3240.2 \u001b[m\u001b[mbuff/cache\u001b[m\u001b[m\u001b[m\u001b[m\u001b[K\n",
            "MiB Swap:\u001b[m\u001b[m\u001b[1m      0.0 \u001b[m\u001b[mtotal,\u001b[m\u001b[m\u001b[1m      0.0 \u001b[m\u001b[mfree,\u001b[m\u001b[m\u001b[1m      0.0 \u001b[m\u001b[mused.\u001b[m\u001b[m\u001b[1m  11754.9 \u001b[m\u001b[mavail Mem \u001b[m\u001b[m\u001b[m\u001b[m\u001b[K\n",
            "\u001b[K\n",
            "\n",
            "\u001b[m     84 root      20   0  712892   8256   2848 S   0.7   0.1   0:00.35 dap_mul+ \u001b[m\u001b[m\u001b[K\n",
            "\u001b[m    311 root      20   0 1284256 189676  62036 S   0.7   1.4   0:09.20 python3  \u001b[m\u001b[m\u001b[K\n",
            "\u001b[m      7 root      20   0  896552  49764  30672 S   0.3   0.4   0:04.71 node     \u001b[m\u001b[m\u001b[K\n",
            "\u001b[m    346 root      20   0  538116  14556   5636 S   0.3   0.1   0:00.40 python3  \u001b[m\u001b[m\u001b[K\n",
            "\n",
            "\u001b[m     20 root      20   0    5524    584    512 S   0.0   0.0   0:00.65 tail     \u001b[m\u001b[m\u001b[K\n",
            "\u001b[m     31 root      20   0    6904   3428   3136 S   0.0   0.0   0:00.57 oom_mon+ \u001b[m\u001b[m\u001b[K\n",
            "\u001b[m     33 root      20   0    6904   1604   1328 S   0.0   0.0   0:00.00 run.sh   \u001b[m\u001b[m\u001b[K\n",
            "\u001b[m     34 root      20   0  722040  15512   8160 S   0.0   0.1   0:00.56 kernel_+ \u001b[m\u001b[m\u001b[K\n",
            "\n",
            "\n",
            "\u001b[m     83 root      20   0  556668 152616  48356 S   0.0   1.1   0:05.43 jupyter+ \u001b[m\u001b[m\u001b[K\n",
            "\n",
            "\n",
            "\u001b[m   4501 root      20   0    5488    584    512 S   0.0   0.0   0:00.00 sleep    \u001b[m\u001b[m\u001b[K\n",
            "\u001b[J\u001b[H\u001b[mtop - 02:00:15 up 17 min,  0 users,  load average: 0.22, 0.39, 0.30\u001b[m\u001b[m\u001b[m\u001b[m\u001b[K\n",
            "\n",
            "%Cpu(s):\u001b[m\u001b[m\u001b[1m  1.5 \u001b[m\u001b[mus,\u001b[m\u001b[m\u001b[1m  1.0 \u001b[m\u001b[msy,\u001b[m\u001b[m\u001b[1m  0.0 \u001b[m\u001b[mni,\u001b[m\u001b[m\u001b[1m 97.5 \u001b[m\u001b[mid,\u001b[m\u001b[m\u001b[1m  0.0 \u001b[m\u001b[mwa,\u001b[m\u001b[m\u001b[1m  0.0 \u001b[m\u001b[mhi,\u001b[m\u001b[m\u001b[1m  0.0 \u001b[m\u001b[msi,\u001b[m\u001b[m\u001b[1m  0.0 \u001b[m\u001b[mst\u001b[m\u001b[m\u001b[m\u001b[m\u001b[K\n",
            "MiB Mem :\u001b[m\u001b[m\u001b[1m  12985.5 \u001b[m\u001b[mtotal,\u001b[m\u001b[m\u001b[1m   8799.2 \u001b[m\u001b[mfree,\u001b[m\u001b[m\u001b[1m    946.2 \u001b[m\u001b[mused,\u001b[m\u001b[m\u001b[1m   3240.1 \u001b[m\u001b[mbuff/cache\u001b[m\u001b[m\u001b[m\u001b[m\u001b[K\n",
            "MiB Swap:\u001b[m\u001b[m\u001b[1m      0.0 \u001b[m\u001b[mtotal,\u001b[m\u001b[m\u001b[1m      0.0 \u001b[m\u001b[mfree,\u001b[m\u001b[m\u001b[1m      0.0 \u001b[m\u001b[mused.\u001b[m\u001b[m\u001b[1m  11755.6 \u001b[m\u001b[mavail Mem \u001b[m\u001b[m\u001b[m\u001b[m\u001b[K\n",
            "\u001b[K\n",
            "\n",
            "\u001b[m    311 root      20   0 1284256 189676  62036 S   1.3   1.4   0:09.24 python3  \u001b[m\u001b[m\u001b[K\n",
            "\u001b[m      1 root      20   0    1012      8      0 S   0.0   0.0   0:00.60 docker-+ \u001b[m\u001b[m\u001b[K\n",
            "\u001b[m      7 root      20   0  896552  49764  30672 S   0.0   0.4   0:04.71 node     \u001b[m\u001b[m\u001b[K\n",
            "\u001b[m     20 root      20   0    5524    584    512 S   0.0   0.0   0:00.65 tail     \u001b[m\u001b[m\u001b[K\n",
            "\u001b[m     31 root      20   0    6904   3428   3136 S   0.0   0.0   0:00.57 oom_mon+ \u001b[m\u001b[m\u001b[K\n",
            "\u001b[m     33 root      20   0    6904   1604   1328 S   0.0   0.0   0:00.00 run.sh   \u001b[m\u001b[m\u001b[K\n",
            "\u001b[m     34 root      20   0  722040  15512   8160 S   0.0   0.1   0:00.56 kernel_+ \u001b[m\u001b[m\u001b[K\n",
            "\u001b[m     61 root      20   0       0      0      0 Z   0.0   0.0   0:06.41 python3  \u001b[m\u001b[m\u001b[K\n",
            "\u001b[m     62 root      20   0   77204  44108  12944 S   0.0   0.3   0:00.70 colab-f+ \u001b[m\u001b[m\u001b[K\n",
            "\u001b[m     83 root      20   0  556668 152616  48356 S   0.0   1.1   0:05.43 jupyter+ \u001b[m\u001b[m\u001b[K\n",
            "\u001b[m     84 root      20   0  712892   8256   2848 S   0.0   0.1   0:00.35 dap_mul+ \u001b[m\u001b[m\u001b[K\n",
            "\u001b[m    346 root      20   0  538116  14556   5636 S   0.0   0.1   0:00.40 python3  \u001b[m\u001b[m\u001b[K\n",
            "\n",
            "\n",
            "\u001b[m   4513 root      20   0    5488    516    448 S   0.0   0.0   0:00.00 sleep    \u001b[m\u001b[m\u001b[K\n",
            "\u001b[J\u001b[H\u001b[mtop - 02:00:18 up 17 min,  0 users,  load average: 0.22, 0.39, 0.30\u001b[m\u001b[m\u001b[m\u001b[m\u001b[K\n",
            "\n",
            "%Cpu(s):\u001b[m\u001b[m\u001b[1m  1.2 \u001b[m\u001b[mus,\u001b[m\u001b[m\u001b[1m  1.2 \u001b[m\u001b[msy,\u001b[m\u001b[m\u001b[1m  0.0 \u001b[m\u001b[mni,\u001b[m\u001b[m\u001b[1m 97.7 \u001b[m\u001b[mid,\u001b[m\u001b[m\u001b[1m  0.0 \u001b[m\u001b[mwa,\u001b[m\u001b[m\u001b[1m  0.0 \u001b[m\u001b[mhi,\u001b[m\u001b[m\u001b[1m  0.0 \u001b[m\u001b[msi,\u001b[m\u001b[m\u001b[1m  0.0 \u001b[m\u001b[mst\u001b[m\u001b[m\u001b[m\u001b[m\u001b[K\n",
            "MiB Mem :\u001b[m\u001b[m\u001b[1m  12985.5 \u001b[m\u001b[mtotal,\u001b[m\u001b[m\u001b[1m   8798.9 \u001b[m\u001b[mfree,\u001b[m\u001b[m\u001b[1m    946.5 \u001b[m\u001b[mused,\u001b[m\u001b[m\u001b[1m   3240.1 \u001b[m\u001b[mbuff/cache\u001b[m\u001b[m\u001b[m\u001b[m\u001b[K\n",
            "MiB Swap:\u001b[m\u001b[m\u001b[1m      0.0 \u001b[m\u001b[mtotal,\u001b[m\u001b[m\u001b[1m      0.0 \u001b[m\u001b[mfree,\u001b[m\u001b[m\u001b[1m      0.0 \u001b[m\u001b[mused.\u001b[m\u001b[m\u001b[1m  11755.3 \u001b[m\u001b[mavail Mem \u001b[m\u001b[m\u001b[m\u001b[m\u001b[K\n",
            "\u001b[K\n",
            "\n",
            "\u001b[m    311 root      20   0 1284256 189676  62036 S   1.0   1.4   0:09.27 python3  \u001b[m\u001b[m\u001b[K\n",
            "\u001b[m     34 root      20   0  722040  15512   8160 S   0.3   0.1   0:00.57 kernel_+ \u001b[m\u001b[m\u001b[K\n",
            "\u001b[m     83 root      20   0  556668 152616  48356 S   0.3   1.1   0:05.44 jupyter+ \u001b[m\u001b[m\u001b[K\n",
            "\u001b[m     84 root      20   0  712892   8444   2848 S   0.3   0.1   0:00.36 dap_mul+ \u001b[m\u001b[m\u001b[K\n",
            "\u001b[m    346 root      20   0  538116  14556   5636 S   0.3   0.1   0:00.41 python3  \u001b[m\u001b[m\u001b[K\n",
            "\u001b[m      1 root      20   0    1012      8      0 S   0.0   0.0   0:00.60 docker-+ \u001b[m\u001b[m\u001b[K\n",
            "\u001b[m      7 root      20   0  896552  50028  30672 S   0.0   0.4   0:04.71 node     \u001b[m\u001b[m\u001b[K\n",
            "\u001b[m     20 root      20   0    5524    584    512 S   0.0   0.0   0:00.65 tail     \u001b[m\u001b[m\u001b[K\n",
            "\u001b[m     31 root      20   0    6904   3428   3136 S   0.0   0.0   0:00.57 oom_mon+ \u001b[m\u001b[m\u001b[K\n",
            "\u001b[m     33 root      20   0    6904   1604   1328 S   0.0   0.0   0:00.00 run.sh   \u001b[m\u001b[m\u001b[K\n",
            "\u001b[m     61 root      20   0       0      0      0 Z   0.0   0.0   0:06.41 python3  \u001b[m\u001b[m\u001b[K\n",
            "\u001b[m     62 root      20   0   77204  44108  12944 S   0.0   0.3   0:00.70 colab-f+ \u001b[m\u001b[m\u001b[K\n",
            "\n",
            "\n",
            "\u001b[m   4525 root      20   0    5488    516    448 S   0.0   0.0   0:00.00 sleep    \u001b[m\u001b[m\u001b[K\n",
            "\u001b[J\u001b[H\u001b[mtop - 02:00:21 up 17 min,  0 users,  load average: 0.20, 0.38, 0.30\u001b[m\u001b[m\u001b[m\u001b[m\u001b[K\n",
            "\n",
            "%Cpu(s):\u001b[m\u001b[m\u001b[1m  3.0 \u001b[m\u001b[mus,\u001b[m\u001b[m\u001b[1m  2.3 \u001b[m\u001b[msy,\u001b[m\u001b[m\u001b[1m  0.0 \u001b[m\u001b[mni,\u001b[m\u001b[m\u001b[1m 94.6 \u001b[m\u001b[mid,\u001b[m\u001b[m\u001b[1m  0.0 \u001b[m\u001b[mwa,\u001b[m\u001b[m\u001b[1m  0.0 \u001b[m\u001b[mhi,\u001b[m\u001b[m\u001b[1m  0.0 \u001b[m\u001b[msi,\u001b[m\u001b[m\u001b[1m  0.0 \u001b[m\u001b[mst\u001b[m\u001b[m\u001b[m\u001b[m\u001b[K\n",
            "MiB Mem :\u001b[m\u001b[m\u001b[1m  12985.5 \u001b[m\u001b[mtotal,\u001b[m\u001b[m\u001b[1m   8778.9 \u001b[m\u001b[mfree,\u001b[m\u001b[m\u001b[1m    966.6 \u001b[m\u001b[mused,\u001b[m\u001b[m\u001b[1m   3240.1 \u001b[m\u001b[mbuff/cache\u001b[m\u001b[m\u001b[m\u001b[m\u001b[K\n",
            "MiB Swap:\u001b[m\u001b[m\u001b[1m      0.0 \u001b[m\u001b[mtotal,\u001b[m\u001b[m\u001b[1m      0.0 \u001b[m\u001b[mfree,\u001b[m\u001b[m\u001b[1m      0.0 \u001b[m\u001b[mused.\u001b[m\u001b[m\u001b[1m  11735.2 \u001b[m\u001b[mavail Mem \u001b[m\u001b[m\u001b[m\u001b[m\u001b[K\n",
            "\u001b[K\n",
            "\n",
            "\u001b[m    311 root      20   0 1284256 189676  62036 S   0.7   1.4   0:09.29 python3  \u001b[m\u001b[m\u001b[K\n",
            "\u001b[m      7 root      20   0  896552  50028  30672 S   0.3   0.4   0:04.72 node     \u001b[m\u001b[m\u001b[K\n",
            "\u001b[m    346 root      20   0  538116  14556   5636 S   0.3   0.1   0:00.42 python3  \u001b[m\u001b[m\u001b[K\n",
            "\u001b[m      1 root      20   0    1012      8      0 S   0.0   0.0   0:00.60 docker-+ \u001b[m\u001b[m\u001b[K\n",
            "\u001b[m     20 root      20   0    5524    584    512 S   0.0   0.0   0:00.65 tail     \u001b[m\u001b[m\u001b[K\n",
            "\u001b[m     31 root      20   0    6904   3428   3136 S   0.0   0.0   0:00.57 oom_mon+ \u001b[m\u001b[m\u001b[K\n",
            "\u001b[m     33 root      20   0    6904   1604   1328 S   0.0   0.0   0:00.00 run.sh   \u001b[m\u001b[m\u001b[K\n",
            "\u001b[m     34 root      20   0  722040  14908   8160 S   0.0   0.1   0:00.57 kernel_+ \u001b[m\u001b[m\u001b[K\n",
            "\u001b[m     61 root      20   0       0      0      0 Z   0.0   0.0   0:06.41 python3  \u001b[m\u001b[m\u001b[K\n",
            "\u001b[m     62 root      20   0   77204  44108  12944 S   0.0   0.3   0:00.70 colab-f+ \u001b[m\u001b[m\u001b[K\n",
            "\u001b[m     83 root      20   0  556668 152616  48356 S   0.0   1.1   0:05.44 jupyter+ \u001b[m\u001b[m\u001b[K\n",
            "\u001b[m     84 root      20   0  712892   8444   2848 S   0.0   0.1   0:00.36 dap_mul+ \u001b[m\u001b[m\u001b[K\n",
            "\n",
            "\n",
            "\u001b[m   4539 root      20   0    5488    516    448 S   0.0   0.0   0:00.00 sleep    \u001b[m\u001b[m\u001b[K\n",
            "\u001b[J\u001b[H\u001b[mtop - 02:00:24 up 17 min,  0 users,  load average: 0.18, 0.37, 0.29\u001b[m\u001b[m\u001b[m\u001b[m\u001b[K\n",
            "\n",
            "%Cpu(s):\u001b[m\u001b[m\u001b[1m 23.8 \u001b[m\u001b[mus,\u001b[m\u001b[m\u001b[1m  5.2 \u001b[m\u001b[msy,\u001b[m\u001b[m\u001b[1m  0.0 \u001b[m\u001b[mni,\u001b[m\u001b[m\u001b[1m 70.8 \u001b[m\u001b[mid,\u001b[m\u001b[m\u001b[1m  0.0 \u001b[m\u001b[mwa,\u001b[m\u001b[m\u001b[1m  0.0 \u001b[m\u001b[mhi,\u001b[m\u001b[m\u001b[1m  0.2 \u001b[m\u001b[msi,\u001b[m\u001b[m\u001b[1m  0.0 \u001b[m\u001b[mst\u001b[m\u001b[m\u001b[m\u001b[m\u001b[K\n",
            "MiB Mem :\u001b[m\u001b[m\u001b[1m  12985.5 \u001b[m\u001b[mtotal,\u001b[m\u001b[m\u001b[1m   8799.5 \u001b[m\u001b[mfree,\u001b[m\u001b[m\u001b[1m    946.0 \u001b[m\u001b[mused,\u001b[m\u001b[m\u001b[1m   3240.1 \u001b[m\u001b[mbuff/cache\u001b[m\u001b[m\u001b[m\u001b[m\u001b[K\n",
            "MiB Swap:\u001b[m\u001b[m\u001b[1m      0.0 \u001b[m\u001b[mtotal,\u001b[m\u001b[m\u001b[1m      0.0 \u001b[m\u001b[mfree,\u001b[m\u001b[m\u001b[1m      0.0 \u001b[m\u001b[mused.\u001b[m\u001b[m\u001b[1m  11755.9 \u001b[m\u001b[mavail Mem \u001b[m\u001b[m\u001b[m\u001b[m\u001b[K\n",
            "\u001b[K\n",
            "\n",
            "\u001b[m    311 root      20   0 1284256 189676  62036 S   1.0   1.4   0:09.32 python3  \u001b[m\u001b[m\u001b[K\n",
            "\u001b[m     34 root      20   0  722040  14908   8160 S   0.3   0.1   0:00.58 kernel_+ \u001b[m\u001b[m\u001b[K\n",
            "\u001b[m     83 root      20   0  556668 152616  48356 S   0.3   1.1   0:05.45 jupyter+ \u001b[m\u001b[m\u001b[K\n",
            "\u001b[m    346 root      20   0  538116  14556   5636 S   0.3   0.1   0:00.43 python3  \u001b[m\u001b[m\u001b[K\n",
            "\u001b[m      1 root      20   0    1012      8      0 S   0.0   0.0   0:00.60 docker-+ \u001b[m\u001b[m\u001b[K\n",
            "\u001b[m      7 root      20   0  896552  50028  30672 S   0.0   0.4   0:04.72 node     \u001b[m\u001b[m\u001b[K\n",
            "\u001b[m     20 root      20   0    5524    584    512 S   0.0   0.0   0:00.65 tail     \u001b[m\u001b[m\u001b[K\n",
            "\u001b[m     31 root      20   0    6904   3428   3136 S   0.0   0.0   0:00.57 oom_mon+ \u001b[m\u001b[m\u001b[K\n",
            "\u001b[m     33 root      20   0    6904   1604   1328 S   0.0   0.0   0:00.00 run.sh   \u001b[m\u001b[m\u001b[K\n",
            "\u001b[m     61 root      20   0       0      0      0 Z   0.0   0.0   0:06.41 python3  \u001b[m\u001b[m\u001b[K\n",
            "\u001b[m     62 root      20   0   77204  44108  12944 S   0.0   0.3   0:00.70 colab-f+ \u001b[m\u001b[m\u001b[K\n",
            "\n",
            "\n",
            "\n",
            "\u001b[m   4551 root      20   0    5488    520    452 S   0.0   0.0   0:00.00 sleep    \u001b[m\u001b[m\u001b[K\n",
            "\u001b[J\u001b[H\u001b[mtop - 02:00:27 up 17 min,  0 users,  load average: 0.18, 0.37, 0.29\u001b[m\u001b[m\u001b[m\u001b[m\u001b[K\n",
            "\n",
            "%Cpu(s):\u001b[m\u001b[m\u001b[1m  1.2 \u001b[m\u001b[mus,\u001b[m\u001b[m\u001b[1m  1.2 \u001b[m\u001b[msy,\u001b[m\u001b[m\u001b[1m  0.0 \u001b[m\u001b[mni,\u001b[m\u001b[m\u001b[1m 97.5 \u001b[m\u001b[mid,\u001b[m\u001b[m\u001b[1m  0.0 \u001b[m\u001b[mwa,\u001b[m\u001b[m\u001b[1m  0.0 \u001b[m\u001b[mhi,\u001b[m\u001b[m\u001b[1m  0.0 \u001b[m\u001b[msi,\u001b[m\u001b[m\u001b[1m  0.2 \u001b[m\u001b[mst\u001b[m\u001b[m\u001b[m\u001b[m\u001b[K\n",
            "\n",
            "MiB Swap:\u001b[m\u001b[m\u001b[1m      0.0 \u001b[m\u001b[mtotal,\u001b[m\u001b[m\u001b[1m      0.0 \u001b[m\u001b[mfree,\u001b[m\u001b[m\u001b[1m      0.0 \u001b[m\u001b[mused.\u001b[m\u001b[m\u001b[1m  11755.8 \u001b[m\u001b[mavail Mem \u001b[m\u001b[m\u001b[m\u001b[m\u001b[K\n",
            "\u001b[K\n",
            "\n",
            "\u001b[m    311 root      20   0 1284256 189676  62036 S   0.7   1.4   0:09.34 python3  \u001b[m\u001b[m\u001b[K\n",
            "\u001b[m     31 root      20   0    6904   3428   3136 S   0.3   0.0   0:00.58 oom_mon+ \u001b[m\u001b[m\u001b[K\n",
            "\u001b[m     84 root      20   0  712892   8444   2848 S   0.3   0.1   0:00.37 dap_mul+ \u001b[m\u001b[m\u001b[K\n",
            "\u001b[m      1 root      20   0    1012      8      0 S   0.0   0.0   0:00.60 docker-+ \u001b[m\u001b[m\u001b[K\n",
            "\u001b[m      7 root      20   0  896552  50292  30672 S   0.0   0.4   0:04.72 node     \u001b[m\u001b[m\u001b[K\n",
            "\u001b[m     20 root      20   0    5524    584    512 S   0.0   0.0   0:00.65 tail     \u001b[m\u001b[m\u001b[K\n",
            "\u001b[m     33 root      20   0    6904   1604   1328 S   0.0   0.0   0:00.00 run.sh   \u001b[m\u001b[m\u001b[K\n",
            "\u001b[m     34 root      20   0  722040  14908   8160 S   0.0   0.1   0:00.58 kernel_+ \u001b[m\u001b[m\u001b[K\n",
            "\u001b[m     61 root      20   0       0      0      0 Z   0.0   0.0   0:06.41 python3  \u001b[m\u001b[m\u001b[K\n",
            "\u001b[m     62 root      20   0   77204  44108  12944 S   0.0   0.3   0:00.70 colab-f+ \u001b[m\u001b[m\u001b[K\n",
            "\u001b[m     83 root      20   0  556668 152616  48356 S   0.0   1.1   0:05.45 jupyter+ \u001b[m\u001b[m\u001b[K\n",
            "\u001b[m    346 root      20   0  538116  14556   5636 S   0.0   0.1   0:00.43 python3  \u001b[m\u001b[m\u001b[K\n",
            "\n",
            "\n",
            "\u001b[m   4563 root      20   0    5488    584    516 S   0.0   0.0   0:00.00 sleep    \u001b[m\u001b[m\u001b[K\n",
            "\u001b[J\u001b[H\u001b[mtop - 02:00:30 up 17 min,  0 users,  load average: 0.17, 0.37, 0.29\u001b[m\u001b[m\u001b[m\u001b[m\u001b[K\n",
            "\n",
            "%Cpu(s):\u001b[m\u001b[m\u001b[1m  1.2 \u001b[m\u001b[mus,\u001b[m\u001b[m\u001b[1m  1.0 \u001b[m\u001b[msy,\u001b[m\u001b[m\u001b[1m  0.0 \u001b[m\u001b[mni,\u001b[m\u001b[m\u001b[1m 97.8 \u001b[m\u001b[mid,\u001b[m\u001b[m\u001b[1m  0.0 \u001b[m\u001b[mwa,\u001b[m\u001b[m\u001b[1m  0.0 \u001b[m\u001b[mhi,\u001b[m\u001b[m\u001b[1m  0.0 \u001b[m\u001b[msi,\u001b[m\u001b[m\u001b[1m  0.0 \u001b[m\u001b[mst\u001b[m\u001b[m\u001b[m\u001b[m\u001b[K\n",
            "MiB Mem :\u001b[m\u001b[m\u001b[1m  12985.5 \u001b[m\u001b[mtotal,\u001b[m\u001b[m\u001b[1m   8799.2 \u001b[m\u001b[mfree,\u001b[m\u001b[m\u001b[1m    946.2 \u001b[m\u001b[mused,\u001b[m\u001b[m\u001b[1m   3240.1 \u001b[m\u001b[mbuff/cache\u001b[m\u001b[m\u001b[m\u001b[m\u001b[K\n",
            "MiB Swap:\u001b[m\u001b[m\u001b[1m      0.0 \u001b[m\u001b[mtotal,\u001b[m\u001b[m\u001b[1m      0.0 \u001b[m\u001b[mfree,\u001b[m\u001b[m\u001b[1m      0.0 \u001b[m\u001b[mused.\u001b[m\u001b[m\u001b[1m  11755.6 \u001b[m\u001b[mavail Mem \u001b[m\u001b[m\u001b[m\u001b[m\u001b[K\n",
            "\u001b[K\n",
            "\n",
            "\u001b[m    311 root      20   0 1284256 189676  62036 S   1.3   1.4   0:09.38 python3  \u001b[m\u001b[m\u001b[K\n",
            "\u001b[m     34 root      20   0  722040  15152   8160 S   0.7   0.1   0:00.60 kernel_+ \u001b[m\u001b[m\u001b[K\n",
            "\u001b[m      7 root      20   0  896552  50292  30672 S   0.3   0.4   0:04.73 node     \u001b[m\u001b[m\u001b[K\n",
            "\u001b[m     84 root      20   0  712892   8444   2848 S   0.3   0.1   0:00.38 dap_mul+ \u001b[m\u001b[m\u001b[K\n",
            "\u001b[m    346 root      20   0  538116  14556   5636 S   0.3   0.1   0:00.44 python3  \u001b[m\u001b[m\u001b[K\n",
            "\u001b[m    381 root      20   0 1112384 372256  30220 S   0.3   2.8   0:56.52 node     \u001b[m\u001b[m\u001b[K\n",
            "\u001b[m      1 root      20   0    1012      8      0 S   0.0   0.0   0:00.60 docker-+ \u001b[m\u001b[m\u001b[K\n",
            "\u001b[m     20 root      20   0    5524    584    512 S   0.0   0.0   0:00.65 tail     \u001b[m\u001b[m\u001b[K\n",
            "\u001b[m     31 root      20   0    6904   3428   3136 S   0.0   0.0   0:00.58 oom_mon+ \u001b[m\u001b[m\u001b[K\n",
            "\u001b[m     33 root      20   0    6904   1604   1328 S   0.0   0.0   0:00.00 run.sh   \u001b[m\u001b[m\u001b[K\n",
            "\u001b[m     61 root      20   0       0      0      0 Z   0.0   0.0   0:06.41 python3  \u001b[m\u001b[m\u001b[K\n",
            "\u001b[m     62 root      20   0   77204  44108  12944 S   0.0   0.3   0:00.70 colab-f+ \u001b[m\u001b[m\u001b[K\n",
            "\u001b[m     83 root      20   0  556668 152616  48356 S   0.0   1.1   0:05.45 jupyter+ \u001b[m\u001b[m\u001b[K\n",
            "\n",
            "\u001b[m   4575 root      20   0    5488    576    512 S   0.0   0.0   0:00.00 sleep    \u001b[m\u001b[m\u001b[K\n",
            "\u001b[J\u001b[H\u001b[mtop - 02:00:33 up 17 min,  0 users,  load average: 0.17, 0.37, 0.29\u001b[m\u001b[m\u001b[m\u001b[m\u001b[K\n",
            "\n",
            "%Cpu(s):\u001b[m\u001b[m\u001b[1m  8.7 \u001b[m\u001b[mus,\u001b[m\u001b[m\u001b[1m  3.3 \u001b[m\u001b[msy,\u001b[m\u001b[m\u001b[1m  0.0 \u001b[m\u001b[mni,\u001b[m\u001b[m\u001b[1m 88.0 \u001b[m\u001b[mid,\u001b[m\u001b[m\u001b[1m  0.0 \u001b[m\u001b[mwa,\u001b[m\u001b[m\u001b[1m  0.0 \u001b[m\u001b[mhi,\u001b[m\u001b[m\u001b[1m  0.0 \u001b[m\u001b[msi,\u001b[m\u001b[m\u001b[1m  0.0 \u001b[m\u001b[mst\u001b[m\u001b[m\u001b[m\u001b[m\u001b[K\n",
            "MiB Mem :\u001b[m\u001b[m\u001b[1m  12985.5 \u001b[m\u001b[mtotal,\u001b[m\u001b[m\u001b[1m   8798.9 \u001b[m\u001b[mfree,\u001b[m\u001b[m\u001b[1m    946.5 \u001b[m\u001b[mused,\u001b[m\u001b[m\u001b[1m   3240.1 \u001b[m\u001b[mbuff/cache\u001b[m\u001b[m\u001b[m\u001b[m\u001b[K\n",
            "MiB Swap:\u001b[m\u001b[m\u001b[1m      0.0 \u001b[m\u001b[mtotal,\u001b[m\u001b[m\u001b[1m      0.0 \u001b[m\u001b[mfree,\u001b[m\u001b[m\u001b[1m      0.0 \u001b[m\u001b[mused.\u001b[m\u001b[m\u001b[1m  11755.3 \u001b[m\u001b[mavail Mem \u001b[m\u001b[m\u001b[m\u001b[m\u001b[K\n",
            "\u001b[K\n",
            "\n",
            "\u001b[m    311 root      20   0 1284256 189676  62036 S   1.0   1.4   0:09.41 python3  \u001b[m\u001b[m\u001b[K\n",
            "\u001b[m     83 root      20   0  556668 152616  48356 S   0.7   1.1   0:05.47 jupyter+ \u001b[m\u001b[m\u001b[K\n",
            "\u001b[m      7 root      20   0  896552  49664  30672 S   0.3   0.4   0:04.74 node     \u001b[m\u001b[m\u001b[K\n",
            "\u001b[m    346 root      20   0  538116  14556   5636 S   0.3   0.1   0:00.45 python3  \u001b[m\u001b[m\u001b[K\n",
            "\u001b[m      1 root      20   0    1012      8      0 S   0.0   0.0   0:00.60 docker-+ \u001b[m\u001b[m\u001b[K\n",
            "\u001b[m     20 root      20   0    5524    584    512 S   0.0   0.0   0:00.65 tail     \u001b[m\u001b[m\u001b[K\n",
            "\u001b[m     31 root      20   0    6904   3428   3136 S   0.0   0.0   0:00.58 oom_mon+ \u001b[m\u001b[m\u001b[K\n",
            "\u001b[m     33 root      20   0    6904   1604   1328 S   0.0   0.0   0:00.00 run.sh   \u001b[m\u001b[m\u001b[K\n",
            "\u001b[m     34 root      20   0  722040  15152   8160 S   0.0   0.1   0:00.60 kernel_+ \u001b[m\u001b[m\u001b[K\n",
            "\u001b[m     61 root      20   0       0      0      0 Z   0.0   0.0   0:06.41 python3  \u001b[m\u001b[m\u001b[K\n",
            "\u001b[m     62 root      20   0   77204  44108  12944 S   0.0   0.3   0:00.70 colab-f+ \u001b[m\u001b[m\u001b[K\n",
            "\u001b[m     84 root      20   0  712892   8444   2848 S   0.0   0.1   0:00.38 dap_mul+ \u001b[m\u001b[m\u001b[K\n",
            "\u001b[m    381 root      20   0 1112384 372256  30220 S   0.0   2.8   0:56.52 node     \u001b[m\u001b[m\u001b[K\n",
            "\n",
            "\u001b[m   4589 root      20   0    5488    580    512 S   0.0   0.0   0:00.00 sleep    \u001b[m\u001b[m\u001b[K\n",
            "\u001b[J\u001b[H\u001b[mtop - 02:00:36 up 18 min,  0 users,  load average: 0.24, 0.38, 0.30\u001b[m\u001b[m\u001b[m\u001b[m\u001b[K\n",
            "\n",
            "%Cpu(s):\u001b[m\u001b[m\u001b[1m 17.7 \u001b[m\u001b[mus,\u001b[m\u001b[m\u001b[1m  4.7 \u001b[m\u001b[msy,\u001b[m\u001b[m\u001b[1m  0.0 \u001b[m\u001b[mni,\u001b[m\u001b[m\u001b[1m 77.6 \u001b[m\u001b[mid,\u001b[m\u001b[m\u001b[1m  0.0 \u001b[m\u001b[mwa,\u001b[m\u001b[m\u001b[1m  0.0 \u001b[m\u001b[mhi,\u001b[m\u001b[m\u001b[1m  0.0 \u001b[m\u001b[msi,\u001b[m\u001b[m\u001b[1m  0.0 \u001b[m\u001b[mst\u001b[m\u001b[m\u001b[m\u001b[m\u001b[K\n",
            "MiB Mem :\u001b[m\u001b[m\u001b[1m  12985.5 \u001b[m\u001b[mtotal,\u001b[m\u001b[m\u001b[1m   8799.7 \u001b[m\u001b[mfree,\u001b[m\u001b[m\u001b[1m    945.7 \u001b[m\u001b[mused,\u001b[m\u001b[m\u001b[1m   3240.1 \u001b[m\u001b[mbuff/cache\u001b[m\u001b[m\u001b[m\u001b[m\u001b[K\n",
            "MiB Swap:\u001b[m\u001b[m\u001b[1m      0.0 \u001b[m\u001b[mtotal,\u001b[m\u001b[m\u001b[1m      0.0 \u001b[m\u001b[mfree,\u001b[m\u001b[m\u001b[1m      0.0 \u001b[m\u001b[mused.\u001b[m\u001b[m\u001b[1m  11756.1 \u001b[m\u001b[mavail Mem \u001b[m\u001b[m\u001b[m\u001b[m\u001b[K\n",
            "\u001b[K\n",
            "\n",
            "\u001b[m    311 root      20   0 1284256 189676  62036 S   0.7   1.4   0:09.43 python3  \u001b[m\u001b[m\u001b[K\n",
            "\u001b[m     84 root      20   0  712892   8444   2848 S   0.3   0.1   0:00.39 dap_mul+ \u001b[m\u001b[m\u001b[K\n",
            "\u001b[m    346 root      20   0  538116  14556   5636 S   0.3   0.1   0:00.46 python3  \u001b[m\u001b[m\u001b[K\n",
            "\u001b[m      1 root      20   0    1012      8      0 S   0.0   0.0   0:00.60 docker-+ \u001b[m\u001b[m\u001b[K\n",
            "\u001b[m      7 root      20   0  896552  49664  30672 S   0.0   0.4   0:04.74 node     \u001b[m\u001b[m\u001b[K\n",
            "\n",
            "\n",
            "\n",
            "\u001b[m     34 root      20   0  722040  15388   8160 S   0.0   0.1   0:00.60 kernel_+ \u001b[m\u001b[m\u001b[K\n",
            "\n",
            "\n",
            "\u001b[m     83 root      20   0  556668 152616  48356 S   0.0   1.1   0:05.47 jupyter+ \u001b[m\u001b[m\u001b[K\n",
            "\n",
            "\n",
            "\u001b[m   4601 root      20   0    5488    580    516 S   0.0   0.0   0:00.00 sleep    \u001b[m\u001b[m\u001b[K\n",
            "\u001b[J\u001b[H\u001b[mtop - 02:00:39 up 18 min,  0 users,  load average: 0.22, 0.37, 0.29\u001b[m\u001b[m\u001b[m\u001b[m\u001b[K\n",
            "\n",
            "%Cpu(s):\u001b[m\u001b[m\u001b[1m  1.2 \u001b[m\u001b[mus,\u001b[m\u001b[m\u001b[1m  0.8 \u001b[m\u001b[msy,\u001b[m\u001b[m\u001b[1m  0.0 \u001b[m\u001b[mni,\u001b[m\u001b[m\u001b[1m 97.8 \u001b[m\u001b[mid,\u001b[m\u001b[m\u001b[1m  0.0 \u001b[m\u001b[mwa,\u001b[m\u001b[m\u001b[1m  0.0 \u001b[m\u001b[mhi,\u001b[m\u001b[m\u001b[1m  0.2 \u001b[m\u001b[msi,\u001b[m\u001b[m\u001b[1m  0.0 \u001b[m\u001b[mst\u001b[m\u001b[m\u001b[m\u001b[m\u001b[K\n",
            "MiB Mem :\u001b[m\u001b[m\u001b[1m  12985.5 \u001b[m\u001b[mtotal,\u001b[m\u001b[m\u001b[1m   8799.4 \u001b[m\u001b[mfree,\u001b[m\u001b[m\u001b[1m    946.0 \u001b[m\u001b[mused,\u001b[m\u001b[m\u001b[1m   3240.1 \u001b[m\u001b[mbuff/cache\u001b[m\u001b[m\u001b[m\u001b[m\u001b[K\n",
            "MiB Swap:\u001b[m\u001b[m\u001b[1m      0.0 \u001b[m\u001b[mtotal,\u001b[m\u001b[m\u001b[1m      0.0 \u001b[m\u001b[mfree,\u001b[m\u001b[m\u001b[1m      0.0 \u001b[m\u001b[mused.\u001b[m\u001b[m\u001b[1m  11755.8 \u001b[m\u001b[mavail Mem \u001b[m\u001b[m\u001b[m\u001b[m\u001b[K\n",
            "\u001b[K\n",
            "\n",
            "\u001b[m    311 root      20   0 1284256 189676  62036 S   1.0   1.4   0:09.46 python3  \u001b[m\u001b[m\u001b[K\n",
            "\u001b[m     34 root      20   0  722040  15652   8160 S   0.3   0.1   0:00.61 kernel_+ \u001b[m\u001b[m\u001b[K\n",
            "\u001b[m     83 root      20   0  556668 152616  48356 S   0.3   1.1   0:05.48 jupyter+ \u001b[m\u001b[m\u001b[K\n",
            "\u001b[m    346 root      20   0  538116  14556   5636 S   0.3   0.1   0:00.47 python3  \u001b[m\u001b[m\u001b[K\n",
            "\u001b[m      1 root      20   0    1012      8      0 S   0.0   0.0   0:00.60 docker-+ \u001b[m\u001b[m\u001b[K\n",
            "\u001b[m      7 root      20   0  896552  49664  30672 S   0.0   0.4   0:04.74 node     \u001b[m\u001b[m\u001b[K\n",
            "\u001b[m     20 root      20   0    5524    584    512 S   0.0   0.0   0:00.65 tail     \u001b[m\u001b[m\u001b[K\n",
            "\u001b[m     31 root      20   0    6904   3428   3136 S   0.0   0.0   0:00.58 oom_mon+ \u001b[m\u001b[m\u001b[K\n",
            "\u001b[m     33 root      20   0    6904   1604   1328 S   0.0   0.0   0:00.00 run.sh   \u001b[m\u001b[m\u001b[K\n",
            "\n",
            "\n",
            "\u001b[m     84 root      20   0  712892   8444   2848 S   0.0   0.1   0:00.39 dap_mul+ \u001b[m\u001b[m\u001b[K\n",
            "\n",
            "\n",
            "\u001b[m   4613 root      20   0    5488    520    448 S   0.0   0.0   0:00.00 sleep    \u001b[m\u001b[m\u001b[K\n",
            "\u001b[J\u001b[H\u001b[mtop - 02:00:42 up 18 min,  0 users,  load average: 0.22, 0.37, 0.29\u001b[m\u001b[m\u001b[m\u001b[m\u001b[K\n",
            "\n",
            "%Cpu(s):\u001b[m\u001b[m\u001b[1m  1.5 \u001b[m\u001b[mus,\u001b[m\u001b[m\u001b[1m  1.0 \u001b[m\u001b[msy,\u001b[m\u001b[m\u001b[1m  0.0 \u001b[m\u001b[mni,\u001b[m\u001b[m\u001b[1m 97.5 \u001b[m\u001b[mid,\u001b[m\u001b[m\u001b[1m  0.0 \u001b[m\u001b[mwa,\u001b[m\u001b[m\u001b[1m  0.0 \u001b[m\u001b[mhi,\u001b[m\u001b[m\u001b[1m  0.0 \u001b[m\u001b[msi,\u001b[m\u001b[m\u001b[1m  0.0 \u001b[m\u001b[mst\u001b[m\u001b[m\u001b[m\u001b[m\u001b[K\n",
            "MiB Mem :\u001b[m\u001b[m\u001b[1m  12985.5 \u001b[m\u001b[mtotal,\u001b[m\u001b[m\u001b[1m   8799.2 \u001b[m\u001b[mfree,\u001b[m\u001b[m\u001b[1m    946.3 \u001b[m\u001b[mused,\u001b[m\u001b[m\u001b[1m   3240.1 \u001b[m\u001b[mbuff/cache\u001b[m\u001b[m\u001b[m\u001b[m\u001b[K\n",
            "MiB Swap:\u001b[m\u001b[m\u001b[1m      0.0 \u001b[m\u001b[mtotal,\u001b[m\u001b[m\u001b[1m      0.0 \u001b[m\u001b[mfree,\u001b[m\u001b[m\u001b[1m      0.0 \u001b[m\u001b[mused.\u001b[m\u001b[m\u001b[1m  11755.6 \u001b[m\u001b[mavail Mem \u001b[m\u001b[m\u001b[m\u001b[m\u001b[K\n",
            "\u001b[K\n",
            "\n",
            "\u001b[m    311 root      20   0 1284256 189676  62036 S   1.0   1.4   0:09.49 python3  \u001b[m\u001b[m\u001b[K\n",
            "\u001b[m    346 root      20   0  538116  14556   5636 S   0.3   0.1   0:00.48 python3  \u001b[m\u001b[m\u001b[K\n",
            "\u001b[m      1 root      20   0    1012      8      0 S   0.0   0.0   0:00.60 docker-+ \u001b[m\u001b[m\u001b[K\n",
            "\u001b[m      7 root      20   0  896552  49664  30672 S   0.0   0.4   0:04.74 node     \u001b[m\u001b[m\u001b[K\n",
            "\u001b[m     20 root      20   0    5524    584    512 S   0.0   0.0   0:00.65 tail     \u001b[m\u001b[m\u001b[K\n",
            "\u001b[m     31 root      20   0    6904   3428   3136 S   0.0   0.0   0:00.58 oom_mon+ \u001b[m\u001b[m\u001b[K\n",
            "\u001b[m     33 root      20   0    6904   1604   1328 S   0.0   0.0   0:00.00 run.sh   \u001b[m\u001b[m\u001b[K\n",
            "\u001b[m     34 root      20   0  722040  15652   8160 S   0.0   0.1   0:00.61 kernel_+ \u001b[m\u001b[m\u001b[K\n",
            "\u001b[m     61 root      20   0       0      0      0 Z   0.0   0.0   0:06.41 python3  \u001b[m\u001b[m\u001b[K\n",
            "\u001b[m     62 root      20   0   77204  44108  12944 S   0.0   0.3   0:00.70 colab-f+ \u001b[m\u001b[m\u001b[K\n",
            "\u001b[m     83 root      20   0  556668 152616  48356 S   0.0   1.1   0:05.48 jupyter+ \u001b[m\u001b[m\u001b[K\n",
            "\n",
            "\n",
            "\n",
            "\u001b[m   4625 root      20   0    5488    584    516 S   0.0   0.0   0:00.00 sleep    \u001b[m\u001b[m\u001b[K\n",
            "\u001b[J\u001b[H\u001b[mtop - 02:00:45 up 18 min,  0 users,  load average: 0.20, 0.36, 0.29\u001b[m\u001b[m\u001b[m\u001b[m\u001b[K\n",
            "\n",
            "%Cpu(s):\u001b[m\u001b[m\u001b[1m 14.4 \u001b[m\u001b[mus,\u001b[m\u001b[m\u001b[1m  3.2 \u001b[m\u001b[msy,\u001b[m\u001b[m\u001b[1m  0.0 \u001b[m\u001b[mni,\u001b[m\u001b[m\u001b[1m 82.3 \u001b[m\u001b[mid,\u001b[m\u001b[m\u001b[1m  0.0 \u001b[m\u001b[mwa,\u001b[m\u001b[m\u001b[1m  0.0 \u001b[m\u001b[mhi,\u001b[m\u001b[m\u001b[1m  0.0 \u001b[m\u001b[msi,\u001b[m\u001b[m\u001b[1m  0.2 \u001b[m\u001b[mst\u001b[m\u001b[m\u001b[m\u001b[m\u001b[K\n",
            "MiB Mem :\u001b[m\u001b[m\u001b[1m  12985.5 \u001b[m\u001b[mtotal,\u001b[m\u001b[m\u001b[1m   8798.5 \u001b[m\u001b[mfree,\u001b[m\u001b[m\u001b[1m    947.0 \u001b[m\u001b[mused,\u001b[m\u001b[m\u001b[1m   3240.1 \u001b[m\u001b[mbuff/cache\u001b[m\u001b[m\u001b[m\u001b[m\u001b[K\n",
            "MiB Swap:\u001b[m\u001b[m\u001b[1m      0.0 \u001b[m\u001b[mtotal,\u001b[m\u001b[m\u001b[1m      0.0 \u001b[m\u001b[mfree,\u001b[m\u001b[m\u001b[1m      0.0 \u001b[m\u001b[mused.\u001b[m\u001b[m\u001b[1m  11754.9 \u001b[m\u001b[mavail Mem \u001b[m\u001b[m\u001b[m\u001b[m\u001b[K\n",
            "\u001b[K\n",
            "\n",
            "\u001b[m    311 root      20   0 1284256 189676  62036 S   0.7   1.4   0:09.51 python3  \u001b[m\u001b[m\u001b[K\n",
            "\u001b[m      7 root      20   0  896552  49928  30672 S   0.3   0.4   0:04.75 node     \u001b[m\u001b[m\u001b[K\n",
            "\u001b[m     34 root      20   0  722040  15652   8160 S   0.3   0.1   0:00.62 kernel_+ \u001b[m\u001b[m\u001b[K\n",
            "\u001b[m     84 root      20   0  712892   8584   2848 S   0.3   0.1   0:00.40 dap_mul+ \u001b[m\u001b[m\u001b[K\n",
            "\u001b[m    346 root      20   0  538116  14556   5636 S   0.3   0.1   0:00.49 python3  \u001b[m\u001b[m\u001b[K\n",
            "\u001b[m      1 root      20   0    1012      8      0 S   0.0   0.0   0:00.60 docker-+ \u001b[m\u001b[m\u001b[K\n",
            "\u001b[m     20 root      20   0    5524    584    512 S   0.0   0.0   0:00.65 tail     \u001b[m\u001b[m\u001b[K\n",
            "\u001b[m     31 root      20   0    6904   3428   3136 S   0.0   0.0   0:00.58 oom_mon+ \u001b[m\u001b[m\u001b[K\n",
            "\u001b[m     33 root      20   0    6904   1604   1328 S   0.0   0.0   0:00.00 run.sh   \u001b[m\u001b[m\u001b[K\n",
            "\u001b[m     61 root      20   0       0      0      0 Z   0.0   0.0   0:06.41 python3  \u001b[m\u001b[m\u001b[K\n",
            "\u001b[m     62 root      20   0   77204  44108  12944 S   0.0   0.3   0:00.70 colab-f+ \u001b[m\u001b[m\u001b[K\n",
            "\u001b[m     83 root      20   0  556668 152616  48356 S   0.0   1.1   0:05.48 jupyter+ \u001b[m\u001b[m\u001b[K\n",
            "\n",
            "\n",
            "\u001b[m   4637 root      20   0    5488    516    448 S   0.0   0.0   0:00.00 sleep    \u001b[m\u001b[m\u001b[K\n",
            "\u001b[J\u001b[H\u001b[mtop - 02:00:48 up 18 min,  0 users,  load average: 0.20, 0.36, 0.29\u001b[m\u001b[m\u001b[m\u001b[m\u001b[K\n",
            "\n",
            "%Cpu(s):\u001b[m\u001b[m\u001b[1m 12.1 \u001b[m\u001b[mus,\u001b[m\u001b[m\u001b[1m  4.0 \u001b[m\u001b[msy,\u001b[m\u001b[m\u001b[1m  0.0 \u001b[m\u001b[mni,\u001b[m\u001b[m\u001b[1m 83.7 \u001b[m\u001b[mid,\u001b[m\u001b[m\u001b[1m  0.0 \u001b[m\u001b[mwa,\u001b[m\u001b[m\u001b[1m  0.0 \u001b[m\u001b[mhi,\u001b[m\u001b[m\u001b[1m  0.2 \u001b[m\u001b[msi,\u001b[m\u001b[m\u001b[1m  0.0 \u001b[m\u001b[mst\u001b[m\u001b[m\u001b[m\u001b[m\u001b[K\n",
            "MiB Mem :\u001b[m\u001b[m\u001b[1m  12985.5 \u001b[m\u001b[mtotal,\u001b[m\u001b[m\u001b[1m   8799.4 \u001b[m\u001b[mfree,\u001b[m\u001b[m\u001b[1m    946.1 \u001b[m\u001b[mused,\u001b[m\u001b[m\u001b[1m   3240.1 \u001b[m\u001b[mbuff/cache\u001b[m\u001b[m\u001b[m\u001b[m\u001b[K\n",
            "MiB Swap:\u001b[m\u001b[m\u001b[1m      0.0 \u001b[m\u001b[mtotal,\u001b[m\u001b[m\u001b[1m      0.0 \u001b[m\u001b[mfree,\u001b[m\u001b[m\u001b[1m      0.0 \u001b[m\u001b[mused.\u001b[m\u001b[m\u001b[1m  11755.7 \u001b[m\u001b[mavail Mem \u001b[m\u001b[m\u001b[m\u001b[m\u001b[K\n",
            "\u001b[K\n",
            "\n",
            "\u001b[m    311 root      20   0 1284256 189676  62036 S   1.0   1.4   0:09.54 python3  \u001b[m\u001b[m\u001b[K\n",
            "\u001b[m     31 root      20   0    6904   3428   3136 S   0.3   0.0   0:00.59 oom_mon+ \u001b[m\u001b[m\u001b[K\n",
            "\u001b[m    346 root      20   0  538116  14556   5636 S   0.3   0.1   0:00.50 python3  \u001b[m\u001b[m\u001b[K\n",
            "\u001b[m      1 root      20   0    1012      8      0 S   0.0   0.0   0:00.60 docker-+ \u001b[m\u001b[m\u001b[K\n",
            "\u001b[m      7 root      20   0  896552  49928  30672 S   0.0   0.4   0:04.75 node     \u001b[m\u001b[m\u001b[K\n",
            "\u001b[m     20 root      20   0    5524    584    512 S   0.0   0.0   0:00.65 tail     \u001b[m\u001b[m\u001b[K\n",
            "\u001b[m     33 root      20   0    6904   1604   1328 S   0.0   0.0   0:00.00 run.sh   \u001b[m\u001b[m\u001b[K\n",
            "\u001b[m     34 root      20   0  722040  15792   8168 S   0.0   0.1   0:00.62 kernel_+ \u001b[m\u001b[m\u001b[K\n",
            "\u001b[m     61 root      20   0       0      0      0 Z   0.0   0.0   0:06.41 python3  \u001b[m\u001b[m\u001b[K\n",
            "\u001b[m     62 root      20   0   77204  44108  12944 S   0.0   0.3   0:00.70 colab-f+ \u001b[m\u001b[m\u001b[K\n",
            "\u001b[m     83 root      20   0  556668 152616  48356 S   0.0   1.1   0:05.48 jupyter+ \u001b[m\u001b[m\u001b[K\n",
            "\u001b[m     84 root      20   0  712892   8584   2848 S   0.0   0.1   0:00.40 dap_mul+ \u001b[m\u001b[m\u001b[K\n",
            "\n",
            "\n",
            "\u001b[m   4649 root      20   0    5488    588    516 S   0.0   0.0   0:00.00 sleep    \u001b[m\u001b[m\u001b[K\n",
            "\u001b[J\u001b[H\u001b[mtop - 02:00:51 up 18 min,  0 users,  load average: 0.18, 0.36, 0.29\u001b[m\u001b[m\u001b[m\u001b[m\u001b[K\n",
            "\n",
            "%Cpu(s):\u001b[m\u001b[m\u001b[1m  1.3 \u001b[m\u001b[mus,\u001b[m\u001b[m\u001b[1m  0.8 \u001b[m\u001b[msy,\u001b[m\u001b[m\u001b[1m  0.0 \u001b[m\u001b[mni,\u001b[m\u001b[m\u001b[1m 97.8 \u001b[m\u001b[mid,\u001b[m\u001b[m\u001b[1m  0.0 \u001b[m\u001b[mwa,\u001b[m\u001b[m\u001b[1m  0.0 \u001b[m\u001b[mhi,\u001b[m\u001b[m\u001b[1m  0.0 \u001b[m\u001b[msi,\u001b[m\u001b[m\u001b[1m  0.0 \u001b[m\u001b[mst\u001b[m\u001b[m\u001b[m\u001b[m\u001b[K\n",
            "MiB Mem :\u001b[m\u001b[m\u001b[1m  12985.5 \u001b[m\u001b[mtotal,\u001b[m\u001b[m\u001b[1m   8799.2 \u001b[m\u001b[mfree,\u001b[m\u001b[m\u001b[1m    946.2 \u001b[m\u001b[mused,\u001b[m\u001b[m\u001b[1m   3240.1 \u001b[m\u001b[mbuff/cache\u001b[m\u001b[m\u001b[m\u001b[m\u001b[K\n",
            "MiB Swap:\u001b[m\u001b[m\u001b[1m      0.0 \u001b[m\u001b[mtotal,\u001b[m\u001b[m\u001b[1m      0.0 \u001b[m\u001b[mfree,\u001b[m\u001b[m\u001b[1m      0.0 \u001b[m\u001b[mused.\u001b[m\u001b[m\u001b[1m  11755.6 \u001b[m\u001b[mavail Mem \u001b[m\u001b[m\u001b[m\u001b[m\u001b[K\n",
            "\u001b[K\n",
            "\n",
            "\u001b[m    311 root      20   0 1284256 189676  62036 S   0.7   1.4   0:09.56 python3  \u001b[m\u001b[m\u001b[K\n",
            "\u001b[m     31 root      20   0    6904   3428   3136 S   0.3   0.0   0:00.60 oom_mon+ \u001b[m\u001b[m\u001b[K\n",
            "\u001b[m     34 root      20   0  722040  15792   8168 S   0.3   0.1   0:00.63 kernel_+ \u001b[m\u001b[m\u001b[K\n",
            "\u001b[m     83 root      20   0  556668 152616  48356 S   0.3   1.1   0:05.49 jupyter+ \u001b[m\u001b[m\u001b[K\n",
            "\u001b[m\u001b[1m   3953 root      20   0    9128   3604   3112 R   0.3   0.0   0:00.06 top      \u001b[m\u001b[m\u001b[K\n",
            "\u001b[m      1 root      20   0    1012      8      0 S   0.0   0.0   0:00.60 docker-+ \u001b[m\u001b[m\u001b[K\n",
            "\u001b[m      7 root      20   0  896552  49928  30672 S   0.0   0.4   0:04.75 node     \u001b[m\u001b[m\u001b[K\n",
            "\u001b[m     20 root      20   0    5524    584    512 S   0.0   0.0   0:00.65 tail     \u001b[m\u001b[m\u001b[K\n",
            "\u001b[m     33 root      20   0    6904   1604   1328 S   0.0   0.0   0:00.00 run.sh   \u001b[m\u001b[m\u001b[K\n",
            "\u001b[m     61 root      20   0       0      0      0 Z   0.0   0.0   0:06.41 python3  \u001b[m\u001b[m\u001b[K\n",
            "\u001b[m     62 root      20   0   77204  44108  12944 S   0.0   0.3   0:00.70 colab-f+ \u001b[m\u001b[m\u001b[K\n",
            "\n",
            "\u001b[m    346 root      20   0  538116  14556   5636 S   0.0   0.1   0:00.50 python3  \u001b[m\u001b[m\u001b[K\n",
            "\u001b[m    381 root      20   0 1112384 372256  30220 S   0.0   2.8   0:56.52 node     \u001b[m\u001b[m\u001b[K\n",
            "\u001b[m   4661 root      20   0    5488    580    512 S   0.0   0.0   0:00.00 sleep    \u001b[m\u001b[m\u001b[K\n",
            "\u001b[J\u001b[H\u001b[mtop - 02:00:54 up 18 min,  0 users,  load average: 0.17, 0.35, 0.29\u001b[m\u001b[m\u001b[m\u001b[m\u001b[K\n",
            "\n",
            "%Cpu(s):\u001b[m\u001b[m\u001b[1m  1.3 \u001b[m\u001b[mus,\u001b[m\u001b[m\u001b[1m  1.0 \u001b[m\u001b[msy,\u001b[m\u001b[m\u001b[1m  0.0 \u001b[m\u001b[mni,\u001b[m\u001b[m\u001b[1m 97.7 \u001b[m\u001b[mid,\u001b[m\u001b[m\u001b[1m  0.0 \u001b[m\u001b[mwa,\u001b[m\u001b[m\u001b[1m  0.0 \u001b[m\u001b[mhi,\u001b[m\u001b[m\u001b[1m  0.0 \u001b[m\u001b[msi,\u001b[m\u001b[m\u001b[1m  0.0 \u001b[m\u001b[mst\u001b[m\u001b[m\u001b[m\u001b[m\u001b[K\n",
            "MiB Mem :\u001b[m\u001b[m\u001b[1m  12985.5 \u001b[m\u001b[mtotal,\u001b[m\u001b[m\u001b[1m   8799.2 \u001b[m\u001b[mfree,\u001b[m\u001b[m\u001b[1m    946.3 \u001b[m\u001b[mused,\u001b[m\u001b[m\u001b[1m   3240.1 \u001b[m\u001b[mbuff/cache\u001b[m\u001b[m\u001b[m\u001b[m\u001b[K\n",
            "\n",
            "\u001b[K\n",
            "\n",
            "\u001b[m    311 root      20   0 1284256 189676  62036 S   1.0   1.4   0:09.59 python3  \u001b[m\u001b[m\u001b[K\n",
            "\u001b[m      7 root      20   0  896552  49928  30672 S   0.3   0.4   0:04.76 node     \u001b[m\u001b[m\u001b[K\n",
            "\u001b[m     84 root      20   0  712892   8584   2848 S   0.3   0.1   0:00.41 dap_mul+ \u001b[m\u001b[m\u001b[K\n",
            "\u001b[m    346 root      20   0  538116  14556   5636 S   0.3   0.1   0:00.51 python3  \u001b[m\u001b[m\u001b[K\n",
            "\u001b[m      1 root      20   0    1012      8      0 S   0.0   0.0   0:00.60 docker-+ \u001b[m\u001b[m\u001b[K\n",
            "\u001b[m     20 root      20   0    5524    584    512 S   0.0   0.0   0:00.65 tail     \u001b[m\u001b[m\u001b[K\n",
            "\u001b[m     31 root      20   0    6904   3428   3136 S   0.0   0.0   0:00.60 oom_mon+ \u001b[m\u001b[m\u001b[K\n",
            "\u001b[m     33 root      20   0    6904   1604   1328 S   0.0   0.0   0:00.00 run.sh   \u001b[m\u001b[m\u001b[K\n",
            "\u001b[m     34 root      20   0  722040  15480   8168 S   0.0   0.1   0:00.63 kernel_+ \u001b[m\u001b[m\u001b[K\n",
            "\n",
            "\n",
            "\u001b[m     83 root      20   0  556668 152616  48356 S   0.0   1.1   0:05.49 jupyter+ \u001b[m\u001b[m\u001b[K\n",
            "\u001b[m    381 root      20   0 1112384 372256  30220 S   0.0   2.8   0:56.52 node     \u001b[m\u001b[m\u001b[K\n",
            "\u001b[m\u001b[1m   3953 root      20   0    9128   3604   3112 R   0.0   0.0   0:00.06 top      \u001b[m\u001b[m\u001b[K\n",
            "\u001b[m   4673 root      20   0    5488    588    516 S   0.0   0.0   0:00.00 sleep    \u001b[m\u001b[m\u001b[K\n",
            "\u001b[J\u001b[?1l\u001b>\u001b[25;1H\n",
            "\u001b[K"
          ]
        }
      ]
    },
    {
      "cell_type": "markdown",
      "source": [
        "8.GPU 종류와 VRAM 용량확인"
      ],
      "metadata": {
        "id": "nPSf__tiWFxJ"
      }
    },
    {
      "cell_type": "code",
      "source": [
        "!nvidia-smi"
      ],
      "metadata": {
        "colab": {
          "base_uri": "https://localhost:8080/"
        },
        "id": "Of60lwBDWLX6",
        "outputId": "7f234970-5aa6-4219-c5c0-eee0eaa72691"
      },
      "execution_count": 1,
      "outputs": [
        {
          "output_type": "stream",
          "name": "stdout",
          "text": [
            "Thu Apr 13 02:01:47 2023       \n",
            "+-----------------------------------------------------------------------------+\n",
            "| NVIDIA-SMI 525.85.12    Driver Version: 525.85.12    CUDA Version: 12.0     |\n",
            "|-------------------------------+----------------------+----------------------+\n",
            "| GPU  Name        Persistence-M| Bus-Id        Disp.A | Volatile Uncorr. ECC |\n",
            "| Fan  Temp  Perf  Pwr:Usage/Cap|         Memory-Usage | GPU-Util  Compute M. |\n",
            "|                               |                      |               MIG M. |\n",
            "|===============================+======================+======================|\n",
            "|   0  Tesla T4            Off  | 00000000:00:04.0 Off |                    0 |\n",
            "| N/A   47C    P8    10W /  70W |      0MiB / 15360MiB |      0%      Default |\n",
            "|                               |                      |                  N/A |\n",
            "+-------------------------------+----------------------+----------------------+\n",
            "                                                                               \n",
            "+-----------------------------------------------------------------------------+\n",
            "| Processes:                                                                  |\n",
            "|  GPU   GI   CI        PID   Type   Process name                  GPU Memory |\n",
            "|        ID   ID                                                   Usage      |\n",
            "|=============================================================================|\n",
            "|  No running processes found                                                 |\n",
            "+-----------------------------------------------------------------------------+\n"
          ]
        }
      ]
    },
    {
      "cell_type": "markdown",
      "source": [
        "9. 프로세스 끄기"
      ],
      "metadata": {
        "id": "scxBaDY2WzkA"
      }
    },
    {
      "cell_type": "code",
      "source": [
        "!kill -9 PID #프로세스 아이디\n",
        "\n",
        "#프로젝트 를 끈다   -9 (레벨, 강제종료)    PID 프로세스 아이디"
      ],
      "metadata": {
        "colab": {
          "base_uri": "https://localhost:8080/"
        },
        "id": "VD7GP9ueW2mb",
        "outputId": "3aa583e4-7beb-40e8-aad9-c59d5c565023"
      },
      "execution_count": 2,
      "outputs": [
        {
          "output_type": "stream",
          "name": "stdout",
          "text": [
            "/bin/bash: line 0: kill: PID: arguments must be process or job IDs\n"
          ]
        }
      ]
    },
    {
      "cell_type": "markdown",
      "source": [
        "10. 파일들의 권한 및 모든 정보 확인하기"
      ],
      "metadata": {
        "id": "0qTiPpJtafCk"
      }
    },
    {
      "cell_type": "code",
      "source": [
        "!ls -al                 \n",
        "\n",
        "# root directory ==> 1  그 안에 /content 그안에 .config  , sample_data"
      ],
      "metadata": {
        "colab": {
          "base_uri": "https://localhost:8080/"
        },
        "id": "_g9XX_JFagzU",
        "outputId": "698b2c5b-6396-4fcf-a87d-74cb2403f6f6"
      },
      "execution_count": 3,
      "outputs": [
        {
          "output_type": "stream",
          "name": "stdout",
          "text": [
            "total 16\n",
            "drwxr-xr-x 1 root root 4096 Apr 11 13:33 .\n",
            "drwxr-xr-x 1 root root 4096 Apr 13 02:01 ..\n",
            "drwxr-xr-x 4 root root 4096 Apr 11 13:32 .config\n",
            "drwxr-xr-x 1 root root 4096 Apr 11 13:33 sample_data\n"
          ]
        }
      ]
    },
    {
      "cell_type": "code",
      "source": [],
      "metadata": {
        "id": "yxiUbrkLah5h"
      },
      "execution_count": null,
      "outputs": []
    },
    {
      "cell_type": "markdown",
      "source": [
        "11. 특정 정보만 조회하기"
      ],
      "metadata": {
        "id": "8PoS2CkwbfrO"
      }
    },
    {
      "cell_type": "code",
      "source": [
        "!ls *.csv"
      ],
      "metadata": {
        "colab": {
          "base_uri": "https://localhost:8080/"
        },
        "id": "nXtlXidXbhwt",
        "outputId": "463902ea-d372-45da-fb7e-4a75b04781bf"
      },
      "execution_count": 4,
      "outputs": [
        {
          "output_type": "stream",
          "name": "stdout",
          "text": [
            "Jeju.csv  titanic.csv\n"
          ]
        }
      ]
    },
    {
      "cell_type": "code",
      "source": [
        "!ls -al *.csv  "
      ],
      "metadata": {
        "colab": {
          "base_uri": "https://localhost:8080/"
        },
        "id": "weFYVBRUbjKr",
        "outputId": "aa92b703-472e-462e-a1fd-6045ef2f3ad5"
      },
      "execution_count": 5,
      "outputs": [
        {
          "output_type": "stream",
          "name": "stdout",
          "text": [
            "-rw-r--r-- 1 root root 1125558 Apr 13 02:24 Jeju.csv\n",
            "-rw-r--r-- 1 root root   60302 Apr 13 02:24 titanic.csv\n"
          ]
        }
      ]
    },
    {
      "cell_type": "markdown",
      "source": [
        "12. 권한 바꾸기"
      ],
      "metadata": {
        "id": "HlFedMsecRqf"
      }
    },
    {
      "cell_type": "code",
      "source": [
        "!ls -al\n",
        "# 421 421 421\n",
        "#drwx rwx rwx"
      ],
      "metadata": {
        "colab": {
          "base_uri": "https://localhost:8080/"
        },
        "id": "xfGGgNVocVks",
        "outputId": "bff5bea0-1251-4bb6-e157-f3f15ef6eae3"
      },
      "execution_count": 8,
      "outputs": [
        {
          "output_type": "stream",
          "name": "stdout",
          "text": [
            "total 1208\n",
            "drwxr-xr-x 1 root root    4096 Apr 13 02:24 .\n",
            "drwxr-xr-x 1 root root    4096 Apr 13 02:01 ..\n",
            "drwxr-xr-x 4 root root    4096 Apr 11 13:32 .config\n",
            "-rw-r--r-- 1 root root   28330 Apr 13 02:23 판다스문제.ipynb\n",
            "-rw-r--r-- 1 root root 1125558 Apr 13 02:24 Jeju.csv\n",
            "drwxr-xr-x 1 root root    4096 Apr 13 02:27 sample_data\n",
            "-rw-r--r-- 1 root root   60302 Apr 13 02:24 titanic.csv\n"
          ]
        }
      ]
    },
    {
      "cell_type": "code",
      "source": [
        "!chmod 777 ./Jeju.csv"
      ],
      "metadata": {
        "id": "SsgP340ycjzl"
      },
      "execution_count": 9,
      "outputs": []
    },
    {
      "cell_type": "code",
      "source": [
        "!ls -al"
      ],
      "metadata": {
        "colab": {
          "base_uri": "https://localhost:8080/"
        },
        "id": "gSocuBRBcrz0",
        "outputId": "0d3af3f5-fd24-4c7d-acdd-b91b7da7e7c0"
      },
      "execution_count": 10,
      "outputs": [
        {
          "output_type": "stream",
          "name": "stdout",
          "text": [
            "total 1208\n",
            "drwxr-xr-x 1 root root    4096 Apr 13 02:24 .\n",
            "drwxr-xr-x 1 root root    4096 Apr 13 02:01 ..\n",
            "drwxr-xr-x 4 root root    4096 Apr 11 13:32 .config\n",
            "-rw-r--r-- 1 root root   28330 Apr 13 02:23 판다스문제.ipynb\n",
            "-rwxrwxrwx 1 root root 1125558 Apr 13 02:24 Jeju.csv\n",
            "drwxr-xr-x 1 root root    4096 Apr 13 02:27 sample_data\n",
            "-rw-r--r-- 1 root root   60302 Apr 13 02:24 titanic.csv\n"
          ]
        }
      ]
    },
    {
      "cell_type": "code",
      "source": [
        "# 777 인 이유는    rwx 4 2 1 => 4+2+1  이라서. "
      ],
      "metadata": {
        "id": "Uqbgodj2ctCa"
      },
      "execution_count": 11,
      "outputs": []
    },
    {
      "cell_type": "code",
      "source": [
        "!chmod 555 ./Jeju.csv"
      ],
      "metadata": {
        "id": "iYjAsn3Kc-7d"
      },
      "execution_count": 12,
      "outputs": []
    },
    {
      "cell_type": "code",
      "source": [
        "!ls -al"
      ],
      "metadata": {
        "colab": {
          "base_uri": "https://localhost:8080/"
        },
        "id": "GaIzkPb4dBRa",
        "outputId": "66fee2a5-e425-46c7-ac39-7de59190ec41"
      },
      "execution_count": 13,
      "outputs": [
        {
          "output_type": "stream",
          "name": "stdout",
          "text": [
            "total 1208\n",
            "drwxr-xr-x 1 root root    4096 Apr 13 02:24 .\n",
            "drwxr-xr-x 1 root root    4096 Apr 13 02:01 ..\n",
            "drwxr-xr-x 4 root root    4096 Apr 11 13:32 .config\n",
            "-rw-r--r-- 1 root root   28330 Apr 13 02:23 판다스문제.ipynb\n",
            "-r-xr-xr-x 1 root root 1125558 Apr 13 02:24 Jeju.csv\n",
            "drwxr-xr-x 1 root root    4096 Apr 13 02:27 sample_data\n",
            "-rw-r--r-- 1 root root   60302 Apr 13 02:24 titanic.csv\n"
          ]
        }
      ]
    },
    {
      "cell_type": "markdown",
      "source": [
        "13. 폴더 및 그 안에 있는 폴더도 싹다 권한 바꾸기 ★\n",
        "\n"
      ],
      "metadata": {
        "id": "G5LmkyQJdX5V"
      }
    },
    {
      "cell_type": "code",
      "source": [
        "!ls -al ./test/"
      ],
      "metadata": {
        "colab": {
          "base_uri": "https://localhost:8080/"
        },
        "id": "wBZwf1JIdamo",
        "outputId": "b1c55dc5-bfae-4982-9531-dcf251e3f9d4"
      },
      "execution_count": 14,
      "outputs": [
        {
          "output_type": "stream",
          "name": "stdout",
          "text": [
            "total 1172\n",
            "drwxr-xr-x 2 root root    4096 Apr 13 02:33 .\n",
            "drwxr-xr-x 1 root root    4096 Apr 13 02:33 ..\n",
            "-r-xr-xr-x 1 root root 1125558 Apr 13 02:24 Jeju.csv\n",
            "-rw-r--r-- 1 root root   60302 Apr 13 02:24 titanic.csv\n"
          ]
        }
      ]
    },
    {
      "cell_type": "code",
      "source": [
        "!chmod 777 -R ./test  # 내 현재 디렉토리가 content일때기준이고,     ./test안의 값을"
      ],
      "metadata": {
        "id": "WhOLgZAzdiAK"
      },
      "execution_count": 15,
      "outputs": []
    },
    {
      "cell_type": "code",
      "source": [
        "!ls -al ./test/"
      ],
      "metadata": {
        "colab": {
          "base_uri": "https://localhost:8080/"
        },
        "id": "MVGDX_twdsbe",
        "outputId": "c921c52d-e721-460c-9ce1-de56bcb1bc73"
      },
      "execution_count": 16,
      "outputs": [
        {
          "output_type": "stream",
          "name": "stdout",
          "text": [
            "total 1172\n",
            "drwxrwxrwx 2 root root    4096 Apr 13 02:33 .\n",
            "drwxr-xr-x 1 root root    4096 Apr 13 02:33 ..\n",
            "-rwxrwxrwx 1 root root 1125558 Apr 13 02:24 Jeju.csv\n",
            "-rwxrwxrwx 1 root root   60302 Apr 13 02:24 titanic.csv\n"
          ]
        }
      ]
    },
    {
      "cell_type": "markdown",
      "source": [
        "14. 파일 삭제하기"
      ],
      "metadata": {
        "id": "VY2URGrzeWYl"
      }
    },
    {
      "cell_type": "code",
      "source": [
        "!rm 판다스문제.ipynb"
      ],
      "metadata": {
        "id": "qF04CXhCeY5K"
      },
      "execution_count": null,
      "outputs": []
    },
    {
      "cell_type": "code",
      "source": [
        "!rm test"
      ],
      "metadata": {
        "colab": {
          "base_uri": "https://localhost:8080/"
        },
        "id": "kOxh66caeajv",
        "outputId": "7bc0c2c1-d157-4680-d88b-f3defe8ed872"
      },
      "execution_count": 18,
      "outputs": [
        {
          "output_type": "stream",
          "name": "stdout",
          "text": [
            "rm: cannot remove 'test': Is a directory\n"
          ]
        }
      ]
    },
    {
      "cell_type": "code",
      "source": [
        "!rm -r test"
      ],
      "metadata": {
        "id": "C8cnylEreg6p"
      },
      "execution_count": null,
      "outputs": []
    },
    {
      "cell_type": "markdown",
      "source": [
        "15. 컴퓨터 용량 확인하기"
      ],
      "metadata": {
        "id": "DKd2TKkfeusi"
      }
    },
    {
      "cell_type": "code",
      "source": [
        "!df -h"
      ],
      "metadata": {
        "id": "t2hGJa9nev6L"
      },
      "execution_count": null,
      "outputs": []
    },
    {
      "cell_type": "markdown",
      "source": [
        "16. 파일찾기"
      ],
      "metadata": {
        "id": "_sUb5Z4Pew-Y"
      }
    },
    {
      "cell_type": "code",
      "source": [
        "!find"
      ],
      "metadata": {
        "id": "a4rLa4Zmezs3"
      },
      "execution_count": null,
      "outputs": []
    }
  ]
}